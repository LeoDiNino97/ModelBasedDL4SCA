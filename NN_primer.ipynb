{
 "cells": [
  {
   "cell_type": "markdown",
   "metadata": {},
   "source": [
    "# Unrolling neural network training"
   ]
  },
  {
   "cell_type": "code",
   "execution_count": 6,
   "metadata": {},
   "outputs": [],
   "source": [
    "import numpy as np\n",
    "\n",
    "from tqdm import tqdm\n",
    "from matplotlib import pyplot as plt\n",
    "\n",
    "import torch, numpy as np\n",
    "import torch.nn.functional as F\n",
    "import torch.nn as nn\n",
    "import torch.utils.data as Data\n",
    "import matplotlib.pyplot as plt\n",
    "\n",
    "from sklearn.datasets import load_boston\n",
    "from sklearn.preprocessing import StandardScaler\n",
    "from sklearn.model_selection import train_test_split\n",
    "\n",
    "\n",
    "SEED = 4200\n",
    "torch.manual_seed(SEED)\n",
    "np.random.seed(SEED)\n",
    "\n",
    "torch.set_default_dtype(torch.float32)\n",
    "\n",
    "import warnings\n",
    "warnings.filterwarnings(\"ignore\")\n"
   ]
  },
  {
   "cell_type": "markdown",
   "metadata": {},
   "source": [
    "## Toy case models and datasets"
   ]
  },
  {
   "cell_type": "code",
   "execution_count": 211,
   "metadata": {},
   "outputs": [],
   "source": [
    "boston = load_boston()\n",
    "X = boston.data\n",
    "y = boston.target\n",
    "\n",
    "# Standardize the features\n",
    "scaler = StandardScaler()\n",
    "X = scaler.fit_transform(X)\n",
    "\n",
    "# Split the dataset into training and testing sets\n",
    "X_train, X_test, y_train, y_test = train_test_split(X, y, test_size=0.2, random_state=42)\n",
    "\n",
    "# Convert data to PyTorch tensors\n",
    "X_train_tensor = torch.tensor(X_train, dtype=torch.float32)\n",
    "y_train_tensor = torch.tensor(y_train, dtype=torch.float32).view(-1, 1)  # Reshape y_train to match model output shape\n",
    "X_test_tensor = torch.tensor(X_test, dtype=torch.float32)\n",
    "y_test_tensor = torch.tensor(y_test, dtype=torch.float32).view(-1, 1)  # Reshape y_test to match model output shape"
   ]
  },
  {
   "cell_type": "code",
   "execution_count": 212,
   "metadata": {},
   "outputs": [],
   "source": [
    "model = nn.Sequential(\n",
    "    nn.Linear(13, 30),\n",
    "    nn.ReLU(),\n",
    "    nn.Linear(30, 1)\n",
    ")\n",
    "\n",
    "optimizer = torch.optim.Adam(params=model.parameters(), lr=1e-1, weight_decay = 5e-4)\n",
    "criterion = nn.MSELoss()"
   ]
  },
  {
   "cell_type": "markdown",
   "metadata": {},
   "source": [
    "### Simple training loop "
   ]
  },
  {
   "cell_type": "code",
   "execution_count": 213,
   "metadata": {},
   "outputs": [
    {
     "name": "stdout",
     "output_type": "stream",
     "text": [
      "Epoch [10/100], Loss: 108.9392\n",
      "Epoch [20/100], Loss: 43.4876\n",
      "Epoch [30/100], Loss: 24.4725\n",
      "Epoch [40/100], Loss: 18.0850\n",
      "Epoch [50/100], Loss: 14.4142\n",
      "Epoch [60/100], Loss: 12.0501\n",
      "Epoch [70/100], Loss: 10.4739\n",
      "Epoch [80/100], Loss: 9.5392\n",
      "Epoch [90/100], Loss: 8.7902\n",
      "Epoch [100/100], Loss: 8.1955\n",
      "Test Loss: 12.1529\n"
     ]
    }
   ],
   "source": [
    "train_losses = []\n",
    "\n",
    "for epoch in range(100):\n",
    "    # Forward pass\n",
    "    \n",
    "    outputs = model(X_train_tensor)\n",
    "    loss = criterion(outputs, y_train_tensor)\n",
    "    \n",
    "    # Backward pass and optimization\n",
    "    optimizer.zero_grad()\n",
    "    loss.backward()\n",
    "    optimizer.step()\n",
    "    \n",
    "    # Store loss value\n",
    "    train_losses.append(loss.item())\n",
    "    \n",
    "    # Print progress\n",
    "    if (epoch+1) % 10 == 0:\n",
    "        print(f'Epoch [{epoch+1}/{100}], Loss: {loss.item():.4f}')\n",
    "\n",
    "# Evaluate the model on the test set\n",
    "with torch.no_grad():\n",
    "    test_outputs = model(X_test_tensor)\n",
    "    test_loss = criterion(test_outputs, y_test_tensor)\n",
    "    print(f'Test Loss: {test_loss.item():.4f}')"
   ]
  },
  {
   "cell_type": "code",
   "execution_count": 214,
   "metadata": {},
   "outputs": [
    {
     "data": {
      "text/plain": [
       "[<matplotlib.lines.Line2D at 0x25031d19ed0>]"
      ]
     },
     "execution_count": 214,
     "metadata": {},
     "output_type": "execute_result"
    },
    {
     "data": {
      "image/png": "[encoded data removed]",
      "text/plain": [
       "<Figure size 640x480 with 1 Axes>"
      ]
     },
     "metadata": {},
     "output_type": "display_data"
    }
   ],
   "source": [
    "plt.loglog(train_losses)"
   ]
  },
  {
   "cell_type": "markdown",
   "metadata": {},
   "source": [
    "### SCANTRA - DeepUnrolling SCA for Neural networks TRAining"
   ]
  },
  {
   "cell_type": "markdown",
   "metadata": {},
   "source": [
    "Let's try to define a surrogate loss using a general purpose second order approximations and the gradient of the feedforward network. "
   ]
  },
  {
   "cell_type": "code",
   "execution_count": 215,
   "metadata": {},
   "outputs": [],
   "source": [
    "class SCANTRALayer(nn.Module):\n",
    "    def __init__(self, model, lambda_ = 0.1, tau = 1, gamma = 0.9):\n",
    "        super().__init__()\n",
    "\n",
    "        # Initialization of the learnable parameters\n",
    "        self.lambda_ = nn.Parameter(torch.ones(1)*lambda_, requires_grad = True)\n",
    "        self.tau = nn.Parameter(torch.ones(1)*tau, requires_grad = True)\n",
    "        self.gamma = gamma\n",
    "        \n",
    "        self.B = []\n",
    "        for _, p in model.named_parameters():\n",
    "            self.B.append(nn.Parameter(torch.randn(p.shape[0]), requires_grad = True))\n",
    "\n",
    "        self.params = nn.ParameterList(self.B + [self.lambda_, self.tau])\n",
    "\n",
    "\n",
    "    def forward(self, model):\n",
    "        for i, (_, p) in enumerate(model.named_parameters()):\n",
    "            K = p.grad\n",
    "            print(K)\n",
    "            # Local optimization step\n",
    "            if len(p.shape) == 1:\n",
    "                I = torch.ones(self.B[i].shape[0])\n",
    "                H = self.B[i]**2 + self.tau*I\n",
    "                M = 1/((2*self.lambda_ + self.tau)*I + H)\n",
    "                \n",
    "            else:\n",
    "                I = self.tau*torch.eye(self.B[i].shape[0])\n",
    "                H = torch.outer(self.B[i],self.B[i]) + self.tau*I\n",
    "                M = torch.linalg.inv((2*self.lambda_ + self.tau)*I + H)\n",
    "\n",
    "            w_hat = M @ (H @ p - K)\n",
    "            #p_0 = p\n",
    "\n",
    "            with torch.no_grad():\n",
    "                p.copy_(p + self.gamma*(w_hat - p))\n",
    "\n",
    "            #print(torch.linalg.norm(p - p_0))"
   ]
  },
  {
   "cell_type": "code",
   "execution_count": 216,
   "metadata": {},
   "outputs": [],
   "source": [
    "class SCANTRANet(nn.Module):\n",
    "    def __init__(self, model, T = 10, lambda_ = 0.1, tau = 25, gamma = 0.8):\n",
    "        super(SCANTRANet, self).__init__()\n",
    "        \n",
    "        # Number of iterations <-> number of layers\n",
    "        self.T = T\n",
    "        \n",
    "        # Initialization of the learnable parameters\n",
    "        self.lambda_0 = torch.ones(T)*lambda_\n",
    "        self.tau_0 = torch.ones(T)*tau\n",
    "        self.gamma_0 = torch.ones(T)*gamma\n",
    "\n",
    "        for i in range(self.T):\n",
    "            self.gamma_0[i] *= 0.99**i\n",
    "            \n",
    "        # Defining the layers\n",
    "        self.SCANTRA_layers = nn.ModuleList([SCANTRALayer(model,\n",
    "                                                          self.lambda_0[i], \n",
    "                                                          self.tau_0[i], \n",
    "                                                          self.gamma_0[i]\n",
    "                                                          ) for i in range(self.T)])\n",
    "        \n",
    "        # Optimizer of the neural optimizer\n",
    "        self.optimizer = torch.optim.Adam(params=self.parameters(), lr=1e-1, weight_decay = 5e-4)\n",
    "        \n",
    "    def step(self, model, criterion, epoch, X_train_tensor, y_train_tensor):\n",
    "        \n",
    "        self.SCANTRA_layers[epoch].forward(model)\n",
    "        self.source = model\n",
    "        \n",
    "        # Compute loss\n",
    "        outputs = model(X_train_tensor)\n",
    "        loss = criterion(outputs, y_train_tensor)\n",
    "        \n",
    "        # Zero gradients for optimizer parameters\n",
    "        self.zero_grad()\n",
    "\n",
    "        # Compute gradients of loss with respect to optimizer parameters\n",
    "        loss.backward(retain_graph=True)\n",
    "\n",
    "        # Update optimizer parameters\n",
    "        self.optimizer.step()  \n"
   ]
  },
  {
   "cell_type": "code",
   "execution_count": 217,
   "metadata": {},
   "outputs": [],
   "source": [
    "model = nn.Sequential(\n",
    "    nn.Linear(13, 30),\n",
    "    nn.ReLU(),\n",
    "    nn.Linear(30, 1)\n",
    ")\n",
    "\n",
    "criterion = nn.MSELoss()\n",
    "optimizer = SCANTRANet(model, T = 100)"
   ]
  },
  {
   "cell_type": "markdown",
   "metadata": {},
   "source": [
    "The problem is: how do I train at the same time the network and the optimizer? "
   ]
  },
  {
   "cell_type": "code",
   "execution_count": null,
   "metadata": {},
   "outputs": [],
   "source": [
    "train_losses = []\n",
    "\n",
    "for epoch in range(1):\n",
    "    # Forward pass\n",
    "    model.zero_grad()\n",
    "    outputs = model(X_train_tensor)\n",
    "    loss = criterion(outputs, y_train_tensor)\n",
    "\n",
    "    # Backward pass and optimization\n",
    "    loss.backward()\n",
    "    \n",
    "    # Our beautiful neural optimizer\n",
    "    optimizer.step(model, criterion, epoch, X_train_tensor, y_train_tensor)\n",
    "    #optimizer.transfer(model)\n",
    "    \n",
    "    # Store loss value\n",
    "    train_losses.append(loss.item())\n",
    "    \n",
    "    # Print progress\n",
    "    if (epoch+1) % 10 == 0:\n",
    "        print(f'Epoch [{epoch+1}/{100}], Loss: {loss.item():.4f}')\n",
    "\n",
    "    # Evaluate the model on the test set\n",
    "    with torch.no_grad():\n",
    "        test_outputs = model(X_test_tensor)\n",
    "        test_loss = criterion(test_outputs, y_test_tensor)\n",
    "        print(f'Test Loss: {test_loss.item():.4f}')\n"
   ]
  },
  {
   "cell_type": "code",
   "execution_count": null,
   "metadata": {},
   "outputs": [],
   "source": [
    "plt.loglog(train_losses)"
   ]
  },
  {
   "cell_type": "markdown",
   "metadata": {},
   "source": [
    "______________"
   ]
  },
  {
   "cell_type": "code",
   "execution_count": 3,
   "metadata": {},
   "outputs": [],
   "source": [
    "import tensorflow as tf\n",
    "\n",
    "import numpy as np\n",
    "\n",
    "from tqdm import tqdm\n",
    "from matplotlib import pyplot as plt\n",
    "\n",
    "from sklearn.datasets import load_boston\n",
    "from sklearn.preprocessing import StandardScaler\n",
    "from sklearn.model_selection import train_test_split\n",
    "\n",
    "'''\n",
    "import torch, numpy as np\n",
    "import torch.nn.functional as F\n",
    "import torch.nn as nn\n",
    "import torch.utils.data as Data\n",
    "import matplotlib.pyplot as plt\n",
    "\n",
    "SEED = 4200\n",
    "torch.manual_seed(SEED)\n",
    "np.random.seed(SEED)\n",
    "\n",
    "torch.set_default_dtype(torch.float32)\n",
    "'''\n",
    "\n",
    "import warnings\n",
    "warnings.filterwarnings(\"ignore\")\n"
   ]
  },
  {
   "cell_type": "code",
   "execution_count": 4,
   "metadata": {},
   "outputs": [],
   "source": [
    "# Load the Boston dataset\n",
    "boston = load_boston()\n",
    "X = boston.data\n",
    "y = boston.target\n",
    "\n",
    "# Standardize the features\n",
    "scaler = StandardScaler()\n",
    "X = scaler.fit_transform(X)\n",
    "\n",
    "# Split the dataset into training and testing sets\n",
    "X_train, X_test, y_train, y_test = train_test_split(X, y, test_size=0.2, random_state=42)\n",
    "\n",
    "# Convert data to TensorFlow tensors\n",
    "X_train_tensor = tf.constant(X_train, dtype=tf.float32)\n",
    "y_train_tensor = tf.constant(y_train, dtype=tf.float32)\n",
    "X_test_tensor = tf.constant(X_test, dtype=tf.float32)\n",
    "y_test_tensor = tf.constant(y_test, dtype=tf.float32)\n",
    "\n",
    "# Reshape y tensors to match model output shape\n",
    "y_train_tensor = tf.reshape(y_train_tensor, shape=(-1, 1))\n",
    "y_test_tensor = tf.reshape(y_test_tensor, shape=(-1, 1))"
   ]
  },
  {
   "cell_type": "code",
   "execution_count": 5,
   "metadata": {},
   "outputs": [],
   "source": [
    "# Define the model\n",
    "model = tf.keras.Sequential([\n",
    "    tf.keras.layers.Dense(30, activation='relu', input_shape=(13,)),\n",
    "    tf.keras.layers.Dense(1)\n",
    "])\n",
    "\n",
    "# Define the optimizer\n",
    "optimizer = tf.keras.optimizers.Adam(learning_rate=1e-1, decay=5e-4)\n",
    "\n",
    "\n",
    "# Define the loss function\n",
    "criterion = tf.keras.losses.MeanSquaredError()"
   ]
  },
  {
   "cell_type": "code",
   "execution_count": 6,
   "metadata": {},
   "outputs": [
    {
     "name": "stdout",
     "output_type": "stream",
     "text": [
      "Epoch [10/100], Loss: 61.9279\n",
      "Epoch [20/100], Loss: 40.6538\n",
      "Epoch [30/100], Loss: 23.6027\n",
      "Epoch [40/100], Loss: 17.0111\n",
      "Epoch [50/100], Loss: 12.7889\n",
      "Epoch [60/100], Loss: 11.0534\n",
      "Epoch [70/100], Loss: 9.8976\n",
      "Epoch [80/100], Loss: 9.0374\n",
      "Epoch [90/100], Loss: 8.2742\n",
      "Epoch [100/100], Loss: 7.6459\n",
      "Test Loss: 12.7595\n"
     ]
    }
   ],
   "source": [
    "train_losses = []\n",
    "\n",
    "for epoch in range(100):\n",
    "    # Forward pass\n",
    "    with tf.GradientTape() as tape:\n",
    "        outputs = model(X_train_tensor)\n",
    "        loss = criterion(y_train_tensor, outputs)\n",
    "    \n",
    "    # Backward pass and optimization\n",
    "    gradients = tape.gradient(loss, model.trainable_variables)\n",
    "    optimizer.apply_gradients(zip(gradients, model.trainable_variables))\n",
    "    \n",
    "    # Store loss value\n",
    "    train_losses.append(loss.numpy())\n",
    "    \n",
    "    # Print progress\n",
    "    if (epoch+1) % 10 == 0:\n",
    "        print(f'Epoch [{epoch+1}/{100}], Loss: {loss.numpy():.4f}')\n",
    "\n",
    "# Evaluate the model on the test set\n",
    "test_outputs = model(X_test_tensor)\n",
    "test_loss = criterion(y_test_tensor, test_outputs)\n",
    "print(f'Test Loss: {test_loss.numpy():.4f}')\n"
   ]
  },
  {
   "cell_type": "code",
   "execution_count": 7,
   "metadata": {},
   "outputs": [
    {
     "data": {
      "text/plain": [
       "[<matplotlib.lines.Line2D at 0x27f42f36320>]"
      ]
     },
     "execution_count": 7,
     "metadata": {},
     "output_type": "execute_result"
    },
    {
     "data": {
      "image/png": "[encoded data removed]",
      "text/plain": [
       "<Figure size 640x480 with 1 Axes>"
      ]
     },
     "metadata": {},
     "output_type": "display_data"
    }
   ],
   "source": [
    "plt.loglog(train_losses)"
   ]
  },
  {
   "cell_type": "code",
   "execution_count": 8,
   "metadata": {},
   "outputs": [],
   "source": [
    "class SCANTRALayer(tf.Module):\n",
    "    def __init__(self, model, lambda_=0.1, tau=1, gamma=0.9):\n",
    "        super(SCANTRALayer, self).__init__()\n",
    "        self.lambda_ = tf.Variable(tf.ones(1) * lambda_, trainable=True)\n",
    "        self.tau = tf.Variable(tf.ones(1) * tau, trainable=True)\n",
    "        self.gamma = gamma\n",
    "        \n",
    "        self.B = []\n",
    "        for p in model.trainable_variables:\n",
    "            self.B.append(tf.Variable(tf.ones(p.shape), trainable=True))\n",
    "            \n",
    "    '''\n",
    "    def forward(self, model, criterion, X_train_tensor, y_train_tensor):\n",
    "        with tf.GradientTape(persistent=True) as tape:\n",
    "            loss = criterion(model(X_train_tensor), y_train_tensor)\n",
    "\n",
    "        for i, p in enumerate(model.trainable_variables):\n",
    "            K = tape.gradient(loss, p)\n",
    "            #print(p.shape)\n",
    "            # Local optimization step\n",
    "            if len(p.shape) == 1:\n",
    "                I = tf.ones_like(self.B[i])\n",
    "                H = self.B[i]**2 + self.tau*I\n",
    "                M = 1/((2*self.lambda_ + self.tau)*I + H)\n",
    "                w_hat = M*(H*p) - K\n",
    "                \n",
    "            else:\n",
    "                I = self.tau * tf.eye(tf.shape(self.B[i])[0])\n",
    "                H = tf.matmul(self.B[i], tf.transpose(self.B[i])) + self.tau*I\n",
    "                M = tf.linalg.inv((2*self.lambda_ + self.tau)*I + H)\n",
    "                w_hat = tf.linalg.matmul(M, tf.linalg.matmul(H, p) - K)\n",
    "\n",
    "            p.assign_add(self.gamma * (w_hat - p))\n",
    "    '''"
   ]
  },
  {
   "cell_type": "code",
   "execution_count": 28,
   "metadata": {},
   "outputs": [],
   "source": [
    "class SCANTRANet(tf.Module):\n",
    "    def __init__(self, model, T=10, lambda_=0.1, tau=25, gamma=0.8):\n",
    "        super(SCANTRANet, self).__init__()\n",
    "        self.T = T\n",
    "        self.lambda_0 = tf.Variable(tf.ones(T) * lambda_, trainable=False)\n",
    "        self.tau_0 = tf.Variable(tf.ones(T) * tau, trainable=False)\n",
    "        self.gamma_0 = tf.Variable(tf.ones(T) * gamma, trainable=False)\n",
    "\n",
    "        for i in range(self.T):\n",
    "            self.gamma_0[i].assign(self.gamma_0[i] * 0.99**i)\n",
    "\n",
    "        self.SCANTRA_layers = [SCANTRALayer(model, self.lambda_0[i], self.tau_0[i], self.gamma_0[i]) for i in range(self.T)]\n",
    "        self.optimizer = tf.optimizers.Adam(learning_rate=1e-1, decay=5e-4)\n",
    "\n",
    "    @tf.function\n",
    "    def step(self, model, criterion, epoch, X_train_tensor, y_train_tensor):\n",
    "        layer = self.SCANTRA_layers[epoch]\n",
    "\n",
    "        with tf.GradientTape(persistent=True) as tape:\n",
    "            tape.watch(model.trainable_variables)\n",
    "            loss = criterion(model(X_train_tensor), y_train_tensor)\n",
    "\n",
    "            tape.watch(self.trainable_variables)\n",
    "            for i, p in enumerate(model.trainable_variables):\n",
    "                K = tape.gradient(loss, p)\n",
    "                #print(p.shape)\n",
    "                # Local optimization step\n",
    "                if len(p.shape) == 1:\n",
    "                    I = tf.ones_like(layer.B[i])\n",
    "                    H = layer.B[i]**2 + layer.tau*I\n",
    "                    M = 1/((2*layer.lambda_ + layer.tau)*I + H)\n",
    "                    w_hat = M*(H*p) - K\n",
    "                    \n",
    "                else:\n",
    "                    I = layer.tau * tf.eye(tf.shape(layer.B[i])[0])\n",
    "                    H = tf.matmul(layer.B[i], tf.transpose(layer.B[i])) + layer.tau*I\n",
    "                    M = tf.linalg.inv((2*layer.lambda_ + layer.tau)*I + H)\n",
    "                    w_hat = tf.linalg.matmul(M, tf.linalg.matmul(H, p) - K)\n",
    "\n",
    "                p.assign_add(layer.gamma * (w_hat - p)) \n",
    "                \n",
    "            loss = criterion(model(X_train_tensor), y_train_tensor)\n",
    "            #x = x + tf.cast(step, x.dtype)\n",
    "            \n",
    "            '''\n",
    "            tape.watch(self.trainable_variables)\n",
    "            self.SCANTRA_layers[epoch].forward(model, criterion, X_train_tensor, y_train_tensor)\n",
    "            outputs = model(X_train_tensor, training=True)\n",
    "            loss = criterion(y_train_tensor, outputs)\n",
    "            '''\n",
    "\n",
    "        #gradients = tape.gradient(loss, self.trainable_variables)\n",
    "\n",
    "        #tf.print(gradients)\n",
    "\n",
    "        #self.optimizer.apply_gradients(zip(gradients, self.trainable_variables))"
   ]
  },
  {
   "cell_type": "code",
   "execution_count": 29,
   "metadata": {},
   "outputs": [],
   "source": [
    "# Define the model\n",
    "model = tf.keras.Sequential([\n",
    "    tf.keras.layers.Dense(30, activation='relu', input_shape=(13,)),\n",
    "    tf.keras.layers.Dense(1)\n",
    "])\n",
    "\n",
    "# Define the loss function\n",
    "criterion = tf.keras.losses.MeanSquaredError()\n",
    "\n",
    "# Initialize the neural optimizer\n",
    "optimizer = SCANTRANet(model, T = 100)"
   ]
  },
  {
   "cell_type": "code",
   "execution_count": 31,
   "metadata": {},
   "outputs": [
    {
     "name": "stderr",
     "output_type": "stream",
     "text": [
      "  4%|▍         | 4/100 [00:02<01:16,  1.26it/s]"
     ]
    },
    {
     "name": "stdout",
     "output_type": "stream",
     "text": [
      "WARNING:tensorflow:5 out of the last 6 calls to <function SCANTRANet.step at 0x0000027F48EF1CF0> triggered tf.function retracing. Tracing is expensive and the excessive number of tracings could be due to (1) creating @tf.function repeatedly in a loop, (2) passing tensors with different shapes, (3) passing Python objects instead of tensors. For (1), please define your @tf.function outside of the loop. For (2), @tf.function has reduce_retracing=True option that can avoid unnecessary retracing. For (3), please refer to https://www.tensorflow.org/guide/function#controlling_retracing and https://www.tensorflow.org/api_docs/python/tf/function for  more details.\n"
     ]
    },
    {
     "name": "stderr",
     "output_type": "stream",
     "text": [
      "  5%|▌         | 5/100 [00:03<01:15,  1.26it/s]"
     ]
    },
    {
     "name": "stdout",
     "output_type": "stream",
     "text": [
      "WARNING:tensorflow:6 out of the last 7 calls to <function SCANTRANet.step at 0x0000027F48EF1CF0> triggered tf.function retracing. Tracing is expensive and the excessive number of tracings could be due to (1) creating @tf.function repeatedly in a loop, (2) passing tensors with different shapes, (3) passing Python objects instead of tensors. For (1), please define your @tf.function outside of the loop. For (2), @tf.function has reduce_retracing=True option that can avoid unnecessary retracing. For (3), please refer to https://www.tensorflow.org/guide/function#controlling_retracing and https://www.tensorflow.org/api_docs/python/tf/function for  more details.\n"
     ]
    },
    {
     "name": "stderr",
     "output_type": "stream",
     "text": [
      "100%|██████████| 100/100 [01:17<00:00,  1.29it/s]\n"
     ]
    }
   ],
   "source": [
    "train_losses = []\n",
    "\n",
    "for epoch in tqdm(range(100)):\n",
    "    \n",
    "    # Our beautiful neural optimizer\n",
    "    optimizer.step(model, criterion, epoch, X_train_tensor, y_train_tensor)\n",
    "    #optimizer.transfer(model)\n",
    "    \n",
    "    # Store loss value\n",
    "    train_losses.append(criterion(model(X_train_tensor), y_train_tensor))\n",
    "    \n",
    "    '''\n",
    "    # Print progress\n",
    "    if (epoch+1) % 10 == 0:\n",
    "        print(f'Epoch [{epoch+1}/{100}], Loss: {loss.item():.4f}')\n",
    "    \n",
    "    # Evaluate the model on the test set\n",
    "    with torch.no_grad():\n",
    "        test_outputs = model(X_test_tensor)\n",
    "        test_loss = criterion(test_outputs, y_test_tensor)\n",
    "        #print(f'Test Loss: {test_loss.item():.4f}')\n",
    "    '''"
   ]
  },
  {
   "cell_type": "code",
   "execution_count": 34,
   "metadata": {},
   "outputs": [
    {
     "data": {
      "text/plain": [
       "[<matplotlib.lines.Line2D at 0x27f654b7fd0>]"
      ]
     },
     "execution_count": 34,
     "metadata": {},
     "output_type": "execute_result"
    },
    {
     "data": {
      "image/png": "[encoded data removed]",
      "text/plain": [
       "<Figure size 640x480 with 1 Axes>"
      ]
     },
     "metadata": {},
     "output_type": "display_data"
    }
   ],
   "source": [
    "plt.loglog(train_losses)"
   ]
  },
  {
   "cell_type": "code",
   "execution_count": null,
   "metadata": {},
   "outputs": [],
   "source": []
  }
 ],
 "metadata": {
  "kernelspec": {
   "display_name": "Python 3",
   "language": "python",
   "name": "python3"
  },
  "language_info": {
   "codemirror_mode": {
    "name": "ipython",
    "version": 3
   },
   "file_extension": ".py",
   "mimetype": "text/x-python",
   "name": "python",
   "nbconvert_exporter": "python",
   "pygments_lexer": "ipython3",
   "version": "3.10.7"
  }
 },
 "nbformat": 4,
 "nbformat_minor": 2
}
