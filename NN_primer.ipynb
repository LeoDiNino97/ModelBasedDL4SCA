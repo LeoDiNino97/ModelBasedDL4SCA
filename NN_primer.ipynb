{
 "cells": [
  {
   "cell_type": "markdown",
   "metadata": {},
   "source": [
    "# Unrolling neural network training"
   ]
  },
  {
   "cell_type": "code",
   "execution_count": 6,
   "metadata": {},
   "outputs": [],
   "source": [
    "import numpy as np\n",
    "\n",
    "from tqdm import tqdm\n",
    "from matplotlib import pyplot as plt\n",
    "\n",
    "import torch, numpy as np\n",
    "import torch.nn.functional as F\n",
    "import torch.nn as nn\n",
    "import torch.utils.data as Data\n",
    "import matplotlib.pyplot as plt\n",
    "\n",
    "from sklearn.datasets import load_boston\n",
    "from sklearn.preprocessing import StandardScaler\n",
    "from sklearn.model_selection import train_test_split\n",
    "\n",
    "\n",
    "SEED = 4200\n",
    "torch.manual_seed(SEED)\n",
    "np.random.seed(SEED)\n",
    "\n",
    "torch.set_default_dtype(torch.float32)\n",
    "\n",
    "import warnings\n",
    "warnings.filterwarnings(\"ignore\")\n"
   ]
  },
  {
   "cell_type": "markdown",
   "metadata": {},
   "source": [
    "## Toy case models and datasets"
   ]
  },
  {
   "cell_type": "code",
   "execution_count": 211,
   "metadata": {},
   "outputs": [],
   "source": [
    "boston = load_boston()\n",
    "X = boston.data\n",
    "y = boston.target\n",
    "\n",
    "# Standardize the features\n",
    "scaler = StandardScaler()\n",
    "X = scaler.fit_transform(X)\n",
    "\n",
    "# Split the dataset into training and testing sets\n",
    "X_train, X_test, y_train, y_test = train_test_split(X, y, test_size=0.2, random_state=42)\n",
    "\n",
    "# Convert data to PyTorch tensors\n",
    "X_train_tensor = torch.tensor(X_train, dtype=torch.float32)\n",
    "y_train_tensor = torch.tensor(y_train, dtype=torch.float32).view(-1, 1)  # Reshape y_train to match model output shape\n",
    "X_test_tensor = torch.tensor(X_test, dtype=torch.float32)\n",
    "y_test_tensor = torch.tensor(y_test, dtype=torch.float32).view(-1, 1)  # Reshape y_test to match model output shape"
   ]
  },
  {
   "cell_type": "code",
   "execution_count": 212,
   "metadata": {},
   "outputs": [],
   "source": [
    "model = nn.Sequential(\n",
    "    nn.Linear(13, 30),\n",
    "    nn.ReLU(),\n",
    "    nn.Linear(30, 1)\n",
    ")\n",
    "\n",
    "optimizer = torch.optim.Adam(params=model.parameters(), lr=1e-1, weight_decay = 5e-4)\n",
    "criterion = nn.MSELoss()"
   ]
  },
  {
   "cell_type": "markdown",
   "metadata": {},
   "source": [
    "### Simple training loop "
   ]
  },
  {
   "cell_type": "code",
   "execution_count": 213,
   "metadata": {},
   "outputs": [
    {
     "name": "stdout",
     "output_type": "stream",
     "text": [
      "Epoch [10/100], Loss: 108.9392\n",
      "Epoch [20/100], Loss: 43.4876\n",
      "Epoch [30/100], Loss: 24.4725\n",
      "Epoch [40/100], Loss: 18.0850\n",
      "Epoch [50/100], Loss: 14.4142\n",
      "Epoch [60/100], Loss: 12.0501\n",
      "Epoch [70/100], Loss: 10.4739\n",
      "Epoch [80/100], Loss: 9.5392\n",
      "Epoch [90/100], Loss: 8.7902\n",
      "Epoch [100/100], Loss: 8.1955\n",
      "Test Loss: 12.1529\n"
     ]
    }
   ],
   "source": [
    "train_losses = []\n",
    "\n",
    "for epoch in range(100):\n",
    "    # Forward pass\n",
    "    \n",
    "    outputs = model(X_train_tensor)\n",
    "    loss = criterion(outputs, y_train_tensor)\n",
    "    \n",
    "    # Backward pass and optimization\n",
    "    optimizer.zero_grad()\n",
    "    loss.backward()\n",
    "    optimizer.step()\n",
    "    \n",
    "    # Store loss value\n",
    "    train_losses.append(loss.item())\n",
    "    \n",
    "    # Print progress\n",
    "    if (epoch+1) % 10 == 0:\n",
    "        print(f'Epoch [{epoch+1}/{100}], Loss: {loss.item():.4f}')\n",
    "\n",
    "# Evaluate the model on the test set\n",
    "with torch.no_grad():\n",
    "    test_outputs = model(X_test_tensor)\n",
    "    test_loss = criterion(test_outputs, y_test_tensor)\n",
    "    print(f'Test Loss: {test_loss.item():.4f}')"
   ]
  },
  {
   "cell_type": "code",
   "execution_count": 214,
   "metadata": {},
   "outputs": [
    {
     "data": {
      "text/plain": [
       "[<matplotlib.lines.Line2D at 0x25031d19ed0>]"
      ]
     },
     "execution_count": 214,
     "metadata": {},
     "output_type": "execute_result"
    },
    {
     "data": {
      "image/png": "[encoded data removed]",
      "text/plain": [
       "<Figure size 640x480 with 1 Axes>"
      ]
     },
     "metadata": {},
     "output_type": "display_data"
    }
   ],
   "source": [
    "plt.loglog(train_losses)"
   ]
  },
  {
   "cell_type": "markdown",
   "metadata": {},
   "source": [
    "### SCANTRA - DeepUnrolling SCA for Neural networks TRAining"
   ]
  },
  {
   "cell_type": "markdown",
   "metadata": {},
   "source": [
    "Let's try to define a surrogate loss using a general purpose second order approximations and the gradient of the feedforward network. "
   ]
  },
  {
   "cell_type": "code",
   "execution_count": 215,
   "metadata": {},
   "outputs": [],
   "source": [
    "class SCANTRALayer(nn.Module):\n",
    "    def __init__(self, model, lambda_ = 0.1, tau = 1, gamma = 0.9):\n",
    "        super().__init__()\n",
    "\n",
    "        # Initialization of the learnable parameters\n",
    "        self.lambda_ = nn.Parameter(torch.ones(1)*lambda_, requires_grad = True)\n",
    "        self.tau = nn.Parameter(torch.ones(1)*tau, requires_grad = True)\n",
    "        self.gamma = gamma\n",
    "        \n",
    "        self.B = []\n",
    "        for _, p in model.named_parameters():\n",
    "            self.B.append(nn.Parameter(torch.randn(p.shape[0]), requires_grad = True))\n",
    "\n",
    "        self.params = nn.ParameterList(self.B + [self.lambda_, self.tau])\n",
    "\n",
    "\n",
    "    def forward(self, model):\n",
    "        for i, (_, p) in enumerate(model.named_parameters()):\n",
    "            K = p.grad\n",
    "            print(K)\n",
    "            # Local optimization step\n",
    "            if len(p.shape) == 1:\n",
    "                I = torch.ones(self.B[i].shape[0])\n",
    "                H = self.B[i]**2 + self.tau*I\n",
    "                M = 1/((2*self.lambda_ + self.tau)*I + H)\n",
    "                \n",
    "            else:\n",
    "                I = self.tau*torch.eye(self.B[i].shape[0])\n",
    "                H = torch.outer(self.B[i],self.B[i]) + self.tau*I\n",
    "                M = torch.linalg.inv((2*self.lambda_ + self.tau)*I + H)\n",
    "\n",
    "            w_hat = M @ (H @ p - K)\n",
    "            #p_0 = p\n",
    "\n",
    "            with torch.no_grad():\n",
    "                p.copy_(p + self.gamma*(w_hat - p))\n",
    "\n",
    "            #print(torch.linalg.norm(p - p_0))"
   ]
  },
  {
   "cell_type": "code",
   "execution_count": 216,
   "metadata": {},
   "outputs": [],
   "source": [
    "class SCANTRANet(nn.Module):\n",
    "    def __init__(self, model, T = 10, lambda_ = 0.1, tau = 25, gamma = 0.8):\n",
    "        super(SCANTRANet, self).__init__()\n",
    "        \n",
    "        # Number of iterations <-> number of layers\n",
    "        self.T = T\n",
    "        \n",
    "        # Initialization of the learnable parameters\n",
    "        self.lambda_0 = torch.ones(T)*lambda_\n",
    "        self.tau_0 = torch.ones(T)*tau\n",
    "        self.gamma_0 = torch.ones(T)*gamma\n",
    "\n",
    "        for i in range(self.T):\n",
    "            self.gamma_0[i] *= 0.99**i\n",
    "            \n",
    "        # Defining the layers\n",
    "        self.SCANTRA_layers = nn.ModuleList([SCANTRALayer(model,\n",
    "                                                          self.lambda_0[i], \n",
    "                                                          self.tau_0[i], \n",
    "                                                          self.gamma_0[i]\n",
    "                                                          ) for i in range(self.T)])\n",
    "        \n",
    "        # Optimizer of the neural optimizer\n",
    "        self.optimizer = torch.optim.Adam(params=self.parameters(), lr=1e-1, weight_decay = 5e-4)\n",
    "        \n",
    "    def step(self, model, criterion, epoch, X_train_tensor, y_train_tensor):\n",
    "        \n",
    "        self.SCANTRA_layers[epoch].forward(model)\n",
    "        self.source = model\n",
    "        \n",
    "        # Compute loss\n",
    "        outputs = model(X_train_tensor)\n",
    "        loss = criterion(outputs, y_train_tensor)\n",
    "        \n",
    "        # Zero gradients for optimizer parameters\n",
    "        self.zero_grad()\n",
    "\n",
    "        # Compute gradients of loss with respect to optimizer parameters\n",
    "        loss.backward(retain_graph=True)\n",
    "\n",
    "        # Update optimizer parameters\n",
    "        self.optimizer.step()  \n"
   ]
  },
  {
   "cell_type": "code",
   "execution_count": 217,
   "metadata": {},
   "outputs": [],
   "source": [
    "model = nn.Sequential(\n",
    "    nn.Linear(13, 30),\n",
    "    nn.ReLU(),\n",
    "    nn.Linear(30, 1)\n",
    ")\n",
    "\n",
    "criterion = nn.MSELoss()\n",
    "optimizer = SCANTRANet(model, T = 100)"
   ]
  },
  {
   "cell_type": "markdown",
   "metadata": {},
   "source": [
    "The problem is: how do I train at the same time the network and the optimizer? "
   ]
  },
  {
   "cell_type": "code",
   "execution_count": null,
   "metadata": {},
   "outputs": [],
   "source": [
    "train_losses = []\n",
    "\n",
    "for epoch in range(1):\n",
    "    # Forward pass\n",
    "    model.zero_grad()\n",
    "    outputs = model(X_train_tensor)\n",
    "    loss = criterion(outputs, y_train_tensor)\n",
    "\n",
    "    # Backward pass and optimization\n",
    "    loss.backward()\n",
    "    \n",
    "    # Our beautiful neural optimizer\n",
    "    optimizer.step(model, criterion, epoch, X_train_tensor, y_train_tensor)\n",
    "    #optimizer.transfer(model)\n",
    "    \n",
    "    # Store loss value\n",
    "    train_losses.append(loss.item())\n",
    "    \n",
    "    # Print progress\n",
    "    if (epoch+1) % 10 == 0:\n",
    "        print(f'Epoch [{epoch+1}/{100}], Loss: {loss.item():.4f}')\n",
    "\n",
    "    # Evaluate the model on the test set\n",
    "    with torch.no_grad():\n",
    "        test_outputs = model(X_test_tensor)\n",
    "        test_loss = criterion(test_outputs, y_test_tensor)\n",
    "        print(f'Test Loss: {test_loss.item():.4f}')\n"
   ]
  },
  {
   "cell_type": "code",
   "execution_count": null,
   "metadata": {},
   "outputs": [],
   "source": [
    "plt.loglog(train_losses)"
   ]
  },
  {
   "cell_type": "markdown",
   "metadata": {},
   "source": [
    "______________"
   ]
  },
  {
   "cell_type": "code",
   "execution_count": 1,
   "metadata": {},
   "outputs": [],
   "source": [
    "import tensorflow as tf\n",
    "\n",
    "import numpy as np\n",
    "\n",
    "from tqdm import tqdm\n",
    "from matplotlib import pyplot as plt\n",
    "\n",
    "from sklearn.datasets import load_boston\n",
    "from sklearn.preprocessing import StandardScaler\n",
    "from sklearn.model_selection import train_test_split\n",
    "\n",
    "'''\n",
    "import torch, numpy as np\n",
    "import torch.nn.functional as F\n",
    "import torch.nn as nn\n",
    "import torch.utils.data as Data\n",
    "import matplotlib.pyplot as plt\n",
    "\n",
    "SEED = 4200\n",
    "torch.manual_seed(SEED)\n",
    "np.random.seed(SEED)\n",
    "\n",
    "torch.set_default_dtype(torch.float32)\n",
    "'''\n",
    "\n",
    "import warnings\n",
    "warnings.filterwarnings(\"ignore\")\n"
   ]
  },
  {
   "cell_type": "code",
   "execution_count": 2,
   "metadata": {},
   "outputs": [],
   "source": [
    "# Load the Boston dataset\n",
    "boston = load_boston()\n",
    "X = boston.data\n",
    "y = boston.target\n",
    "\n",
    "# Standardize the features\n",
    "scaler = StandardScaler()\n",
    "X = scaler.fit_transform(X)\n",
    "\n",
    "# Split the dataset into training and testing sets\n",
    "X_train, X_test, y_train, y_test = train_test_split(X, y, test_size=0.2, random_state=42)\n",
    "\n",
    "# Convert data to TensorFlow tensors\n",
    "X_train_tensor = tf.constant(X_train, dtype=tf.float32)\n",
    "y_train_tensor = tf.constant(y_train, dtype=tf.float32)\n",
    "X_test_tensor = tf.constant(X_test, dtype=tf.float32)\n",
    "y_test_tensor = tf.constant(y_test, dtype=tf.float32)\n",
    "\n",
    "# Reshape y tensors to match model output shape\n",
    "y_train_tensor = tf.reshape(y_train_tensor, shape=(-1, 1))\n",
    "y_test_tensor = tf.reshape(y_test_tensor, shape=(-1, 1))"
   ]
  },
  {
   "cell_type": "code",
   "execution_count": 3,
   "metadata": {},
   "outputs": [],
   "source": [
    "# Define the model\n",
    "model = tf.keras.Sequential([\n",
    "    tf.keras.layers.Dense(30, activation='relu', input_shape=(13,)),\n",
    "    tf.keras.layers.Dense(1)\n",
    "])\n",
    "\n",
    "# Define the optimizer\n",
    "optimizer = tf.keras.optimizers.Adam(learning_rate=1e-1, decay=5e-4)\n",
    "\n",
    "\n",
    "# Define the loss function\n",
    "criterion = tf.keras.losses.MeanSquaredError()"
   ]
  },
  {
   "cell_type": "code",
   "execution_count": 4,
   "metadata": {},
   "outputs": [
    {
     "name": "stdout",
     "output_type": "stream",
     "text": [
      "Epoch [10/100], Loss: 59.6706\n",
      "Epoch [20/100], Loss: 35.7853\n",
      "Epoch [30/100], Loss: 21.7919\n",
      "Epoch [40/100], Loss: 14.4500\n",
      "Epoch [50/100], Loss: 11.1501\n",
      "Epoch [60/100], Loss: 9.9278\n",
      "Epoch [70/100], Loss: 8.8891\n",
      "Epoch [80/100], Loss: 8.0819\n",
      "Epoch [90/100], Loss: 7.4705\n",
      "Epoch [100/100], Loss: 6.9707\n",
      "Test Loss: 14.0148\n"
     ]
    }
   ],
   "source": [
    "train_losses = []\n",
    "\n",
    "for epoch in range(100):\n",
    "    # Forward pass\n",
    "    with tf.GradientTape() as tape:\n",
    "        outputs = model(X_train_tensor)\n",
    "        loss = criterion(y_train_tensor, outputs)\n",
    "    \n",
    "    # Backward pass and optimization\n",
    "    gradients = tape.gradient(loss, model.trainable_variables)\n",
    "    optimizer.apply_gradients(zip(gradients, model.trainable_variables))\n",
    "    \n",
    "    # Store loss value\n",
    "    train_losses.append(loss.numpy())\n",
    "    \n",
    "    # Print progress\n",
    "    if (epoch+1) % 10 == 0:\n",
    "        print(f'Epoch [{epoch+1}/{100}], Loss: {loss.numpy():.4f}')\n",
    "\n",
    "# Evaluate the model on the test set\n",
    "test_outputs = model(X_test_tensor)\n",
    "test_loss = criterion(y_test_tensor, test_outputs)\n",
    "print(f'Test Loss: {test_loss.numpy():.4f}')\n"
   ]
  },
  {
   "cell_type": "code",
   "execution_count": 5,
   "metadata": {},
   "outputs": [
    {
     "data": {
      "text/plain": [
       "[<matplotlib.lines.Line2D at 0x1eb3e630730>]"
      ]
     },
     "execution_count": 5,
     "metadata": {},
     "output_type": "execute_result"
    },
    {
     "data": {
      "image/png": "[encoded data removed]",
      "text/plain": [
       "<Figure size 640x480 with 1 Axes>"
      ]
     },
     "metadata": {},
     "output_type": "display_data"
    }
   ],
   "source": [
    "plt.loglog(train_losses)"
   ]
  },
  {
   "cell_type": "code",
   "execution_count": 58,
   "metadata": {},
   "outputs": [],
   "source": [
    "class SCANTRALayer(tf.Module):\n",
    "    def __init__(self, model, lambda_=0.1, tau=1, gamma=0.9):\n",
    "        super(SCANTRALayer, self).__init__()\n",
    "        self.lambda_ = tf.Variable(tf.ones(1) * lambda_, trainable=True)\n",
    "        self.tau = tf.Variable(tf.ones(1) * tau, trainable=True)\n",
    "        self.gamma = gamma\n",
    "        \n",
    "        self.B = []\n",
    "        for p in model.trainable_variables:\n",
    "            self.B.append(tf.Variable(tf.ones(p.shape), trainable=True))\n",
    "            \n",
    "    '''\n",
    "    def forward(self, model, criterion, X_train_tensor, y_train_tensor):\n",
    "        with tf.GradientTape(persistent=True) as tape:\n",
    "            loss = criterion(model(X_train_tensor), y_train_tensor)\n",
    "\n",
    "        for i, p in enumerate(model.trainable_variables):\n",
    "            K = tape.gradient(loss, p)\n",
    "            #print(p.shape)\n",
    "            # Local optimization step\n",
    "            if len(p.shape) == 1:\n",
    "                I = tf.ones_like(self.B[i])\n",
    "                H = self.B[i]**2 + self.tau*I\n",
    "                M = 1/((2*self.lambda_ + self.tau)*I + H)\n",
    "                w_hat = M*(H*p) - K\n",
    "                \n",
    "            else:\n",
    "                I = self.tau * tf.eye(tf.shape(self.B[i])[0])\n",
    "                H = tf.matmul(self.B[i], tf.transpose(self.B[i])) + self.tau*I\n",
    "                M = tf.linalg.inv((2*self.lambda_ + self.tau)*I + H)\n",
    "                w_hat = tf.linalg.matmul(M, tf.linalg.matmul(H, p) - K)\n",
    "\n",
    "            p.assign_add(self.gamma * (w_hat - p))\n",
    "    '''"
   ]
  },
  {
   "cell_type": "code",
   "execution_count": 67,
   "metadata": {},
   "outputs": [],
   "source": [
    "class SCANTRANet(tf.Module):\n",
    "    def __init__(self, model, T=10, lambda_=0.1, tau=25, gamma=0.8):\n",
    "        super(SCANTRANet, self).__init__()\n",
    "        self.T = T\n",
    "        self.lambda_0 = tf.Variable(tf.ones(T) * lambda_, trainable=False)\n",
    "        self.tau_0 = tf.Variable(tf.ones(T) * tau, trainable=False)\n",
    "        self.gamma_0 = tf.Variable(tf.ones(T) * gamma, trainable=False)\n",
    "\n",
    "        for i in range(self.T):\n",
    "            self.gamma_0[i].assign(self.gamma_0[i] * 0.99**i)\n",
    "\n",
    "        self.SCANTRA_layers = [SCANTRALayer(model, self.lambda_0[i], self.tau_0[i], self.gamma_0[i]) for i in range(self.T)]\n",
    "        self.meta_optimizer = tf.optimizers.Adam(learning_rate=1e-1, decay=5e-4)\n",
    "\n",
    "    @tf.function\n",
    "    def step(self, model, criterion, epoch, X_train_tensor, y_train_tensor):\n",
    "        layer = self.SCANTRA_layers[epoch]\n",
    "        params = []\n",
    "        with tf.GradientTape(persistent=True) as tape:\n",
    "            loss = criterion(model(X_train_tensor), y_train_tensor)\n",
    "\n",
    "            tape.watch(self.trainable_variables)\n",
    "            for i, p in enumerate(model.trainable_variables):\n",
    "                K = tape.gradient(loss, p)\n",
    "                #print(p.shape)\n",
    "                # Local optimization step\n",
    "                if len(p.shape) == 1:\n",
    "                    I = tf.ones_like(layer.B[i])\n",
    "                    H = layer.B[i]**2 + layer.tau*I\n",
    "                    M = 1/((2*layer.lambda_ + layer.tau)*I + H)\n",
    "                    w_hat = M*((H*p) - K)\n",
    "                    \n",
    "                else:\n",
    "                    I = layer.tau * tf.eye(tf.shape(layer.B[i])[0])\n",
    "                    H = tf.matmul(layer.B[i], tf.transpose(layer.B[i])) + layer.tau*I\n",
    "                    M = tf.linalg.inv((2*layer.lambda_ + layer.tau)*I + H)\n",
    "                    w_hat = tf.linalg.matmul(M, tf.linalg.matmul(H, p) - K)\n",
    "\n",
    "                p.assign_add(layer.gamma * (w_hat - p))\n",
    "\n",
    "\n",
    "            #tape.watch(self.trainable_variables)\n",
    "            tape.watch(model.trainable_variables)\n",
    "            loss = criterion(model(X_train_tensor), y_train_tensor)\n",
    "            \n",
    "            '''\n",
    "            tape.watch(self.trainable_variables)\n",
    "            self.SCANTRA_layers[epoch].forward(model, criterion, X_train_tensor, y_train_tensor)\n",
    "            outputs = model(X_train_tensor, training=True)\n",
    "            loss = criterion(y_train_tensor, outputs)\n",
    "            '''\n",
    "\n",
    "        gradients = tape.gradient(loss, list(model.trainable_variables) + list(self.trainable_variables))\n",
    "        optimizer_gradients = gradients[len(self.trainable_variables):]\n",
    "        #tf.print(gradients)\n",
    "\n",
    "        self.meta_optimizer.apply_gradients(zip(optimizer_gradients, self.trainable_variables))"
   ]
  },
  {
   "cell_type": "code",
   "execution_count": 68,
   "metadata": {},
   "outputs": [],
   "source": [
    "# Define the model\n",
    "model = tf.keras.Sequential([\n",
    "    tf.keras.layers.Dense(30, activation='relu', input_shape=(13,)),\n",
    "    tf.keras.layers.Dense(1)\n",
    "])\n",
    "\n",
    "# Define the loss function\n",
    "criterion = tf.keras.losses.MeanSquaredError()\n",
    "\n",
    "# Initialize the neural optimizer\n",
    "optimizer = SCANTRANet(model, T = 100)"
   ]
  },
  {
   "cell_type": "code",
   "execution_count": 69,
   "metadata": {},
   "outputs": [
    {
     "name": "stderr",
     "output_type": "stream",
     "text": [
      "  0%|          | 0/100 [00:00<?, ?it/s]\n"
     ]
    },
    {
     "ename": "ValueError",
     "evalue": "in user code:\n\n    File \"C:\\Users\\Leonardo\\AppData\\Local\\Temp\\ipykernel_15316\\2371878125.py\", line 57, in step  *\n        self.meta_optimizer.apply_gradients(zip(optimizer_gradients, self.trainable_variables))\n    File \"c:\\Users\\Leonardo\\AppData\\Local\\Programs\\Python\\Python310\\lib\\site-packages\\keras\\optimizers\\optimizer_v2\\optimizer_v2.py\", line 689, in apply_gradients  **\n        grads_and_vars = optimizer_utils.filter_empty_gradients(grads_and_vars)\n    File \"c:\\Users\\Leonardo\\AppData\\Local\\Programs\\Python\\Python310\\lib\\site-packages\\keras\\optimizers\\optimizer_v2\\utils.py\", line 77, in filter_empty_gradients\n        raise ValueError(\n\n    ValueError: No gradients provided for any variable: (['Variable:0', 'Variable:0', 'Variable:0', 'Variable:0'],). Provided `grads_and_vars` is ((None, <tf.Variable 'Variable:0' shape=(13, 30) dtype=float32>), (None, <tf.Variable 'Variable:0' shape=(30,) dtype=float32>), (None, <tf.Variable 'Variable:0' shape=(30, 1) dtype=float32>), (None, <tf.Variable 'Variable:0' shape=(1,) dtype=float32>)).\n",
     "output_type": "error",
     "traceback": [
      "\u001b[1;31m---------------------------------------------------------------------------\u001b[0m",
      "\u001b[1;31mValueError\u001b[0m                                Traceback (most recent call last)",
      "Cell \u001b[1;32mIn [69], line 6\u001b[0m\n\u001b[0;32m      1\u001b[0m train_losses \u001b[38;5;241m=\u001b[39m []\n\u001b[0;32m      3\u001b[0m \u001b[38;5;28;01mfor\u001b[39;00m epoch \u001b[38;5;129;01min\u001b[39;00m tqdm(\u001b[38;5;28mrange\u001b[39m(\u001b[38;5;241m100\u001b[39m)):\n\u001b[0;32m      4\u001b[0m     \n\u001b[0;32m      5\u001b[0m     \u001b[38;5;66;03m# Our beautiful neural optimizer\u001b[39;00m\n\u001b[1;32m----> 6\u001b[0m     \u001b[43moptimizer\u001b[49m\u001b[38;5;241;43m.\u001b[39;49m\u001b[43mstep\u001b[49m\u001b[43m(\u001b[49m\u001b[43mmodel\u001b[49m\u001b[43m,\u001b[49m\u001b[43m \u001b[49m\u001b[43mcriterion\u001b[49m\u001b[43m,\u001b[49m\u001b[43m \u001b[49m\u001b[43mepoch\u001b[49m\u001b[43m,\u001b[49m\u001b[43m \u001b[49m\u001b[43mX_train_tensor\u001b[49m\u001b[43m,\u001b[49m\u001b[43m \u001b[49m\u001b[43my_train_tensor\u001b[49m\u001b[43m)\u001b[49m\n\u001b[0;32m      7\u001b[0m     \u001b[38;5;66;03m#optimizer.transfer(model)\u001b[39;00m\n\u001b[0;32m      8\u001b[0m     \n\u001b[0;32m      9\u001b[0m     \u001b[38;5;66;03m# Store loss value\u001b[39;00m\n\u001b[0;32m     10\u001b[0m     train_losses\u001b[38;5;241m.\u001b[39mappend(criterion(model(X_train_tensor), y_train_tensor))\n",
      "File \u001b[1;32mc:\\Users\\Leonardo\\AppData\\Local\\Programs\\Python\\Python310\\lib\\site-packages\\tensorflow\\python\\util\\traceback_utils.py:153\u001b[0m, in \u001b[0;36mfilter_traceback.<locals>.error_handler\u001b[1;34m(*args, **kwargs)\u001b[0m\n\u001b[0;32m    151\u001b[0m \u001b[38;5;28;01mexcept\u001b[39;00m \u001b[38;5;167;01mException\u001b[39;00m \u001b[38;5;28;01mas\u001b[39;00m e:\n\u001b[0;32m    152\u001b[0m   filtered_tb \u001b[38;5;241m=\u001b[39m _process_traceback_frames(e\u001b[38;5;241m.\u001b[39m__traceback__)\n\u001b[1;32m--> 153\u001b[0m   \u001b[38;5;28;01mraise\u001b[39;00m e\u001b[38;5;241m.\u001b[39mwith_traceback(filtered_tb) \u001b[38;5;28;01mfrom\u001b[39;00m \u001b[38;5;28mNone\u001b[39m\n\u001b[0;32m    154\u001b[0m \u001b[38;5;28;01mfinally\u001b[39;00m:\n\u001b[0;32m    155\u001b[0m   \u001b[38;5;28;01mdel\u001b[39;00m filtered_tb\n",
      "File \u001b[1;32m~\\AppData\\Local\\Temp\\__autograph_generated_filews2t_7sr.py:59\u001b[0m, in \u001b[0;36mouter_factory.<locals>.inner_factory.<locals>.tf__step\u001b[1;34m(self, model, criterion, epoch, X_train_tensor, y_train_tensor)\u001b[0m\n\u001b[0;32m     57\u001b[0m gradients \u001b[38;5;241m=\u001b[39m ag__\u001b[38;5;241m.\u001b[39mconverted_call(ag__\u001b[38;5;241m.\u001b[39mld(tape)\u001b[38;5;241m.\u001b[39mgradient, (ag__\u001b[38;5;241m.\u001b[39mld(loss), ag__\u001b[38;5;241m.\u001b[39mconverted_call(ag__\u001b[38;5;241m.\u001b[39mld(\u001b[38;5;28mlist\u001b[39m), (ag__\u001b[38;5;241m.\u001b[39mld(model)\u001b[38;5;241m.\u001b[39mtrainable_variables,), \u001b[38;5;28;01mNone\u001b[39;00m, fscope) \u001b[38;5;241m+\u001b[39m ag__\u001b[38;5;241m.\u001b[39mconverted_call(ag__\u001b[38;5;241m.\u001b[39mld(\u001b[38;5;28mlist\u001b[39m), (ag__\u001b[38;5;241m.\u001b[39mld(\u001b[38;5;28mself\u001b[39m)\u001b[38;5;241m.\u001b[39mtrainable_variables,), \u001b[38;5;28;01mNone\u001b[39;00m, fscope)), \u001b[38;5;28;01mNone\u001b[39;00m, fscope)\n\u001b[0;32m     58\u001b[0m optimizer_gradients \u001b[38;5;241m=\u001b[39m ag__\u001b[38;5;241m.\u001b[39mld(gradients)[ag__\u001b[38;5;241m.\u001b[39mconverted_call(ag__\u001b[38;5;241m.\u001b[39mld(\u001b[38;5;28mlen\u001b[39m), (ag__\u001b[38;5;241m.\u001b[39mld(\u001b[38;5;28mself\u001b[39m)\u001b[38;5;241m.\u001b[39mtrainable_variables,), \u001b[38;5;28;01mNone\u001b[39;00m, fscope):]\n\u001b[1;32m---> 59\u001b[0m \u001b[43mag__\u001b[49m\u001b[38;5;241;43m.\u001b[39;49m\u001b[43mconverted_call\u001b[49m\u001b[43m(\u001b[49m\u001b[43mag__\u001b[49m\u001b[38;5;241;43m.\u001b[39;49m\u001b[43mld\u001b[49m\u001b[43m(\u001b[49m\u001b[38;5;28;43mself\u001b[39;49m\u001b[43m)\u001b[49m\u001b[38;5;241;43m.\u001b[39;49m\u001b[43mmeta_optimizer\u001b[49m\u001b[38;5;241;43m.\u001b[39;49m\u001b[43mapply_gradients\u001b[49m\u001b[43m,\u001b[49m\u001b[43m \u001b[49m\u001b[43m(\u001b[49m\u001b[43mag__\u001b[49m\u001b[38;5;241;43m.\u001b[39;49m\u001b[43mconverted_call\u001b[49m\u001b[43m(\u001b[49m\u001b[43mag__\u001b[49m\u001b[38;5;241;43m.\u001b[39;49m\u001b[43mld\u001b[49m\u001b[43m(\u001b[49m\u001b[38;5;28;43mzip\u001b[39;49m\u001b[43m)\u001b[49m\u001b[43m,\u001b[49m\u001b[43m \u001b[49m\u001b[43m(\u001b[49m\u001b[43mag__\u001b[49m\u001b[38;5;241;43m.\u001b[39;49m\u001b[43mld\u001b[49m\u001b[43m(\u001b[49m\u001b[43moptimizer_gradients\u001b[49m\u001b[43m)\u001b[49m\u001b[43m,\u001b[49m\u001b[43m \u001b[49m\u001b[43mag__\u001b[49m\u001b[38;5;241;43m.\u001b[39;49m\u001b[43mld\u001b[49m\u001b[43m(\u001b[49m\u001b[38;5;28;43mself\u001b[39;49m\u001b[43m)\u001b[49m\u001b[38;5;241;43m.\u001b[39;49m\u001b[43mtrainable_variables\u001b[49m\u001b[43m)\u001b[49m\u001b[43m,\u001b[49m\u001b[43m \u001b[49m\u001b[38;5;28;43;01mNone\u001b[39;49;00m\u001b[43m,\u001b[49m\u001b[43m \u001b[49m\u001b[43mfscope\u001b[49m\u001b[43m)\u001b[49m\u001b[43m,\u001b[49m\u001b[43m)\u001b[49m\u001b[43m,\u001b[49m\u001b[43m \u001b[49m\u001b[38;5;28;43;01mNone\u001b[39;49;00m\u001b[43m,\u001b[49m\u001b[43m \u001b[49m\u001b[43mfscope\u001b[49m\u001b[43m)\u001b[49m\n",
      "File \u001b[1;32mc:\\Users\\Leonardo\\AppData\\Local\\Programs\\Python\\Python310\\lib\\site-packages\\keras\\optimizers\\optimizer_v2\\optimizer_v2.py:689\u001b[0m, in \u001b[0;36mOptimizerV2.apply_gradients\u001b[1;34m(self, grads_and_vars, name, experimental_aggregate_gradients)\u001b[0m\n\u001b[0;32m    648\u001b[0m \u001b[38;5;28;01mdef\u001b[39;00m \u001b[38;5;21mapply_gradients\u001b[39m(\n\u001b[0;32m    649\u001b[0m     \u001b[38;5;28mself\u001b[39m, grads_and_vars, name\u001b[38;5;241m=\u001b[39m\u001b[38;5;28;01mNone\u001b[39;00m, experimental_aggregate_gradients\u001b[38;5;241m=\u001b[39m\u001b[38;5;28;01mTrue\u001b[39;00m\n\u001b[0;32m    650\u001b[0m ):\n\u001b[0;32m    651\u001b[0m     \u001b[38;5;124;03m\"\"\"Apply gradients to variables.\u001b[39;00m\n\u001b[0;32m    652\u001b[0m \n\u001b[0;32m    653\u001b[0m \u001b[38;5;124;03m    This is the second part of `minimize()`. It returns an `Operation` that\u001b[39;00m\n\u001b[1;32m   (...)\u001b[0m\n\u001b[0;32m    687\u001b[0m \u001b[38;5;124;03m      RuntimeError: If called in a cross-replica context.\u001b[39;00m\n\u001b[0;32m    688\u001b[0m \u001b[38;5;124;03m    \"\"\"\u001b[39;00m\n\u001b[1;32m--> 689\u001b[0m     grads_and_vars \u001b[38;5;241m=\u001b[39m \u001b[43moptimizer_utils\u001b[49m\u001b[38;5;241;43m.\u001b[39;49m\u001b[43mfilter_empty_gradients\u001b[49m\u001b[43m(\u001b[49m\u001b[43mgrads_and_vars\u001b[49m\u001b[43m)\u001b[49m\n\u001b[0;32m    690\u001b[0m     var_list \u001b[38;5;241m=\u001b[39m [v \u001b[38;5;28;01mfor\u001b[39;00m (_, v) \u001b[38;5;129;01min\u001b[39;00m grads_and_vars]\n\u001b[0;32m    692\u001b[0m     \u001b[38;5;28;01mwith\u001b[39;00m tf\u001b[38;5;241m.\u001b[39mname_scope(\u001b[38;5;28mself\u001b[39m\u001b[38;5;241m.\u001b[39m_name):\n\u001b[0;32m    693\u001b[0m         \u001b[38;5;66;03m# Create iteration if necessary.\u001b[39;00m\n",
      "File \u001b[1;32mc:\\Users\\Leonardo\\AppData\\Local\\Programs\\Python\\Python310\\lib\\site-packages\\keras\\optimizers\\optimizer_v2\\utils.py:77\u001b[0m, in \u001b[0;36mfilter_empty_gradients\u001b[1;34m(grads_and_vars)\u001b[0m\n\u001b[0;32m     75\u001b[0m \u001b[38;5;28;01mif\u001b[39;00m \u001b[38;5;129;01mnot\u001b[39;00m filtered:\n\u001b[0;32m     76\u001b[0m     variable \u001b[38;5;241m=\u001b[39m ([v\u001b[38;5;241m.\u001b[39mname \u001b[38;5;28;01mfor\u001b[39;00m _, v \u001b[38;5;129;01min\u001b[39;00m grads_and_vars],)\n\u001b[1;32m---> 77\u001b[0m     \u001b[38;5;28;01mraise\u001b[39;00m \u001b[38;5;167;01mValueError\u001b[39;00m(\n\u001b[0;32m     78\u001b[0m         \u001b[38;5;124mf\u001b[39m\u001b[38;5;124m\"\u001b[39m\u001b[38;5;124mNo gradients provided for any variable: \u001b[39m\u001b[38;5;132;01m{\u001b[39;00mvariable\u001b[38;5;132;01m}\u001b[39;00m\u001b[38;5;124m. \u001b[39m\u001b[38;5;124m\"\u001b[39m\n\u001b[0;32m     79\u001b[0m         \u001b[38;5;124mf\u001b[39m\u001b[38;5;124m\"\u001b[39m\u001b[38;5;124mProvided `grads_and_vars` is \u001b[39m\u001b[38;5;132;01m{\u001b[39;00mgrads_and_vars\u001b[38;5;132;01m}\u001b[39;00m\u001b[38;5;124m.\u001b[39m\u001b[38;5;124m\"\u001b[39m\n\u001b[0;32m     80\u001b[0m     )\n\u001b[0;32m     81\u001b[0m \u001b[38;5;28;01mif\u001b[39;00m vars_with_empty_grads:\n\u001b[0;32m     82\u001b[0m     logging\u001b[38;5;241m.\u001b[39mwarning(\n\u001b[0;32m     83\u001b[0m         (\n\u001b[0;32m     84\u001b[0m             \u001b[38;5;124m\"\u001b[39m\u001b[38;5;124mGradients do not exist for variables \u001b[39m\u001b[38;5;132;01m%s\u001b[39;00m\u001b[38;5;124m when minimizing the \u001b[39m\u001b[38;5;124m\"\u001b[39m\n\u001b[1;32m   (...)\u001b[0m\n\u001b[0;32m     88\u001b[0m         ([v\u001b[38;5;241m.\u001b[39mname \u001b[38;5;28;01mfor\u001b[39;00m v \u001b[38;5;129;01min\u001b[39;00m vars_with_empty_grads]),\n\u001b[0;32m     89\u001b[0m     )\n",
      "\u001b[1;31mValueError\u001b[0m: in user code:\n\n    File \"C:\\Users\\Leonardo\\AppData\\Local\\Temp\\ipykernel_15316\\2371878125.py\", line 57, in step  *\n        self.meta_optimizer.apply_gradients(zip(optimizer_gradients, self.trainable_variables))\n    File \"c:\\Users\\Leonardo\\AppData\\Local\\Programs\\Python\\Python310\\lib\\site-packages\\keras\\optimizers\\optimizer_v2\\optimizer_v2.py\", line 689, in apply_gradients  **\n        grads_and_vars = optimizer_utils.filter_empty_gradients(grads_and_vars)\n    File \"c:\\Users\\Leonardo\\AppData\\Local\\Programs\\Python\\Python310\\lib\\site-packages\\keras\\optimizers\\optimizer_v2\\utils.py\", line 77, in filter_empty_gradients\n        raise ValueError(\n\n    ValueError: No gradients provided for any variable: (['Variable:0', 'Variable:0', 'Variable:0', 'Variable:0'],). Provided `grads_and_vars` is ((None, <tf.Variable 'Variable:0' shape=(13, 30) dtype=float32>), (None, <tf.Variable 'Variable:0' shape=(30,) dtype=float32>), (None, <tf.Variable 'Variable:0' shape=(30, 1) dtype=float32>), (None, <tf.Variable 'Variable:0' shape=(1,) dtype=float32>)).\n"
     ]
    }
   ],
   "source": [
    "train_losses = []\n",
    "\n",
    "for epoch in tqdm(range(100)):\n",
    "    \n",
    "    # Our beautiful neural optimizer\n",
    "    optimizer.step(model, criterion, epoch, X_train_tensor, y_train_tensor)\n",
    "    #optimizer.transfer(model)\n",
    "    \n",
    "    # Store loss value\n",
    "    train_losses.append(criterion(model(X_train_tensor), y_train_tensor))\n",
    "    \n",
    "    '''\n",
    "    # Print progress\n",
    "    if (epoch+1) % 10 == 0:\n",
    "        print(f'Epoch [{epoch+1}/{100}], Loss: {loss.item():.4f}')\n",
    "    \n",
    "    # Evaluate the model on the test set\n",
    "    with torch.no_grad():\n",
    "        test_outputs = model(X_test_tensor)\n",
    "        test_loss = criterion(test_outputs, y_test_tensor)\n",
    "        #print(f'Test Loss: {test_loss.item():.4f}')\n",
    "    '''"
   ]
  },
  {
   "cell_type": "code",
   "execution_count": null,
   "metadata": {},
   "outputs": [],
   "source": [
    "plt.loglog(train_losses)"
   ]
  }
 ],
 "metadata": {
  "kernelspec": {
   "display_name": "Python 3",
   "language": "python",
   "name": "python3"
  },
  "language_info": {
   "codemirror_mode": {
    "name": "ipython",
    "version": 3
   },
   "file_extension": ".py",
   "mimetype": "text/x-python",
   "name": "python",
   "nbconvert_exporter": "python",
   "pygments_lexer": "ipython3",
   "version": "3.10.7"
  }
 },
 "nbformat": 4,
 "nbformat_minor": 2
}
