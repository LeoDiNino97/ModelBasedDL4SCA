{
 "cells": [
  {
   "cell_type": "markdown",
   "metadata": {},
   "source": [
    "# Unrolling neural network training"
   ]
  },
  {
   "cell_type": "code",
   "execution_count": 8,
   "metadata": {},
   "outputs": [],
   "source": [
    "import numpy as np\n",
    "\n",
    "from tqdm import tqdm\n",
    "from matplotlib import pyplot as plt\n",
    "\n",
    "import torch, numpy as np\n",
    "import torch.nn.functional as F\n",
    "import torch.nn as nn\n",
    "import torch.utils.data as Data\n",
    "import matplotlib.pyplot as plt\n",
    "\n",
    "from sklearn.datasets import load_boston\n",
    "from sklearn.preprocessing import StandardScaler\n",
    "from sklearn.model_selection import train_test_split\n",
    "\n",
    "\n",
    "SEED = 4200\n",
    "torch.manual_seed(SEED)\n",
    "np.random.seed(SEED)\n",
    "\n",
    "torch.set_default_dtype(torch.float32)\n",
    "\n",
    "import warnings\n",
    "warnings.filterwarnings(\"ignore\")\n"
   ]
  },
  {
   "cell_type": "markdown",
   "metadata": {},
   "source": [
    "## Toy case models and datasets"
   ]
  },
  {
   "cell_type": "code",
   "execution_count": 9,
   "metadata": {},
   "outputs": [],
   "source": [
    "boston = load_boston()\n",
    "X = boston.data\n",
    "y = boston.target\n",
    "\n",
    "# Standardize the features\n",
    "scaler = StandardScaler()\n",
    "X = scaler.fit_transform(X)\n",
    "\n",
    "# Split the dataset into training and testing sets\n",
    "X_train, X_test, y_train, y_test = train_test_split(X, y, test_size=0.2, random_state=42)\n",
    "\n",
    "# Convert data to PyTorch tensors\n",
    "X_train_tensor = torch.tensor(X_train, dtype=torch.float32)\n",
    "y_train_tensor = torch.tensor(y_train, dtype=torch.float32).view(-1, 1)  # Reshape y_train to match model output shape\n",
    "X_test_tensor = torch.tensor(X_test, dtype=torch.float32)\n",
    "y_test_tensor = torch.tensor(y_test, dtype=torch.float32).view(-1, 1)  # Reshape y_test to match model output shape"
   ]
  },
  {
   "cell_type": "code",
   "execution_count": 20,
   "metadata": {},
   "outputs": [],
   "source": [
    "model = nn.Sequential(\n",
    "    nn.Linear(13, 30),\n",
    "    nn.ReLU(),\n",
    "    nn.Linear(30, 1)\n",
    ")\n",
    "\n",
    "optimizer = torch.optim.Adam(params=model.parameters(), lr=1e-1, weight_decay = 5e-4)\n",
    "criterion = nn.MSELoss()"
   ]
  },
  {
   "cell_type": "code",
   "execution_count": 74,
   "metadata": {},
   "outputs": [
    {
     "name": "stdout",
     "output_type": "stream",
     "text": [
      "Shape: 2\n",
      "Shape: 1\n",
      "Shape: 2\n",
      "Shape: 1\n"
     ]
    }
   ],
   "source": [
    "for i, (name, param) in enumerate(model.named_parameters()):\n",
    "    print(f\"Shape: {len(param.shape)}\")"
   ]
  },
  {
   "cell_type": "markdown",
   "metadata": {},
   "source": [
    "### Simple training loop "
   ]
  },
  {
   "cell_type": "code",
   "execution_count": 22,
   "metadata": {},
   "outputs": [
    {
     "name": "stdout",
     "output_type": "stream",
     "text": [
      "Epoch [10/100], Loss: 116.2047\n",
      "Epoch [20/100], Loss: 40.2300\n",
      "Epoch [30/100], Loss: 21.5361\n",
      "Epoch [40/100], Loss: 16.2013\n",
      "Epoch [50/100], Loss: 13.5249\n",
      "Epoch [60/100], Loss: 11.8810\n",
      "Epoch [70/100], Loss: 10.5504\n",
      "Epoch [80/100], Loss: 9.7938\n",
      "Epoch [90/100], Loss: 9.2201\n",
      "Epoch [100/100], Loss: 8.6951\n",
      "Test Loss: 11.3871\n"
     ]
    }
   ],
   "source": [
    "train_losses = []\n",
    "\n",
    "for epoch in range(100):\n",
    "    # Forward pass\n",
    "    \n",
    "    outputs = model(X_train_tensor)\n",
    "    loss = criterion(outputs, y_train_tensor)\n",
    "    \n",
    "    # Backward pass and optimization\n",
    "    optimizer.zero_grad()\n",
    "    loss.backward()\n",
    "    optimizer.step()\n",
    "    \n",
    "    # Store loss value\n",
    "    train_losses.append(loss.item())\n",
    "    \n",
    "    # Print progress\n",
    "    if (epoch+1) % 10 == 0:\n",
    "        print(f'Epoch [{epoch+1}/{100}], Loss: {loss.item():.4f}')\n",
    "\n",
    "# Evaluate the model on the test set\n",
    "with torch.no_grad():\n",
    "    test_outputs = model(X_test_tensor)\n",
    "    test_loss = criterion(test_outputs, y_test_tensor)\n",
    "    print(f'Test Loss: {test_loss.item():.4f}')"
   ]
  },
  {
   "cell_type": "code",
   "execution_count": 30,
   "metadata": {},
   "outputs": [
    {
     "data": {
      "text/plain": [
       "[<matplotlib.lines.Line2D at 0x23a3affa200>]"
      ]
     },
     "execution_count": 30,
     "metadata": {},
     "output_type": "execute_result"
    },
    {
     "data": {
      "image/png": "[encoded data removed]",
      "text/plain": [
       "<Figure size 640x480 with 1 Axes>"
      ]
     },
     "metadata": {},
     "output_type": "display_data"
    }
   ],
   "source": [
    "plt.loglog(train_losses)"
   ]
  },
  {
   "cell_type": "markdown",
   "metadata": {},
   "source": [
    "### SCANTRA - DeepUnrolling SCA for Neural networks TRAining"
   ]
  },
  {
   "cell_type": "markdown",
   "metadata": {},
   "source": [
    "Let's try to define a surrogate loss using a general purpose second order approximations and the gradient of the feedforward network. "
   ]
  },
  {
   "cell_type": "code",
   "execution_count": 67,
   "metadata": {},
   "outputs": [],
   "source": [
    "class SCANTRALayer(nn.Module):\n",
    "    def __init__(self, model, lambda_ = 0.1, tau = 1, gamma = 0.9):\n",
    "        super().__init__()\n",
    "\n",
    "        # Initialization of the learnable parameters\n",
    "        self.lambda_ = nn.Parameter(torch.ones(1)*lambda_, requires_grad = True)\n",
    "        self.tau = nn.Parameter(torch.ones(1)*tau, requires_grad = True)\n",
    "        self.gamma = gamma\n",
    "        \n",
    "        self.B = []\n",
    "        for _, p in model.named_parameters():\n",
    "            self.B.append(nn.Parameter(torch.randn(p.shape[0]), requires_grad = True))\n",
    "\n",
    "        self.B = nn.ParameterList(self.B + [self.lambda_, self.tau])\n",
    "\n",
    "\n",
    "    def forward(self, model):\n",
    "        for i, (_, p) in enumerate(model.named_parameters()):\n",
    "            K = p.grad\n",
    "\n",
    "            # Local optimization step\n",
    "            if len(p.shape) == 1:\n",
    "                I = torch.ones(self.B[i].shape[0])\n",
    "                H = self.B[i]**2 + self.tau*I\n",
    "                M = torch.linalg.inv((2*self.lambda_ + self.tau)*I + H)\n",
    "                \n",
    "            else:\n",
    "                I = self.tau*torch.eye(self.B[i].shape[0])\n",
    "                H = torch.outer(self.B[i],self.B[i]) + self.tau*I\n",
    "                M = 1/((2*self.lambda_ + self.tau)*I + H)\n",
    "\n",
    "            w_hat = M @ (H @ p - K)\n",
    "\n",
    "            p = p + self.gamma*(w_hat - p)"
   ]
  },
  {
   "cell_type": "code",
   "execution_count": 68,
   "metadata": {},
   "outputs": [],
   "source": [
    "class SCANTRANet(nn.Module):\n",
    "    def __init__(self, model, T = 10, lambda_ = 0.1, tau = 25, gamma = 0.99):\n",
    "        super(SCANTRANet, self).__init__()\n",
    "        \n",
    "        # Number of iterations <-> number of layers\n",
    "        self.T = T\n",
    "\n",
    "        # Initialization of the learnable parameters\n",
    "        self.lambda_0 = torch.ones(T)*lambda_\n",
    "        self.tau_0 = torch.ones(T)*tau\n",
    "        self.gamma_0 = torch.ones(T)*gamma\n",
    "\n",
    "        for i in range(self.T):\n",
    "            self.gamma_0[i] *= 0.99**i\n",
    "            \n",
    "        # Defining the layers\n",
    "        self.SCANTRA_layers = nn.ModuleList([SCANTRALayer(model,\n",
    "                                                          self.lambda_0[i], \n",
    "                                                          self.tau_0[i], \n",
    "                                                          self.gamma_0[i]\n",
    "                                                          ) for i in range(self.T)])\n",
    "        \n",
    "    def forward(self, model):\n",
    "        for i in range(self.T-1):\n",
    "            self.SCANTRA_layers[i].forward(model)\n",
    "\n",
    "        self.source = model\n",
    "    \n",
    "    def learn(self, model):\n",
    "        pass\n",
    "\n",
    "    '''\n",
    "    def transfer(self, target):\n",
    "        target.load_state_dict(self.source.state_dict())\n",
    "    '''"
   ]
  },
  {
   "cell_type": "code",
   "execution_count": 75,
   "metadata": {},
   "outputs": [],
   "source": [
    "optimizer = SCANTRANet(model)"
   ]
  },
  {
   "cell_type": "code",
   "execution_count": 76,
   "metadata": {},
   "outputs": [
    {
     "data": {
      "text/plain": [
       "<bound method Module.parameters of SCANTRANet(\n",
       "  (SCANTRA_layers): ModuleList(\n",
       "    (0): SCANTRALayer(\n",
       "      (B): ParameterList(\n",
       "          (0): Parameter containing: [torch.float32 of size 30]\n",
       "          (1): Parameter containing: [torch.float32 of size 30]\n",
       "          (2): Parameter containing: [torch.float32 of size 1]\n",
       "          (3): Parameter containing: [torch.float32 of size 1]\n",
       "          (4): Parameter containing: [torch.float32 of size 1]\n",
       "          (5): Parameter containing: [torch.float32 of size 1]\n",
       "      )\n",
       "    )\n",
       "    (1): SCANTRALayer(\n",
       "      (B): ParameterList(\n",
       "          (0): Parameter containing: [torch.float32 of size 30]\n",
       "          (1): Parameter containing: [torch.float32 of size 30]\n",
       "          (2): Parameter containing: [torch.float32 of size 1]\n",
       "          (3): Parameter containing: [torch.float32 of size 1]\n",
       "          (4): Parameter containing: [torch.float32 of size 1]\n",
       "          (5): Parameter containing: [torch.float32 of size 1]\n",
       "      )\n",
       "    )\n",
       "    (2): SCANTRALayer(\n",
       "      (B): ParameterList(\n",
       "          (0): Parameter containing: [torch.float32 of size 30]\n",
       "          (1): Parameter containing: [torch.float32 of size 30]\n",
       "          (2): Parameter containing: [torch.float32 of size 1]\n",
       "          (3): Parameter containing: [torch.float32 of size 1]\n",
       "          (4): Parameter containing: [torch.float32 of size 1]\n",
       "          (5): Parameter containing: [torch.float32 of size 1]\n",
       "      )\n",
       "    )\n",
       "    (3): SCANTRALayer(\n",
       "      (B): ParameterList(\n",
       "          (0): Parameter containing: [torch.float32 of size 30]\n",
       "          (1): Parameter containing: [torch.float32 of size 30]\n",
       "          (2): Parameter containing: [torch.float32 of size 1]\n",
       "          (3): Parameter containing: [torch.float32 of size 1]\n",
       "          (4): Parameter containing: [torch.float32 of size 1]\n",
       "          (5): Parameter containing: [torch.float32 of size 1]\n",
       "      )\n",
       "    )\n",
       "    (4): SCANTRALayer(\n",
       "      (B): ParameterList(\n",
       "          (0): Parameter containing: [torch.float32 of size 30]\n",
       "          (1): Parameter containing: [torch.float32 of size 30]\n",
       "          (2): Parameter containing: [torch.float32 of size 1]\n",
       "          (3): Parameter containing: [torch.float32 of size 1]\n",
       "          (4): Parameter containing: [torch.float32 of size 1]\n",
       "          (5): Parameter containing: [torch.float32 of size 1]\n",
       "      )\n",
       "    )\n",
       "    (5): SCANTRALayer(\n",
       "      (B): ParameterList(\n",
       "          (0): Parameter containing: [torch.float32 of size 30]\n",
       "          (1): Parameter containing: [torch.float32 of size 30]\n",
       "          (2): Parameter containing: [torch.float32 of size 1]\n",
       "          (3): Parameter containing: [torch.float32 of size 1]\n",
       "          (4): Parameter containing: [torch.float32 of size 1]\n",
       "          (5): Parameter containing: [torch.float32 of size 1]\n",
       "      )\n",
       "    )\n",
       "    (6): SCANTRALayer(\n",
       "      (B): ParameterList(\n",
       "          (0): Parameter containing: [torch.float32 of size 30]\n",
       "          (1): Parameter containing: [torch.float32 of size 30]\n",
       "          (2): Parameter containing: [torch.float32 of size 1]\n",
       "          (3): Parameter containing: [torch.float32 of size 1]\n",
       "          (4): Parameter containing: [torch.float32 of size 1]\n",
       "          (5): Parameter containing: [torch.float32 of size 1]\n",
       "      )\n",
       "    )\n",
       "    (7): SCANTRALayer(\n",
       "      (B): ParameterList(\n",
       "          (0): Parameter containing: [torch.float32 of size 30]\n",
       "          (1): Parameter containing: [torch.float32 of size 30]\n",
       "          (2): Parameter containing: [torch.float32 of size 1]\n",
       "          (3): Parameter containing: [torch.float32 of size 1]\n",
       "          (4): Parameter containing: [torch.float32 of size 1]\n",
       "          (5): Parameter containing: [torch.float32 of size 1]\n",
       "      )\n",
       "    )\n",
       "    (8): SCANTRALayer(\n",
       "      (B): ParameterList(\n",
       "          (0): Parameter containing: [torch.float32 of size 30]\n",
       "          (1): Parameter containing: [torch.float32 of size 30]\n",
       "          (2): Parameter containing: [torch.float32 of size 1]\n",
       "          (3): Parameter containing: [torch.float32 of size 1]\n",
       "          (4): Parameter containing: [torch.float32 of size 1]\n",
       "          (5): Parameter containing: [torch.float32 of size 1]\n",
       "      )\n",
       "    )\n",
       "    (9): SCANTRALayer(\n",
       "      (B): ParameterList(\n",
       "          (0): Parameter containing: [torch.float32 of size 30]\n",
       "          (1): Parameter containing: [torch.float32 of size 30]\n",
       "          (2): Parameter containing: [torch.float32 of size 1]\n",
       "          (3): Parameter containing: [torch.float32 of size 1]\n",
       "          (4): Parameter containing: [torch.float32 of size 1]\n",
       "          (5): Parameter containing: [torch.float32 of size 1]\n",
       "      )\n",
       "    )\n",
       "  )\n",
       ")>"
      ]
     },
     "execution_count": 76,
     "metadata": {},
     "output_type": "execute_result"
    }
   ],
   "source": [
    "optimizer.parameters"
   ]
  },
  {
   "cell_type": "markdown",
   "metadata": {},
   "source": [
    "The problem is: how do I train at the same time the network and the optimizer? "
   ]
  },
  {
   "cell_type": "code",
   "execution_count": null,
   "metadata": {},
   "outputs": [],
   "source": [
    "train_losses = []\n",
    "\n",
    "for epoch in range(100):\n",
    "    # Forward pass\n",
    "    \n",
    "    outputs = model(X_train_tensor)\n",
    "    loss = criterion(outputs, y_train_tensor)\n",
    "    \n",
    "    # Backward pass and optimization\n",
    "    loss.backward()\n",
    "    \n",
    "    # Our beautiful neural optimizer\n",
    "    optimizer.forward(model)\n",
    "    optimizer.learn()\n",
    "    #optimizer.transfer()\n",
    "    \n",
    "    # Store loss value\n",
    "    train_losses.append(loss.item())\n",
    "    \n",
    "    # Print progress\n",
    "    if (epoch+1) % 10 == 0:\n",
    "        print(f'Epoch [{epoch+1}/{100}], Loss: {loss.item():.4f}')\n",
    "\n",
    "# Evaluate the model on the test set\n",
    "with torch.no_grad():\n",
    "    test_outputs = model(X_test_tensor)\n",
    "    test_loss = criterion(test_outputs, y_test_tensor)\n",
    "    print(f'Test Loss: {test_loss.item():.4f}')"
   ]
  }
 ],
 "metadata": {
  "kernelspec": {
   "display_name": "Python 3",
   "language": "python",
   "name": "python3"
  },
  "language_info": {
   "codemirror_mode": {
    "name": "ipython",
    "version": 3
   },
   "file_extension": ".py",
   "mimetype": "text/x-python",
   "name": "python",
   "nbconvert_exporter": "python",
   "pygments_lexer": "ipython3",
   "version": "3.10.7"
  }
 },
 "nbformat": 4,
 "nbformat_minor": 2
}
