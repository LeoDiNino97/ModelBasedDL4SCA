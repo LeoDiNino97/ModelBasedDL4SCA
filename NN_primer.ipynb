{
 "cells": [
  {
   "cell_type": "markdown",
   "metadata": {},
   "source": [
    "# Unrolling neural network training"
   ]
  },
  {
   "cell_type": "code",
   "execution_count": 8,
   "metadata": {},
   "outputs": [],
   "source": [
    "import numpy as np\n",
    "\n",
    "from tqdm import tqdm\n",
    "from matplotlib import pyplot as plt\n",
    "\n",
    "import torch, numpy as np\n",
    "import torch.nn.functional as F\n",
    "import torch.nn as nn\n",
    "import torch.utils.data as Data\n",
    "import matplotlib.pyplot as plt\n",
    "\n",
    "from sklearn.datasets import load_boston\n",
    "from sklearn.preprocessing import StandardScaler\n",
    "from sklearn.model_selection import train_test_split\n",
    "\n",
    "\n",
    "SEED = 4200\n",
    "torch.manual_seed(SEED)\n",
    "np.random.seed(SEED)\n",
    "\n",
    "torch.set_default_dtype(torch.float32)\n",
    "\n",
    "import warnings\n",
    "warnings.filterwarnings(\"ignore\")\n"
   ]
  },
  {
   "cell_type": "markdown",
   "metadata": {},
   "source": [
    "## Toy case models and datasets"
   ]
  },
  {
   "cell_type": "code",
   "execution_count": 9,
   "metadata": {},
   "outputs": [],
   "source": [
    "boston = load_boston()\n",
    "X = boston.data\n",
    "y = boston.target\n",
    "\n",
    "# Standardize the features\n",
    "scaler = StandardScaler()\n",
    "X = scaler.fit_transform(X)\n",
    "\n",
    "# Split the dataset into training and testing sets\n",
    "X_train, X_test, y_train, y_test = train_test_split(X, y, test_size=0.2, random_state=42)\n",
    "\n",
    "# Convert data to PyTorch tensors\n",
    "X_train_tensor = torch.tensor(X_train, dtype=torch.float32)\n",
    "y_train_tensor = torch.tensor(y_train, dtype=torch.float32).view(-1, 1)  # Reshape y_train to match model output shape\n",
    "X_test_tensor = torch.tensor(X_test, dtype=torch.float32)\n",
    "y_test_tensor = torch.tensor(y_test, dtype=torch.float32).view(-1, 1)  # Reshape y_test to match model output shape"
   ]
  },
  {
   "cell_type": "code",
   "execution_count": 20,
   "metadata": {},
   "outputs": [],
   "source": [
    "model = nn.Sequential(\n",
    "    nn.Linear(13, 30),\n",
    "    nn.ReLU(),\n",
    "    nn.Linear(30, 1)\n",
    ")\n",
    "\n",
    "optimizer = torch.optim.Adam(params=model.parameters(), lr=1e-1, weight_decay = 5e-4)\n",
    "criterion = nn.MSELoss()"
   ]
  },
  {
   "cell_type": "code",
   "execution_count": 28,
   "metadata": {},
   "outputs": [
    {
     "name": "stdout",
     "output_type": "stream",
     "text": [
      "Parameter name: 0.weight, Shape: Parameter containing:\n",
      "tensor([[-1.0346e+00,  6.2389e-01, -1.0797e+00,  7.8317e-01, -8.6354e-01,\n",
      "         -1.9224e-01, -1.6218e+00,  8.6188e-01, -2.6049e-01, -5.5163e-01,\n",
      "          5.6721e-01,  1.1714e+00,  4.5271e-01],\n",
      "        [-1.4258e+00, -3.6481e-02, -5.6696e-01, -9.4656e-01, -2.7237e-01,\n",
      "          1.6556e+00, -5.2755e-01,  1.3275e-01, -9.2070e-01, -1.1447e+00,\n",
      "         -2.0586e-01,  4.2844e-01, -2.1657e-03],\n",
      "        [-1.1305e+00, -1.3530e+00,  9.1565e-01,  5.0802e-01, -5.9766e-01,\n",
      "         -1.2530e+00, -4.7714e-01, -1.9135e+00,  2.7283e-02, -5.5570e-02,\n",
      "         -1.1352e+00,  6.3929e-01, -9.3514e-01],\n",
      "        [-1.3148e+00, -2.7417e-01, -2.8234e-01, -4.4935e-01, -5.0775e-01,\n",
      "          1.2385e+00, -7.4419e-01,  1.5403e-01, -7.5280e-01, -8.3993e-01,\n",
      "         -8.7209e-01,  8.1866e-01, -4.8006e-01],\n",
      "        [-9.6336e-01, -5.8634e-01,  4.5377e-01, -2.2979e-01, -1.0874e+00,\n",
      "         -6.9124e-01, -5.7154e-02,  5.4381e-01, -1.1181e+00, -2.3354e-01,\n",
      "          3.7599e-01,  4.6995e-01, -1.0459e+00],\n",
      "        [ 1.2569e-01,  1.7060e-01, -4.4179e-01,  1.2328e+00, -3.7505e-02,\n",
      "          1.8045e+00, -5.3105e-01, -8.2830e-01,  6.7171e-01, -2.5742e-01,\n",
      "         -2.3542e-01,  9.6288e-01, -8.6847e-01],\n",
      "        [ 1.4599e-01, -1.4749e+00, -1.4483e+00,  6.3481e-01, -2.2282e+00,\n",
      "         -2.1090e+00,  1.0752e-01, -1.0842e+00,  1.9700e+00,  3.9101e-01,\n",
      "          2.3190e+00, -9.3543e-01, -1.2200e+00],\n",
      "        [-9.7562e-01, -1.8678e+00,  1.4256e+00, -5.7296e-01, -2.5889e-01,\n",
      "          1.2411e-01,  1.8858e-01, -1.2503e+00,  5.6579e-01,  5.1392e-01,\n",
      "         -1.1129e-01, -1.3684e-01, -8.4285e-01],\n",
      "        [-1.5406e+00, -1.9204e+00,  6.0283e-01, -2.6273e+00,  3.0328e-01,\n",
      "         -4.9663e-01,  3.4745e-01,  3.0186e-01, -1.1671e-01, -3.5809e-01,\n",
      "         -1.3331e+00, -4.4893e-01,  1.9387e-02],\n",
      "        [-2.4863e-01, -1.0491e+00, -2.8222e-02, -1.2609e+00,  2.7649e-01,\n",
      "          6.4894e-01,  2.9098e-01, -3.6140e-01,  1.1474e-01, -4.2174e-01,\n",
      "          2.6184e-01,  8.4017e-01, -7.6771e-02],\n",
      "        [-4.3086e-01, -1.4641e+00,  4.3949e-01,  6.4195e-01, -4.8958e-01,\n",
      "         -5.2092e-02,  3.5026e-01, -1.2054e+00,  2.8018e-01,  3.6231e-01,\n",
      "          4.2630e-01,  3.4489e-01, -3.8607e-01],\n",
      "        [-1.3375e+00, -5.4171e-05, -8.2019e-01,  1.7979e-01, -8.9935e-01,\n",
      "          1.3066e+00, -5.5883e-01,  3.4650e-01, -7.4093e-01, -1.2372e+00,\n",
      "         -7.2809e-01,  1.2415e+00,  1.6075e-02],\n",
      "        [-6.2059e-01,  1.0917e-01, -2.9825e-01,  1.3017e+00, -1.0084e+00,\n",
      "          1.2135e+00, -5.0552e-01,  1.7116e-01, -2.1353e-01, -8.7123e-01,\n",
      "         -1.6946e-01,  1.2037e+00, -8.8833e-01],\n",
      "        [-1.3764e+00, -6.7113e-01, -3.0126e-01, -2.4917e+00, -2.0602e-01,\n",
      "          7.9218e-01, -4.4060e-01, -1.0644e-01, -8.0691e-01, -9.9613e-01,\n",
      "          8.6971e-01, -1.1150e-01,  3.5064e-01],\n",
      "        [-1.0019e+00,  4.2028e-01,  5.2552e-01,  7.0096e-01, -5.7806e-01,\n",
      "          8.7855e-01, -9.6425e-01,  2.9885e-01, -6.6272e-01, -4.6460e-01,\n",
      "         -1.9437e+00,  9.6271e-01, -1.3401e+00],\n",
      "        [-5.9844e-01, -9.6803e-01,  1.8556e-01, -3.2061e-01, -3.9050e-01,\n",
      "         -5.4157e-01,  2.0033e-02, -1.5168e-01, -1.2025e+00, -2.6192e-01,\n",
      "          3.4382e-01,  6.9000e-01, -9.8903e-01],\n",
      "        [ 6.3802e-02, -5.7793e-01, -9.1812e-02,  2.6672e-01,  4.4979e-01,\n",
      "          9.6857e-01,  4.8718e-02, -3.2514e-01,  1.0425e+00,  1.3474e+00,\n",
      "          9.2931e-01, -2.7653e-01,  9.2031e-01],\n",
      "        [-6.3730e-01, -8.9450e-01,  4.0675e-01,  1.4086e-01, -6.3282e-01,\n",
      "          1.9744e-01, -7.6708e-01, -2.7323e-01,  1.6631e-01,  1.1047e-01,\n",
      "          1.7077e-01,  2.7964e-01, -9.4272e-01],\n",
      "        [ 2.2860e-01, -8.6798e-01,  4.4039e-01, -3.1751e-01,  1.0125e-01,\n",
      "         -1.9884e+00,  3.8206e-01, -3.8571e-02,  4.6177e-01,  4.5229e-01,\n",
      "          1.0077e+00, -7.9648e-01,  4.3463e-01],\n",
      "        [-1.5428e+00,  2.7045e-02, -7.2605e-01, -1.9927e+00, -5.2875e-01,\n",
      "          1.1622e+00, -1.5254e-02, -7.7449e-02, -9.3515e-01, -8.5582e-01,\n",
      "          3.1943e-01,  2.3422e-01,  2.6932e-01],\n",
      "        [-6.6615e-01, -1.1203e+00, -2.2272e-01,  1.5121e-01, -2.9926e-02,\n",
      "          1.0318e+00,  1.1125e-01, -3.0140e-01, -7.3774e-01, -1.8175e-01,\n",
      "         -7.0292e-01,  9.7916e-01, -1.0435e+00],\n",
      "        [-1.3868e+00,  1.2685e-01, -4.9355e-01, -2.7969e-01, -4.2724e-01,\n",
      "          1.4431e+00, -4.0917e-01,  1.5485e-01, -8.2478e-01, -1.2486e+00,\n",
      "         -4.4137e-01,  1.2944e+00,  1.7554e-01],\n",
      "        [-6.7392e-01, -1.3677e+00,  4.7943e-01, -2.2068e-01, -7.4290e-01,\n",
      "         -7.6397e-01, -5.6674e-01,  6.1555e-02, -3.0405e-01, -8.1392e-02,\n",
      "         -3.5024e-01,  1.5263e-01, -8.5591e-01],\n",
      "        [-7.8923e-01, -6.9643e-02,  1.2946e+00,  5.2039e-01, -8.3924e-01,\n",
      "          1.1264e+00, -2.9314e-01, -1.1166e+00,  6.4396e-01,  4.1349e-01,\n",
      "         -1.7160e-01,  3.0641e-01, -1.8034e+00],\n",
      "        [-7.2724e-01, -1.4054e+00, -1.7949e-02, -2.6868e-01, -7.6203e-01,\n",
      "         -4.0745e-01,  5.2925e-03, -2.4772e-01, -1.3150e+00, -5.3138e-02,\n",
      "          6.5147e-01,  6.5289e-01, -1.2220e+00],\n",
      "        [-7.9003e-01, -8.4903e-01, -3.7000e-01, -1.2853e-01, -6.8761e-01,\n",
      "         -1.5301e-01, -3.4680e-02, -5.8128e-01, -7.6825e-01, -2.6419e-01,\n",
      "         -5.3356e-01,  8.4266e-01, -1.2541e+00],\n",
      "        [-8.2323e-01, -1.2309e+00,  5.7002e-01, -1.6859e-01,  9.6854e-02,\n",
      "         -2.0229e+00,  6.6737e-01, -1.6052e+00,  8.9544e-01,  3.1200e-01,\n",
      "          1.3176e+00,  8.1753e-01,  2.6669e-01],\n",
      "        [ 1.0898e-01,  1.4686e-01,  1.4288e+00,  3.9892e-01, -4.0399e-01,\n",
      "          1.6701e+00,  1.1947e-01, -2.1272e+00,  1.3418e+00,  7.9251e-01,\n",
      "         -1.2789e+00,  1.7319e-01, -2.3966e+00],\n",
      "        [-5.5453e-01, -1.1254e+00, -5.2715e-02,  2.5204e-01,  3.9825e-01,\n",
      "          1.9043e-01,  7.9055e-01, -1.1676e+00,  2.2276e-01, -1.4601e-01,\n",
      "         -3.2794e-01,  3.1537e-01, -1.9196e-01],\n",
      "        [-8.6509e-01,  7.3013e-01, -5.1827e-01,  7.1008e-01, -6.2216e-01,\n",
      "          8.1835e-02, -1.3574e+00,  9.0727e-01, -1.3142e-01, -1.6317e-01,\n",
      "          6.8372e-01,  1.1863e+00, -5.1092e-01]], requires_grad=True), Dtype: torch.float32\n",
      "Parameter name: 0.bias, Shape: Parameter containing:\n",
      "tensor([-0.2251,  1.6201,  0.4638,  1.3464, -0.5960,  0.6216,  1.0354,  0.8386,\n",
      "         2.4252, -0.4872,  1.3937,  0.9806,  0.8811,  1.1250,  0.7976, -0.9723,\n",
      "        -1.2548,  1.5280, -0.9285,  1.5756,  0.0428,  1.2531,  0.9648,  1.7524,\n",
      "        -1.3887, -0.3528,  1.8809,  1.7390,  1.0082, -0.7358],\n",
      "       requires_grad=True), Dtype: torch.float32\n",
      "Parameter name: 2.weight, Shape: Parameter containing:\n",
      "tensor([[ 0.2590,  0.6137,  0.6618,  0.5609, -0.6379,  0.4475,  0.9340,  0.2101,\n",
      "          0.6564, -0.1633,  0.0290,  0.6384,  0.5361,  0.4592, -0.3733, -0.6271,\n",
      "         -0.6265,  0.2085, -0.4560,  0.5772, -0.2759,  0.5620,  0.0075,  0.4953,\n",
      "         -0.8069, -0.3244,  0.5858,  1.2365,  0.2325,  0.1211]],\n",
      "       requires_grad=True), Dtype: torch.float32\n",
      "Parameter name: 2.bias, Shape: Parameter containing:\n",
      "tensor([1.3750], requires_grad=True), Dtype: torch.float32\n"
     ]
    }
   ],
   "source": [
    "for name, param in model.named_parameters():\n",
    "    print(f\"Parameter name: {name}, Shape: {param}, Dtype: {param.dtype}\")"
   ]
  },
  {
   "cell_type": "markdown",
   "metadata": {},
   "source": [
    "### Simple training loop "
   ]
  },
  {
   "cell_type": "code",
   "execution_count": 22,
   "metadata": {},
   "outputs": [
    {
     "name": "stdout",
     "output_type": "stream",
     "text": [
      "Epoch [10/100], Loss: 116.2047\n",
      "Epoch [20/100], Loss: 40.2300\n",
      "Epoch [30/100], Loss: 21.5361\n",
      "Epoch [40/100], Loss: 16.2013\n",
      "Epoch [50/100], Loss: 13.5249\n",
      "Epoch [60/100], Loss: 11.8810\n",
      "Epoch [70/100], Loss: 10.5504\n",
      "Epoch [80/100], Loss: 9.7938\n",
      "Epoch [90/100], Loss: 9.2201\n",
      "Epoch [100/100], Loss: 8.6951\n",
      "Test Loss: 11.3871\n"
     ]
    }
   ],
   "source": [
    "train_losses = []\n",
    "\n",
    "for epoch in range(100):\n",
    "    # Forward pass\n",
    "    \n",
    "    outputs = model(X_train_tensor)\n",
    "    loss = criterion(outputs, y_train_tensor)\n",
    "    \n",
    "    # Backward pass and optimization\n",
    "    optimizer.zero_grad()\n",
    "    loss.backward()\n",
    "    optimizer.step()\n",
    "    \n",
    "    # Store loss value\n",
    "    train_losses.append(loss.item())\n",
    "    \n",
    "    # Print progress\n",
    "    if (epoch+1) % 10 == 0:\n",
    "        print(f'Epoch [{epoch+1}/{100}], Loss: {loss.item():.4f}')\n",
    "\n",
    "# Evaluate the model on the test set\n",
    "with torch.no_grad():\n",
    "    test_outputs = model(X_test_tensor)\n",
    "    test_loss = criterion(test_outputs, y_test_tensor)\n",
    "    print(f'Test Loss: {test_loss.item():.4f}')"
   ]
  },
  {
   "cell_type": "code",
   "execution_count": 24,
   "metadata": {},
   "outputs": [
    {
     "data": {
      "text/plain": [
       "[<matplotlib.lines.Line2D at 0x23a44836a40>]"
      ]
     },
     "execution_count": 24,
     "metadata": {},
     "output_type": "execute_result"
    },
    {
     "data": {
      "image/png": "[encoded data removed]",
      "text/plain": [
       "<Figure size 640x480 with 1 Axes>"
      ]
     },
     "metadata": {},
     "output_type": "display_data"
    }
   ],
   "source": [
    "plt.plot(train_losses)"
   ]
  },
  {
   "cell_type": "markdown",
   "metadata": {},
   "source": [
    "### SCANTRA - DeepUnrolling SCA for Neural networks TRAining"
   ]
  },
  {
   "cell_type": "markdown",
   "metadata": {},
   "source": [
    "Let's try to define a surrogate loss using a general purpose second order approximations and the gradient of the feedforward network. "
   ]
  },
  {
   "cell_type": "code",
   "execution_count": 29,
   "metadata": {},
   "outputs": [],
   "source": [
    "class SCANTRALayer(nn.Module):\n",
    "    def __init__(self, model, lambda_ = 0.1, tau = 1):\n",
    "        super().__init__()\n",
    "\n",
    "        self.model = model\n",
    "\n",
    "        # Initialization of the learnable parameters\n",
    "        self.lambda_ = nn.Parameter(torch.ones(1)*lambda_, requires_grad = True)\n",
    "        self.tau = nn.Parameter(torch.ones(1)*tau, requires_grad = True)\n",
    "        self.B = nn.Parameter(torch.randn(30), requires_grad = True)\n",
    "\n",
    "    def forward(self):\n",
    "        for _, p in self.model.named_parameters():\n",
    "\n",
    "            # Local optimization step\n",
    "\n",
    "            K = p.grad\n",
    "            H = torch.outer(self.B,self.B) + self.tau*torch.eye(self.B.shape[0])\n",
    "            w_hat = torch.linalg.inv((2*self.lambda_ + self.tau)*torch.eye(30) + H) @ (H @ p - K)\n",
    "\n",
    "            p = p + self.gamma*(w_hat - p)"
   ]
  },
  {
   "cell_type": "code",
   "execution_count": null,
   "metadata": {},
   "outputs": [],
   "source": [
    "class SCANTRANet(nn.Module):\n",
    "    def __init__(self, model, T = 10, lambda_ = 0.1, tau = 25, gamma = 0.99):\n",
    "        super(SCANTRANet, self).__init__()\n",
    "\n",
    "        # Measurements matrix\n",
    "        self.model = model\n",
    "        \n",
    "        # Number of iterations <-> number of layers\n",
    "        self.T = T\n",
    "\n",
    "        # Initialization of the learnable parameters\n",
    "        self.lambda_0 = torch.ones(T)*lambda_\n",
    "        self.tau_0 = torch.ones(T)*tau\n",
    "        self.gamma_0 = torch.ones(T)*gamma\n",
    "\n",
    "        for i in range(self.T):\n",
    "            self.gamma_0[i] *= 0.99**i\n",
    "            \n",
    "        # Defining the layers\n",
    "        self.SCANTRA_layers = nn.ModuleList([SCANTRALayer(self.model, \n",
    "                                                        self.lambda_0[i], \n",
    "                                                        self.tau_0[i], \n",
    "                                                        self.gamma_0[i]\n",
    "                                                        ) for i in range(self.T)])\n",
    "        \n",
    "    def forward(self, y):\n",
    "        for i in range(self.T-1):\n",
    "            self.SCANTRA_layers[i].forward()\n",
    "\n",
    "        return self.model"
   ]
  }
 ],
 "metadata": {
  "kernelspec": {
   "display_name": "Python 3",
   "language": "python",
   "name": "python3"
  },
  "language_info": {
   "codemirror_mode": {
    "name": "ipython",
    "version": 3
   },
   "file_extension": ".py",
   "mimetype": "text/x-python",
   "name": "python",
   "nbconvert_exporter": "python",
   "pygments_lexer": "ipython3",
   "version": "3.10.7"
  }
 },
 "nbformat": 4,
 "nbformat_minor": 2
}
