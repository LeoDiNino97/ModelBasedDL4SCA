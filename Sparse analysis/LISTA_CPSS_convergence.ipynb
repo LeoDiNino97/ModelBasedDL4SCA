{
 "cells": [
  {
   "cell_type": "code",
   "execution_count": 1,
   "metadata": {},
   "outputs": [],
   "source": [
    "import numpy as np\n",
    "import cvxpy as cp\n",
    "\n",
    "from tqdm import tqdm\n",
    "from matplotlib import pyplot as plt\n",
    "from matplotlib.ticker import MaxNLocator\n",
    "\n",
    "import torch\n",
    "import torch.nn.functional as F\n",
    "import torch.nn as nn\n",
    "import torch.utils.data as Data\n",
    "import matplotlib.pyplot as plt\n",
    "\n",
    "import warnings\n",
    "warnings.filterwarnings(\"ignore\")"
   ]
  },
  {
   "cell_type": "code",
   "execution_count": 2,
   "metadata": {},
   "outputs": [],
   "source": [
    "from models.LISTA_CPSS import LISTA_CPSS\n",
    "from utils.train import train\n",
    "from utils.synthetic_data import SyntheticSignals"
   ]
  },
  {
   "cell_type": "code",
   "execution_count": 3,
   "metadata": {},
   "outputs": [
    {
     "data": {
      "text/plain": [
       "True"
      ]
     },
     "execution_count": 3,
     "metadata": {},
     "output_type": "execute_result"
    }
   ],
   "source": [
    "torch.cuda.is_available()"
   ]
  },
  {
   "cell_type": "code",
   "execution_count": 4,
   "metadata": {},
   "outputs": [
    {
     "name": "stderr",
     "output_type": "stream",
     "text": [
      "100%|██████████| 10/10 [04:26<00:00, 26.69s/it]\n"
     ]
    }
   ],
   "source": [
    "M = 10\n",
    "LAYERS = 16\n",
    "BETA_INIT = 0.4\n",
    "EPOCHS = 50\n",
    "SNR = None\n",
    "\n",
    "LISTA_CPSS_models = {\n",
    "    m: None for m in range(M)\n",
    "}\n",
    "\n",
    "for m in tqdm(range(M)):\n",
    "    # Dimensions for the signal, its sparsity and its observation\n",
    "\n",
    "    n_ = 500\n",
    "    m_ = 250\n",
    "    p_ = 0.1\n",
    "\n",
    "    # Sensing matrix\n",
    "\n",
    "    A_ = torch.normal(0, torch.sqrt(torch.tensor(1/m_)), size = (m_, n_))\n",
    "    A_ /= torch.linalg.norm(A_, dim = 0)\n",
    "\n",
    "    # Building a training set and a test set \n",
    "    train_set = SyntheticSignals(\n",
    "        A = A_,\n",
    "        n = n_,        \n",
    "        m = m_,\n",
    "        p = p_,\n",
    "        SNR = SNR,\n",
    "        size = 4000\n",
    "        ).set_loader()\n",
    "\n",
    "    test_set = SyntheticSignals(\n",
    "        A = A_,\n",
    "        n = n_,        \n",
    "        m = m_,\n",
    "        p = p_,\n",
    "        SNR = SNR,\n",
    "        size = 1000\n",
    "        ).set_loader()\n",
    "    \n",
    "    model = LISTA_CPSS(torch.clone(A_), BETA_INIT, LAYERS)\n",
    "    train(model, train_set, test_set, num_epochs=50, verbose = False)\n",
    "\n",
    "    LISTA_CPSS_models[m] = model"
   ]
  },
  {
   "cell_type": "code",
   "execution_count": 8,
   "metadata": {},
   "outputs": [],
   "source": [
    "model_ = LISTA_CPSS_models[0]"
   ]
  },
  {
   "cell_type": "code",
   "execution_count": null,
   "metadata": {},
   "outputs": [],
   "source": [
    "[torch.linalg.norm(model_.W)]"
   ]
  }
 ],
 "metadata": {
  "kernelspec": {
   "display_name": "CUDATORCH",
   "language": "python",
   "name": "python3"
  },
  "language_info": {
   "codemirror_mode": {
    "name": "ipython",
    "version": 3
   },
   "file_extension": ".py",
   "mimetype": "text/x-python",
   "name": "python",
   "nbconvert_exporter": "python",
   "pygments_lexer": "ipython3",
   "version": "3.10.13"
  }
 },
 "nbformat": 4,
 "nbformat_minor": 2
}
