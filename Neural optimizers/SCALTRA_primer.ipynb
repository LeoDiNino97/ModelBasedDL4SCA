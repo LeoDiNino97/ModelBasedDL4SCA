{
 "cells": [
  {
   "cell_type": "code",
   "execution_count": 1,
   "metadata": {},
   "outputs": [],
   "source": [
    "import numpy as np\n",
    "\n",
    "from tqdm import tqdm\n",
    "from matplotlib import pyplot as plt\n",
    "\n",
    "import torch, numpy as np\n",
    "import torch.nn.functional as F\n",
    "import torch.nn as nn\n",
    "import torch.utils.data as Data\n",
    "import matplotlib.pyplot as plt\n",
    "import copy\n",
    "\n",
    "from sklearn.datasets import load_boston\n",
    "from sklearn.preprocessing import StandardScaler\n",
    "from sklearn.model_selection import train_test_split\n",
    "\n",
    "\n",
    "SEED = 4200\n",
    "torch.manual_seed(SEED)\n",
    "np.random.seed(SEED)\n",
    "\n",
    "torch.set_default_dtype(torch.float32)\n",
    "\n",
    "import warnings\n",
    "warnings.filterwarnings(\"ignore\")"
   ]
  },
  {
   "cell_type": "markdown",
   "metadata": {},
   "source": [
    "## Toy case models and datasets"
   ]
  },
  {
   "cell_type": "code",
   "execution_count": 2,
   "metadata": {},
   "outputs": [],
   "source": [
    "boston = load_boston()\n",
    "X = boston.data\n",
    "y = boston.target\n",
    "\n",
    "# Standardize the features\n",
    "scaler = StandardScaler()\n",
    "X = scaler.fit_transform(X)\n",
    "\n",
    "# Split the dataset into training and testing sets\n",
    "X_train, X_test, y_train, y_test = train_test_split(X, y, test_size=0.2, random_state=42)\n",
    "\n",
    "# Convert data to PyTorch tensors\n",
    "X_train_tensor = torch.tensor(X_train, dtype=torch.float32)\n",
    "y_train_tensor = torch.tensor(y_train, dtype=torch.float32).view(-1, 1)  # Reshape y_train to match model output shape\n",
    "X_test_tensor = torch.tensor(X_test, dtype=torch.float32)\n",
    "y_test_tensor = torch.tensor(y_test, dtype=torch.float32).view(-1, 1)  # Reshape y_test to match model output shape"
   ]
  },
  {
   "cell_type": "code",
   "execution_count": 3,
   "metadata": {},
   "outputs": [],
   "source": [
    "model = nn.Sequential(\n",
    "    nn.Linear(13, 30),\n",
    "    nn.ReLU(),\n",
    "    nn.Linear(30, 1)\n",
    ")\n",
    "\n",
    "optimizer = torch.optim.Adam(params=model.parameters(), lr=1e-1, weight_decay = 5e-4)\n",
    "criterion = nn.MSELoss()"
   ]
  },
  {
   "cell_type": "markdown",
   "metadata": {},
   "source": [
    "### Simple training loop "
   ]
  },
  {
   "cell_type": "code",
   "execution_count": 6,
   "metadata": {},
   "outputs": [
    {
     "name": "stdout",
     "output_type": "stream",
     "text": [
      "Epoch [10/100], Loss: 108.9392\n",
      "Epoch [20/100], Loss: 43.4876\n",
      "Epoch [30/100], Loss: 24.4725\n",
      "Epoch [40/100], Loss: 18.0850\n",
      "Epoch [50/100], Loss: 14.4142\n",
      "Epoch [60/100], Loss: 12.0501\n",
      "Epoch [70/100], Loss: 10.4739\n",
      "Epoch [80/100], Loss: 9.5392\n",
      "Epoch [90/100], Loss: 8.7902\n",
      "Epoch [100/100], Loss: 8.1955\n",
      "Test Loss: 12.1529\n"
     ]
    }
   ],
   "source": [
    "train_losses = []\n",
    "\n",
    "for epoch in range(100):\n",
    "    # Forward pass\n",
    "    \n",
    "    outputs = model(X_train_tensor)\n",
    "    loss = criterion(outputs, y_train_tensor)\n",
    "    \n",
    "    # Backward pass and optimization\n",
    "    optimizer.zero_grad()\n",
    "    loss.backward()\n",
    "    optimizer.step()\n",
    "    \n",
    "    # Store loss value\n",
    "    train_losses.append(loss.item())\n",
    "    \n",
    "    # Print progress\n",
    "    if (epoch+1) % 10 == 0:\n",
    "        print(f'Epoch [{epoch+1}/{100}], Loss: {loss.item():.4f}')\n",
    "\n",
    "# Evaluate the model on the test set\n",
    "with torch.no_grad():\n",
    "    test_outputs = model(X_test_tensor)\n",
    "    test_loss = criterion(test_outputs, y_test_tensor)\n",
    "    print(f'Test Loss: {test_loss.item():.4f}')"
   ]
  },
  {
   "cell_type": "code",
   "execution_count": 7,
   "metadata": {},
   "outputs": [
    {
     "data": {
      "text/plain": [
       "[<matplotlib.lines.Line2D at 0x19d6a0e4430>]"
      ]
     },
     "execution_count": 7,
     "metadata": {},
     "output_type": "execute_result"
    },
    {
     "data": {
      "image/png": "[encoded data removed]",
      "text/plain": [
       "<Figure size 640x480 with 1 Axes>"
      ]
     },
     "metadata": {},
     "output_type": "display_data"
    }
   ],
   "source": [
    "plt.loglog(train_losses)"
   ]
  },
  {
   "cell_type": "markdown",
   "metadata": {},
   "source": [
    "### SCALTRA implementation - On the fly metalearning"
   ]
  },
  {
   "cell_type": "code",
   "execution_count": 88,
   "metadata": {},
   "outputs": [],
   "source": [
    "class SCALTRA(nn.Module):\n",
    "    def __init__(self, model, epochs, \n",
    "                 loss_criterion,\n",
    "                 beta = 0.5, tau = 1e2, gamma = 0.9):\n",
    "        super().__init__()\n",
    "\n",
    "        self.gamma = gamma\n",
    "        self.beta = beta\n",
    "\n",
    "        self.B = []\n",
    "        self.tau = []\n",
    "\n",
    "        self.momentum = []\n",
    "\n",
    "        for _, p in model.named_parameters():\n",
    "            self.B.append(nn.Parameter(torch.randn(p.shape), requires_grad = True))\n",
    "            self.tau.append(nn.Parameter(torch.ones(1)*tau, requires_grad = True))\n",
    "            self.momentum.append(torch.zeros_like(p))\n",
    "\n",
    "        self.params = nn.ParameterList(self.B + self.tau)\n",
    "\n",
    "        # Some more initialization\n",
    "\n",
    "        self.loss_criterion = loss_criterion\n",
    "        self.meta_optimizer = torch.optim.Adagrad(params=self.parameters(), lr=0.1)\n",
    "        self.epochs = epochs\n",
    "        self.learning_rate = 1\n",
    "\n",
    "    def forward(self, model, X, y):\n",
    "        train_losses = []\n",
    "\n",
    "        for _ in range(self.epochs):\n",
    "\n",
    "            #new_params = []\n",
    "            B_part_grad = []\n",
    "            tau_part_grad = []\n",
    "\n",
    "            for i, (_, p) in enumerate(model.named_parameters()):\n",
    "\n",
    "                # Local optimization step\n",
    "                if len(p.shape) == 1:\n",
    "                    H = torch.linalg.inv(torch.outer(self.B[i],self.B[i]) + self.tau[i]*torch.eye(self.B[i].shape[0])) @ self.momentum[i]\n",
    "                    #new_params.append(nn.Parameter(p - 1/(self.B[i]**2 + self.tau*torch.ones(self.B[i].shape[0])) * self.momentum[i], requires_grad = True))\n",
    "                    B_part_grad.append(-self.learning_rate*self.gamma*(torch.autograd.grad(H,\n",
    "                                                                                            self.B[i],\n",
    "                                                                                            torch.ones_like(H),\n",
    "                                                                                            retain_graph=True)[0]))\n",
    "                    \n",
    "                    tau_part_grad.append(-self.learning_rate*self.gamma*(torch.autograd.grad(H,\n",
    "                                                                                            self.tau[i],\n",
    "                                                                                            torch.ones_like(H),\n",
    "                                                                                            retain_graph=True)[0]))\n",
    "\n",
    "                else:\n",
    "                    H = torch.linalg.inv(torch.matmul(self.B[i],torch.transpose(self.B[i],0,1)) + self.tau[i]*torch.eye(self.B[i].shape[0])) @ self.momentum[i]\n",
    "\n",
    "                    #H = torch.linalg.inv(torch.matmul(self.params[i],torch.transpose(self.params[i],0,1)) + self.tau*torch.eye(self.params[i].shape[0])) @ self.momentum[i]\n",
    "                    #new_params.append(nn.Parameter(p - torch.linalg.inv(torch.outer(self.B[i],self.B[i]) + self.tau*torch.eye(self.B[i].shape[0])) @ self.momentum[i], requires_grad = True))\n",
    "                    B_part_grad.append(-self.learning_rate*self.gamma*(torch.autograd.grad(H,\n",
    "                                                                                        self.B[i],\n",
    "                                                                                        torch.ones_like(H),\n",
    "                                                                                        retain_graph=True)[0]))\n",
    "                    \n",
    "                    tau_part_grad.append(-self.learning_rate*self.gamma*(torch.autograd.grad(H,\n",
    "                                                                        self.tau[i],\n",
    "                                                                        torch.ones_like(H),\n",
    "                                                                        retain_graph=True)[0]))\n",
    "\n",
    "                with torch.no_grad():\n",
    "\n",
    "                    # Convex smoothing\n",
    "\n",
    "                    p.add_(-self.gamma*(self.learning_rate*H))\n",
    "                \n",
    "\n",
    "            #new_params = nn.ParameterList(new_params)\n",
    "\n",
    "            loss = self.loss_criterion(model(X), y)\n",
    "\n",
    "            # Zero gradients for optimizer parameters\n",
    "            self.zero_grad()\n",
    "\n",
    "            # Backward phase\n",
    "            loss.backward()\n",
    "\n",
    "            for i, (p, v) in enumerate(zip(model.parameters(), self.B)):\n",
    "                v.grad = B_part_grad[i] * p.grad\n",
    "                '''\n",
    "                v.grad = torch.autograd.grad(inputs = new_params[i],\n",
    "                                             outputs = v,\n",
    "                                             grad_outputs=torch.ones_like(v),\n",
    "                                             allow_unused=True)[0] @ p.grad\n",
    "                '''\n",
    "\n",
    "            for i, (p, v) in enumerate(zip(model.parameters(), self.tau)):\n",
    "                v.grad = (tau_part_grad[i] * p.grad.mean())\n",
    "\n",
    "            # Update optimizer parameters\n",
    "            self.meta_optimizer.step()  \n",
    "\n",
    "            # Update momentum\n",
    "            for i, (_, p) in enumerate(model.named_parameters()):\n",
    "                self.momentum[i] = self.beta * self.momentum[i] + (1 - self.beta) * p.grad\n",
    "\n",
    "            train_losses.append(loss.detach().numpy())\n",
    "            \n",
    "            # Updating the learning rates\n",
    "\n",
    "            self.gamma *= 0.9\n",
    "            #self.learning_rate *= 0.9\n",
    "            \n",
    "        return train_losses"
   ]
  },
  {
   "cell_type": "code",
   "execution_count": null,
   "metadata": {},
   "outputs": [],
   "source": [
    "losses = {'SGD':np.zeros((100,100)),\n",
    "          'ADAM':np.zeros((100,100)),\n",
    "          'ADAGrad':np.zeros((100,100)),\n",
    "          'SCALTRA':np.zeros((100,100))}\n",
    "\n",
    "criterion = nn.MSELoss()\n",
    "\n",
    "for i in tqdm(range(100)):\n",
    "    model = nn.Sequential(\n",
    "        nn.Linear(13, 30, bias=True),\n",
    "        nn.ReLU(),\n",
    "        nn.Linear(30, 1, bias=True)\n",
    "    )\n",
    "\n",
    "    optimizer = torch.optim.SGD(params=model.parameters(), lr=1e-3)\n",
    "    train_losses = []\n",
    "\n",
    "    for epoch in range(100):\n",
    "        # Forward pass\n",
    "        \n",
    "        outputs = model(X_train_tensor)\n",
    "        loss = criterion(outputs, y_train_tensor)\n",
    "        \n",
    "        # Backward pass and optimization\n",
    "        optimizer.zero_grad()\n",
    "        loss.backward()\n",
    "        optimizer.step()\n",
    "        \n",
    "        # Store loss value\n",
    "        train_losses.append(loss.item())\n",
    "    \n",
    "    losses['SGD'][i,:] = np.array(train_losses)\n",
    "\n",
    "for i in tqdm(range(100)):\n",
    "    model = nn.Sequential(\n",
    "        nn.Linear(13, 30, bias=True),\n",
    "        nn.ReLU(),\n",
    "        nn.Linear(30, 1, bias=True)\n",
    "    )\n",
    "\n",
    "    optimizer = torch.optim.Adam(params=model.parameters(), lr=1e-1)\n",
    "    train_losses = []\n",
    "\n",
    "    for epoch in range(100):\n",
    "        # Forward pass\n",
    "        \n",
    "        outputs = model(X_train_tensor)\n",
    "        loss = criterion(outputs, y_train_tensor)\n",
    "        \n",
    "        # Backward pass and optimization\n",
    "        optimizer.zero_grad()\n",
    "        loss.backward()\n",
    "        optimizer.step()\n",
    "        \n",
    "        # Store loss value\n",
    "        train_losses.append(loss.item())\n",
    "    \n",
    "    losses['ADAM'][i,:] = np.array(train_losses)\n",
    "\n",
    "for i in tqdm(range(100)):\n",
    "    model = nn.Sequential(\n",
    "        nn.Linear(13, 30, bias=True),\n",
    "        nn.ReLU(),\n",
    "        nn.Linear(30, 1, bias=True)\n",
    "    )\n",
    "\n",
    "    optimizer = torch.optim.Adagrad(params=model.parameters(), lr=1e-1)\n",
    "    train_losses = []\n",
    "\n",
    "    for epoch in range(100):\n",
    "        # Forward pass\n",
    "        \n",
    "        outputs = model(X_train_tensor)\n",
    "        loss = criterion(outputs, y_train_tensor)\n",
    "        \n",
    "        # Backward pass and optimization\n",
    "        optimizer.zero_grad()\n",
    "        loss.backward()\n",
    "        optimizer.step()\n",
    "        \n",
    "        # Store loss value\n",
    "        train_losses.append(loss.item())\n",
    "    \n",
    "    losses['ADAGrad'][i,:] = np.array(train_losses)\n",
    "\n",
    "for i in tqdm(range(100)):\n",
    "    model = nn.Sequential(\n",
    "        nn.Linear(13, 30, bias=True),\n",
    "        nn.ReLU(),\n",
    "        nn.Linear(30, 1, bias=True)\n",
    "    )\n",
    "\n",
    "    optimizer = SCALTRA(model, 100, criterion, 0.1, 500)\n",
    "    train_losses = optimizer.forward(model, X_train_tensor, y_train_tensor)\n",
    "    \n",
    "    losses['SCALTRA'][i,:] = np.array(train_losses)"
   ]
  },
  {
   "cell_type": "code",
   "execution_count": 87,
   "metadata": {},
   "outputs": [
    {
     "data": {
      "image/png": "[encoded data removed]",
      "text/plain": [
       "<Figure size 640x480 with 1 Axes>"
      ]
     },
     "metadata": {},
     "output_type": "display_data"
    }
   ],
   "source": [
    "for key in losses.keys():\n",
    "    mean = np.mean(losses[key], axis=0)\n",
    "    UB = mean + np.std(losses[key], axis = 0)\n",
    "    LB = mean - np.std(losses[key], axis = 0)\n",
    "    plt.plot(mean, label = key)\n",
    "    plt.fill_between(range(losses[key].shape[0]), UB, LB,alpha=0.3)\n",
    "    plt.title('Average train loss for different optimizers')\n",
    "    plt.legend()"
   ]
  },
  {
   "cell_type": "markdown",
   "metadata": {},
   "source": [
    "______________"
   ]
  },
  {
   "cell_type": "markdown",
   "metadata": {},
   "source": [
    "### SCALTRANet - DeepUnrolling SCA for neural network training"
   ]
  },
  {
   "cell_type": "code",
   "execution_count": 121,
   "metadata": {},
   "outputs": [],
   "source": [
    "class SyntheticModels():\n",
    "    def __init__(self, model, features_num, output_size, M, N, s_sigma = 0.5, eps_sigma = 0.01, size = 1000, batch_size = 256):\n",
    "\n",
    "        #self.model = model\n",
    "        self.features_num = features_num\n",
    "        self.output_size = output_size\n",
    "        self.M = M\n",
    "        self.N = N          \n",
    "\n",
    "        self.size = size    # Size of the dataset\n",
    "    \n",
    "        self.s_sigma = s_sigma\n",
    "        self.eps_sigma = eps_sigma\n",
    "\n",
    "        self.batch_size = batch_size\n",
    "        self.data = {}\n",
    "\n",
    "        # Generating the dataset\n",
    "        self.set_data(model)\n",
    "\n",
    "    def set_tuple(self, model):\n",
    "        cloned_model = copy.deepcopy(model)\n",
    "\n",
    "        # Set the weights of the model\n",
    "        with torch.no_grad():\n",
    "            for p in cloned_model.parameters():\n",
    "                p.copy_(torch.randn_like(p))\n",
    "        \n",
    "        x = torch.randn((self.M,self.features_num))\n",
    "        y = cloned_model.forward(x) \n",
    "        y += torch.randn_like(y)*1e-2\n",
    "        \n",
    "        return (cloned_model, x, y)\n",
    "    \n",
    "    def set_data(self, model):\n",
    "        for i in range(self.size):\n",
    "            self.data[i] = self.set_tuple(model)\n",
    "    \n",
    "    '''\n",
    "    def set_loader(self):\n",
    "        return Data.DataLoader(dataset = Data.TensorDataset(self.y, self.x),\n",
    "                               batch_size = self.batch_size,\n",
    "                               shuffle = True)\n",
    "    '''"
   ]
  },
  {
   "cell_type": "code",
   "execution_count": 122,
   "metadata": {},
   "outputs": [],
   "source": [
    "model = nn.Sequential(\n",
    "    nn.Linear(13, 30),\n",
    "    nn.ReLU(),\n",
    "    nn.Linear(30, 1)\n",
    ")\n",
    "\n",
    "optimizer = torch.optim.Adam(params=model.parameters(), lr=1e-1, weight_decay = 5e-4)\n",
    "criterion = nn.MSELoss()"
   ]
  },
  {
   "cell_type": "code",
   "execution_count": 123,
   "metadata": {},
   "outputs": [],
   "source": [
    "synthetic_models = SyntheticModels(model, 13, 1, 300, 50, batch_size = 10)"
   ]
  },
  {
   "cell_type": "code",
   "execution_count": 137,
   "metadata": {},
   "outputs": [],
   "source": [
    "class SCALTRALayer(nn.Module):\n",
    "    def __init__(self, model, \n",
    "                 learning_rate = 1,\n",
    "                 tau = 100, gamma = 0.9):\n",
    "        super().__init__()\n",
    "\n",
    "        # Initialization of the learnable parameters\n",
    "        #self.lambda_ = nn.Parameter(torch.ones(1)*lambda_, requires_grad = True)\n",
    "\n",
    "        self.tau = nn.Parameter(torch.ones(1)*tau, requires_grad = True)\n",
    "        self.gamma = gamma\n",
    "        self.learning_rate = learning_rate\n",
    "        self.B = []\n",
    "        \n",
    "        for _, p in model.named_parameters():\n",
    "            self.B.append(nn.Parameter(torch.ones(p.shape), requires_grad = True))\n",
    "\n",
    "        self.params = nn.ParameterList(self.B + [self.tau])\n",
    "\n",
    "    def forward(self, model, momentum):\n",
    "\n",
    "        for i, (_, p) in enumerate(model.named_parameters()):\n",
    "\n",
    "            # Local optimization step\n",
    "            if len(p.shape) == 1:\n",
    "                H = torch.linalg.inv(torch.outer(self.B[i],self.B[i]) + self.tau*torch.eye(self.B[i].shape[0])) @ momentum[i]\n",
    "\n",
    "            else:\n",
    "                H = torch.linalg.inv(torch.matmul(self.B[i],torch.transpose(self.B[i],0,1)) + self.tau*torch.eye(self.B[i].shape[0])) @ momentum[i]\n",
    "            \n",
    "            with torch.no_grad():\n",
    "                p.add_(-self.gamma*self.learning_rate*H)\n",
    "\n",
    "        return model"
   ]
  },
  {
   "cell_type": "code",
   "execution_count": 144,
   "metadata": {},
   "outputs": [],
   "source": [
    "class SCALTRANet(nn.Module):\n",
    "    def __init__(self, model, loss_criterion,\n",
    "                 beta = 0.9, T = 10, learning_rate = 1, \n",
    "                 tau = 0.25, gamma = 0.99):\n",
    "        \n",
    "        super(SCALTRANet, self).__init__()\n",
    "        \n",
    "        # Number of iterations <-> number of layers\n",
    "        self.model = model\n",
    "        self.T = T\n",
    "\n",
    "        # Initialization of the learnable parameters\n",
    "        self.tau_0 = torch.ones(T)*tau\n",
    "        self.gamma_0 = torch.ones(T)*gamma\n",
    "        for i in range(self.T):\n",
    "            self.gamma_0[i] *= 0.99**i\n",
    "\n",
    "        self.beta = beta\n",
    "        self.momentum = []\n",
    "        self.loss_criterion = loss_criterion\n",
    "        self.train_losses = []\n",
    "\n",
    "        for _, p in model.named_parameters():\n",
    "            self.momentum.append(torch.zeros_like(p))\n",
    "\n",
    "        # Defining the layers\n",
    "        self.SCALTRA_layers = nn.ModuleList([SCALTRALayer(model,\n",
    "                                                          learning_rate,\n",
    "                                                          self.tau_0[i], \n",
    "                                                          self.gamma_0[i]\n",
    "                                                          ) for i in range(self.T)])\n",
    "    def reinitialization(self, model):\n",
    "        for layer in model.modules():\n",
    "            if isinstance(layer, torch.nn.Linear):\n",
    "                torch.nn.init.xavier_uniform(layer.weight.data)\n",
    "        return model\n",
    "    \n",
    "    def forward(self, model, X, y):\n",
    "        model = self.reinitialization(model)\n",
    "\n",
    "        for i in tqdm(range(self.T-1)):\n",
    "            \n",
    "            with torch.no_grad():\n",
    "                model = self.SCALTRA_layers[i].forward(model, self.momentum)\n",
    "                #model = copy.deepcopy(model)\n",
    "                \n",
    "            self.adjoint_program(model, X, y)\n",
    "\n",
    "        return model\n",
    "    \n",
    "    def adjoint_program(self, model, X, y):\n",
    "        loss = self.loss_criterion(model(X), y)\n",
    "        print(loss)\n",
    "        # Zero gradients for optimizer parameters\n",
    "        self.zero_grad()\n",
    "\n",
    "        # Backward phase\n",
    "        loss.backward()\n",
    "\n",
    "        # Update momentum\n",
    "        for i, (_, p) in enumerate(model.named_parameters()):\n",
    "            self.momentum[i] = self.beta * self.momentum[i] + (1 - self.beta) * p.grad\n",
    "\n",
    "        self.train_losses.append(loss.detach().numpy())"
   ]
  },
  {
   "cell_type": "code",
   "execution_count": 145,
   "metadata": {},
   "outputs": [],
   "source": [
    "optimizer = SCALTRANet(synthetic_models.data[0][0], torch.nn.MSELoss(), tau = 500)"
   ]
  },
  {
   "cell_type": "code",
   "execution_count": 146,
   "metadata": {},
   "outputs": [
    {
     "name": "stdout",
     "output_type": "stream",
     "text": [
      "<bound method Module.modules of Sequential(\n",
      "  (0): Linear(in_features=13, out_features=30, bias=True)\n",
      "  (1): ReLU()\n",
      "  (2): Linear(in_features=30, out_features=1, bias=True)\n",
      ")>\n"
     ]
    },
    {
     "name": "stderr",
     "output_type": "stream",
     "text": [
      "  0%|          | 0/9 [00:00<?, ?it/s]"
     ]
    },
    {
     "name": "stdout",
     "output_type": "stream",
     "text": [
      "tensor(155.6730, grad_fn=<MseLossBackward0>)\n"
     ]
    },
    {
     "name": "stderr",
     "output_type": "stream",
     "text": [
      "\n"
     ]
    },
    {
     "ename": "RuntimeError",
     "evalue": "one of the variables needed for gradient computation has been modified by an inplace operation: [torch.FloatTensor [30, 1]], which is output 0 of AsStridedBackward0, is at version 4; expected version 1 instead. Hint: the backtrace further above shows the operation that failed to compute its gradient. The variable in question was changed in there or anywhere later. Good luck!",
     "output_type": "error",
     "traceback": [
      "\u001b[1;31m---------------------------------------------------------------------------\u001b[0m",
      "\u001b[1;31mRuntimeError\u001b[0m                              Traceback (most recent call last)",
      "Cell \u001b[1;32mIn [146], line 1\u001b[0m\n\u001b[1;32m----> 1\u001b[0m m \u001b[38;5;241m=\u001b[39m \u001b[43moptimizer\u001b[49m\u001b[38;5;241;43m.\u001b[39;49m\u001b[43mforward\u001b[49m\u001b[43m(\u001b[49m\u001b[43msynthetic_models\u001b[49m\u001b[38;5;241;43m.\u001b[39;49m\u001b[43mdata\u001b[49m\u001b[43m[\u001b[49m\u001b[38;5;241;43m0\u001b[39;49m\u001b[43m]\u001b[49m\u001b[43m[\u001b[49m\u001b[38;5;241;43m0\u001b[39;49m\u001b[43m]\u001b[49m\u001b[43m,\u001b[49m\u001b[43m \u001b[49m\n\u001b[0;32m      2\u001b[0m \u001b[43m                      \u001b[49m\u001b[43msynthetic_models\u001b[49m\u001b[38;5;241;43m.\u001b[39;49m\u001b[43mdata\u001b[49m\u001b[43m[\u001b[49m\u001b[38;5;241;43m0\u001b[39;49m\u001b[43m]\u001b[49m\u001b[43m[\u001b[49m\u001b[38;5;241;43m1\u001b[39;49m\u001b[43m]\u001b[49m\u001b[43m,\u001b[49m\u001b[43m \u001b[49m\n\u001b[0;32m      3\u001b[0m \u001b[43m                      \u001b[49m\u001b[43msynthetic_models\u001b[49m\u001b[38;5;241;43m.\u001b[39;49m\u001b[43mdata\u001b[49m\u001b[43m[\u001b[49m\u001b[38;5;241;43m0\u001b[39;49m\u001b[43m]\u001b[49m\u001b[43m[\u001b[49m\u001b[38;5;241;43m2\u001b[39;49m\u001b[43m]\u001b[49m\u001b[43m)\u001b[49m\n",
      "Cell \u001b[1;32mIn [144], line 47\u001b[0m, in \u001b[0;36mSCALTRANet.forward\u001b[1;34m(self, model, X, y)\u001b[0m\n\u001b[0;32m     44\u001b[0m         model \u001b[38;5;241m=\u001b[39m \u001b[38;5;28mself\u001b[39m\u001b[38;5;241m.\u001b[39mSCALTRA_layers[i]\u001b[38;5;241m.\u001b[39mforward(model, \u001b[38;5;28mself\u001b[39m\u001b[38;5;241m.\u001b[39mmomentum)\n\u001b[0;32m     45\u001b[0m         \u001b[38;5;66;03m#model = copy.deepcopy(model)\u001b[39;00m\n\u001b[1;32m---> 47\u001b[0m     \u001b[38;5;28;43mself\u001b[39;49m\u001b[38;5;241;43m.\u001b[39;49m\u001b[43madjoint_program\u001b[49m\u001b[43m(\u001b[49m\u001b[43mmodel\u001b[49m\u001b[43m,\u001b[49m\u001b[43m \u001b[49m\u001b[43mX\u001b[49m\u001b[43m,\u001b[49m\u001b[43m \u001b[49m\u001b[43my\u001b[49m\u001b[43m)\u001b[49m\n\u001b[0;32m     49\u001b[0m \u001b[38;5;28;01mreturn\u001b[39;00m model\n",
      "Cell \u001b[1;32mIn [144], line 58\u001b[0m, in \u001b[0;36mSCALTRANet.adjoint_program\u001b[1;34m(self, model, X, y)\u001b[0m\n\u001b[0;32m     55\u001b[0m \u001b[38;5;28mself\u001b[39m\u001b[38;5;241m.\u001b[39mzero_grad()\n\u001b[0;32m     57\u001b[0m \u001b[38;5;66;03m# Backward phase\u001b[39;00m\n\u001b[1;32m---> 58\u001b[0m \u001b[43mloss\u001b[49m\u001b[38;5;241;43m.\u001b[39;49m\u001b[43mbackward\u001b[49m\u001b[43m(\u001b[49m\u001b[43m)\u001b[49m\n\u001b[0;32m     60\u001b[0m \u001b[38;5;66;03m# Update momentum\u001b[39;00m\n\u001b[0;32m     61\u001b[0m \u001b[38;5;28;01mfor\u001b[39;00m i, (_, p) \u001b[38;5;129;01min\u001b[39;00m \u001b[38;5;28menumerate\u001b[39m(model\u001b[38;5;241m.\u001b[39mnamed_parameters()):\n",
      "File \u001b[1;32mc:\\Users\\Leonardo\\AppData\\Local\\Programs\\Python\\Python310\\lib\\site-packages\\torch\\_tensor.py:487\u001b[0m, in \u001b[0;36mTensor.backward\u001b[1;34m(self, gradient, retain_graph, create_graph, inputs)\u001b[0m\n\u001b[0;32m    477\u001b[0m \u001b[38;5;28;01mif\u001b[39;00m has_torch_function_unary(\u001b[38;5;28mself\u001b[39m):\n\u001b[0;32m    478\u001b[0m     \u001b[38;5;28;01mreturn\u001b[39;00m handle_torch_function(\n\u001b[0;32m    479\u001b[0m         Tensor\u001b[38;5;241m.\u001b[39mbackward,\n\u001b[0;32m    480\u001b[0m         (\u001b[38;5;28mself\u001b[39m,),\n\u001b[1;32m   (...)\u001b[0m\n\u001b[0;32m    485\u001b[0m         inputs\u001b[38;5;241m=\u001b[39minputs,\n\u001b[0;32m    486\u001b[0m     )\n\u001b[1;32m--> 487\u001b[0m \u001b[43mtorch\u001b[49m\u001b[38;5;241;43m.\u001b[39;49m\u001b[43mautograd\u001b[49m\u001b[38;5;241;43m.\u001b[39;49m\u001b[43mbackward\u001b[49m\u001b[43m(\u001b[49m\n\u001b[0;32m    488\u001b[0m \u001b[43m    \u001b[49m\u001b[38;5;28;43mself\u001b[39;49m\u001b[43m,\u001b[49m\u001b[43m \u001b[49m\u001b[43mgradient\u001b[49m\u001b[43m,\u001b[49m\u001b[43m \u001b[49m\u001b[43mretain_graph\u001b[49m\u001b[43m,\u001b[49m\u001b[43m \u001b[49m\u001b[43mcreate_graph\u001b[49m\u001b[43m,\u001b[49m\u001b[43m \u001b[49m\u001b[43minputs\u001b[49m\u001b[38;5;241;43m=\u001b[39;49m\u001b[43minputs\u001b[49m\n\u001b[0;32m    489\u001b[0m \u001b[43m\u001b[49m\u001b[43m)\u001b[49m\n",
      "File \u001b[1;32mc:\\Users\\Leonardo\\AppData\\Local\\Programs\\Python\\Python310\\lib\\site-packages\\torch\\autograd\\__init__.py:197\u001b[0m, in \u001b[0;36mbackward\u001b[1;34m(tensors, grad_tensors, retain_graph, create_graph, grad_variables, inputs)\u001b[0m\n\u001b[0;32m    192\u001b[0m     retain_graph \u001b[38;5;241m=\u001b[39m create_graph\n\u001b[0;32m    194\u001b[0m \u001b[38;5;66;03m# The reason we repeat same the comment below is that\u001b[39;00m\n\u001b[0;32m    195\u001b[0m \u001b[38;5;66;03m# some Python versions print out the first line of a multi-line function\u001b[39;00m\n\u001b[0;32m    196\u001b[0m \u001b[38;5;66;03m# calls in the traceback and some print out the last line\u001b[39;00m\n\u001b[1;32m--> 197\u001b[0m \u001b[43mVariable\u001b[49m\u001b[38;5;241;43m.\u001b[39;49m\u001b[43m_execution_engine\u001b[49m\u001b[38;5;241;43m.\u001b[39;49m\u001b[43mrun_backward\u001b[49m\u001b[43m(\u001b[49m\u001b[43m  \u001b[49m\u001b[38;5;66;43;03m# Calls into the C++ engine to run the backward pass\u001b[39;49;00m\n\u001b[0;32m    198\u001b[0m \u001b[43m    \u001b[49m\u001b[43mtensors\u001b[49m\u001b[43m,\u001b[49m\u001b[43m \u001b[49m\u001b[43mgrad_tensors_\u001b[49m\u001b[43m,\u001b[49m\u001b[43m \u001b[49m\u001b[43mretain_graph\u001b[49m\u001b[43m,\u001b[49m\u001b[43m \u001b[49m\u001b[43mcreate_graph\u001b[49m\u001b[43m,\u001b[49m\u001b[43m \u001b[49m\u001b[43minputs\u001b[49m\u001b[43m,\u001b[49m\n\u001b[0;32m    199\u001b[0m \u001b[43m    \u001b[49m\u001b[43mallow_unreachable\u001b[49m\u001b[38;5;241;43m=\u001b[39;49m\u001b[38;5;28;43;01mTrue\u001b[39;49;00m\u001b[43m,\u001b[49m\u001b[43m \u001b[49m\u001b[43maccumulate_grad\u001b[49m\u001b[38;5;241;43m=\u001b[39;49m\u001b[38;5;28;43;01mTrue\u001b[39;49;00m\u001b[43m)\u001b[49m\n",
      "\u001b[1;31mRuntimeError\u001b[0m: one of the variables needed for gradient computation has been modified by an inplace operation: [torch.FloatTensor [30, 1]], which is output 0 of AsStridedBackward0, is at version 4; expected version 1 instead. Hint: the backtrace further above shows the operation that failed to compute its gradient. The variable in question was changed in there or anywhere later. Good luck!"
     ]
    }
   ],
   "source": [
    "m = optimizer.forward(synthetic_models.data[0][0], \n",
    "                      synthetic_models.data[0][1], \n",
    "                      synthetic_models.data[0][2])"
   ]
  },
  {
   "cell_type": "code",
   "execution_count": 129,
   "metadata": {},
   "outputs": [
    {
     "data": {
      "text/plain": [
       "<torch.autograd.anomaly_mode.set_detect_anomaly at 0x166df956200>"
      ]
     },
     "execution_count": 129,
     "metadata": {},
     "output_type": "execute_result"
    }
   ],
   "source": [
    "torch.autograd.set_detect_anomaly(True)"
   ]
  }
 ],
 "metadata": {
  "kernelspec": {
   "display_name": "Python 3",
   "language": "python",
   "name": "python3"
  },
  "language_info": {
   "codemirror_mode": {
    "name": "ipython",
    "version": 3
   },
   "file_extension": ".py",
   "mimetype": "text/x-python",
   "name": "python",
   "nbconvert_exporter": "python",
   "pygments_lexer": "ipython3",
   "version": "3.10.7"
  }
 },
 "nbformat": 4,
 "nbformat_minor": 2
}
