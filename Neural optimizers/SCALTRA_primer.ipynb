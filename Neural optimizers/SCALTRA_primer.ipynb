{
 "cells": [
  {
   "cell_type": "code",
   "execution_count": 1,
   "metadata": {},
   "outputs": [],
   "source": [
    "import numpy as np\n",
    "\n",
    "from tqdm import tqdm\n",
    "from matplotlib import pyplot as plt\n",
    "\n",
    "import torch, numpy as np\n",
    "import torch.nn.functional as F\n",
    "import torch.nn as nn\n",
    "import torch.utils.data as Data\n",
    "import matplotlib.pyplot as plt\n",
    "\n",
    "from sklearn.datasets import load_boston\n",
    "from sklearn.preprocessing import StandardScaler\n",
    "from sklearn.model_selection import train_test_split\n",
    "\n",
    "\n",
    "SEED = 4200\n",
    "torch.manual_seed(SEED)\n",
    "np.random.seed(SEED)\n",
    "\n",
    "torch.set_default_dtype(torch.float32)\n",
    "\n",
    "import warnings\n",
    "warnings.filterwarnings(\"ignore\")"
   ]
  },
  {
   "cell_type": "markdown",
   "metadata": {},
   "source": [
    "## Toy case models and datasets"
   ]
  },
  {
   "cell_type": "code",
   "execution_count": 2,
   "metadata": {},
   "outputs": [],
   "source": [
    "boston = load_boston()\n",
    "X = boston.data\n",
    "y = boston.target\n",
    "\n",
    "# Standardize the features\n",
    "scaler = StandardScaler()\n",
    "X = scaler.fit_transform(X)\n",
    "\n",
    "# Split the dataset into training and testing sets\n",
    "X_train, X_test, y_train, y_test = train_test_split(X, y, test_size=0.2, random_state=42)\n",
    "\n",
    "# Convert data to PyTorch tensors\n",
    "X_train_tensor = torch.tensor(X_train, dtype=torch.float32)\n",
    "y_train_tensor = torch.tensor(y_train, dtype=torch.float32).view(-1, 1)  # Reshape y_train to match model output shape\n",
    "X_test_tensor = torch.tensor(X_test, dtype=torch.float32)\n",
    "y_test_tensor = torch.tensor(y_test, dtype=torch.float32).view(-1, 1)  # Reshape y_test to match model output shape"
   ]
  },
  {
   "cell_type": "code",
   "execution_count": 3,
   "metadata": {},
   "outputs": [],
   "source": [
    "model = nn.Sequential(\n",
    "    nn.Linear(13, 30),\n",
    "    nn.ReLU(),\n",
    "    nn.Linear(30, 1)\n",
    ")\n",
    "\n",
    "optimizer = torch.optim.Adam(params=model.parameters(), lr=1e-1, weight_decay = 5e-4)\n",
    "criterion = nn.MSELoss()"
   ]
  },
  {
   "cell_type": "markdown",
   "metadata": {},
   "source": [
    "### Simple training loop "
   ]
  },
  {
   "cell_type": "code",
   "execution_count": 4,
   "metadata": {},
   "outputs": [
    {
     "name": "stdout",
     "output_type": "stream",
     "text": [
      "Epoch [10/100], Loss: 108.9392\n",
      "Epoch [20/100], Loss: 43.4876\n",
      "Epoch [30/100], Loss: 24.4725\n",
      "Epoch [40/100], Loss: 18.0850\n",
      "Epoch [50/100], Loss: 14.4142\n",
      "Epoch [60/100], Loss: 12.0501\n",
      "Epoch [70/100], Loss: 10.4739\n",
      "Epoch [80/100], Loss: 9.5392\n",
      "Epoch [90/100], Loss: 8.7902\n",
      "Epoch [100/100], Loss: 8.1955\n",
      "Test Loss: 12.1529\n"
     ]
    }
   ],
   "source": [
    "train_losses = []\n",
    "\n",
    "for epoch in range(100):\n",
    "    # Forward pass\n",
    "    \n",
    "    outputs = model(X_train_tensor)\n",
    "    loss = criterion(outputs, y_train_tensor)\n",
    "    \n",
    "    # Backward pass and optimization\n",
    "    optimizer.zero_grad()\n",
    "    loss.backward()\n",
    "    optimizer.step()\n",
    "    \n",
    "    # Store loss value\n",
    "    train_losses.append(loss.item())\n",
    "    \n",
    "    # Print progress\n",
    "    if (epoch+1) % 10 == 0:\n",
    "        print(f'Epoch [{epoch+1}/{100}], Loss: {loss.item():.4f}')\n",
    "\n",
    "# Evaluate the model on the test set\n",
    "with torch.no_grad():\n",
    "    test_outputs = model(X_test_tensor)\n",
    "    test_loss = criterion(test_outputs, y_test_tensor)\n",
    "    print(f'Test Loss: {test_loss.item():.4f}')"
   ]
  },
  {
   "cell_type": "code",
   "execution_count": 5,
   "metadata": {},
   "outputs": [
    {
     "data": {
      "text/plain": [
       "[<matplotlib.lines.Line2D at 0x19da751e0b0>]"
      ]
     },
     "execution_count": 5,
     "metadata": {},
     "output_type": "execute_result"
    },
    {
     "data": {
      "image/png": "[encoded data removed]",
      "text/plain": [
       "<Figure size 640x480 with 1 Axes>"
      ]
     },
     "metadata": {},
     "output_type": "display_data"
    }
   ],
   "source": [
    "plt.loglog(train_losses)"
   ]
  },
  {
   "cell_type": "markdown",
   "metadata": {},
   "source": [
    "# SCALTRA implementation"
   ]
  },
  {
   "cell_type": "code",
   "execution_count": 242,
   "metadata": {},
   "outputs": [],
   "source": [
    "class SCALTRA(nn.Module):\n",
    "    def __init__(self, model, epochs, \n",
    "                 loss_criterion,\n",
    "                 beta = 0.9, tau = 100, gamma = 0.9):\n",
    "        super().__init__()\n",
    "\n",
    "        # Initialization of the learnable parameters\n",
    "        #self.lambda_ = nn.Parameter(torch.ones(1)*lambda_, requires_grad = True)\n",
    "\n",
    "        self.tau = tau\n",
    "        self.gamma = gamma\n",
    "        self.beta = beta\n",
    "\n",
    "        self.B = []\n",
    "        self.momentum = []\n",
    "\n",
    "        for _, p in model.named_parameters():\n",
    "            self.B.append(nn.Parameter(torch.randn(p.shape), requires_grad = True))\n",
    "            self.momentum.append(torch.zeros_like(p))\n",
    "\n",
    "        self.params = nn.ParameterList(self.B)\n",
    "\n",
    "        # Some more initialization\n",
    "\n",
    "        self.loss_criterion = loss_criterion\n",
    "        self.meta_optimizer = torch.optim.Adam(params=self.parameters(), lr=5e-1)\n",
    "        self.epochs = epochs\n",
    "\n",
    "\n",
    "    def forward(self, model, X, y):\n",
    "        train_losses = []\n",
    "\n",
    "        for _ in tqdm(range(self.epochs)):\n",
    "\n",
    "            #new_params = []\n",
    "            part_grad = []\n",
    "            for i, (_, p) in enumerate(model.named_parameters()):\n",
    "\n",
    "                # Local optimization step\n",
    "                if len(p.shape) == 1:\n",
    "                    H = 1/(self.B[i]**2 + self.tau*torch.ones(self.B[i].shape[0])) * self.momentum[i]\n",
    "                    #new_params.append(nn.Parameter(p - 1/(self.B[i]**2 + self.tau*torch.ones(self.B[i].shape[0])) * self.momentum[i], requires_grad = True))\n",
    "\n",
    "                    part_grad.append(-self.gamma*(torch.autograd.grad(H,\n",
    "                                                                      self.B[i],\n",
    "                                                                      torch.ones_like(H),\n",
    "                                                                      retain_graph=True)[0]))\n",
    "\n",
    "                else:\n",
    "                    H = torch.linalg.inv(torch.matmul(self.B[i],torch.transpose(self.B[i],0,1)) + self.tau*torch.eye(self.B[i].shape[0])) @ self.momentum[i]\n",
    "                    #new_params.append(nn.Parameter(p - torch.linalg.inv(torch.outer(self.B[i],self.B[i]) + self.tau*torch.eye(self.B[i].shape[0])) @ self.momentum[i], requires_grad = True))\n",
    "                    part_grad.append(-self.gamma*(torch.autograd.grad(H,\n",
    "                                                                      self.B[i],\n",
    "                                                                      torch.ones_like(H),\n",
    "                                                                      retain_graph=True)[0]))\n",
    "\n",
    "                with torch.no_grad():\n",
    "\n",
    "                    # Convex smoothing\n",
    "                    p.copy_(p - H)\n",
    "                \n",
    "\n",
    "            #new_params = nn.ParameterList(new_params)\n",
    "\n",
    "            loss = self.loss_criterion(model(X), y)\n",
    "\n",
    "            # Zero gradients for optimizer parameters\n",
    "            self.zero_grad()\n",
    "\n",
    "            # Backward phase\n",
    "            loss.backward()\n",
    "\n",
    "            for i, (p, v) in enumerate(zip(model.parameters(), self.parameters())):\n",
    "                \n",
    "                v.grad = part_grad[i] * p.grad\n",
    "                \n",
    "                '''\n",
    "                v.grad = torch.autograd.grad(inputs = new_params[i],\n",
    "                                             outputs = v,\n",
    "                                             grad_outputs=torch.ones_like(v),\n",
    "                                             allow_unused=True)[0] @ p.grad\n",
    "                '''\n",
    "            # Update optimizer parameters\n",
    "            self.meta_optimizer.step()  \n",
    "\n",
    "            # Update momentum\n",
    "            for i, (_, p) in enumerate(model.named_parameters()):\n",
    "                self.momentum[i] = self.beta * self.momentum[i] + (1 - self.beta) * p.grad\n",
    "\n",
    "            train_losses.append(loss.detach().numpy())\n",
    "\n",
    "            self.gamma *= 0.99\n",
    "\n",
    "        return train_losses"
   ]
  },
  {
   "cell_type": "code",
   "execution_count": 243,
   "metadata": {},
   "outputs": [
    {
     "data": {
      "text/plain": [
       "Parameter containing:\n",
       "tensor([-1.3518,  0.9641, -0.1396, -1.6085,  0.2164,  0.0938,  1.8169,  0.6789,\n",
       "         0.6860,  1.0652, -1.0679,  0.9290,  0.6003, -1.1453, -0.5814,  0.1690,\n",
       "         0.4609,  0.7734, -1.0847, -0.6201,  0.6459, -1.6293, -2.0563, -1.0072,\n",
       "        -1.6182,  0.9422,  0.8653,  0.8508, -0.1489,  0.2925],\n",
       "       requires_grad=True)"
      ]
     },
     "execution_count": 243,
     "metadata": {},
     "output_type": "execute_result"
    }
   ],
   "source": [
    "optimizer.B[1]"
   ]
  },
  {
   "cell_type": "code",
   "execution_count": 248,
   "metadata": {},
   "outputs": [],
   "source": [
    "model = nn.Sequential(\n",
    "    nn.Linear(13, 30),\n",
    "    nn.ReLU(),\n",
    "    nn.Linear(30, 1)\n",
    ")\n",
    "\n",
    "criterion = nn.MSELoss()\n",
    "optimizer = SCALTRA(model, 8, criterion)"
   ]
  },
  {
   "cell_type": "code",
   "execution_count": 249,
   "metadata": {},
   "outputs": [
    {
     "name": "stderr",
     "output_type": "stream",
     "text": [
      "100%|██████████| 8/8 [00:00<00:00, 363.60it/s]\n"
     ]
    }
   ],
   "source": [
    "L = optimizer.forward(model, X_train_tensor, y_train_tensor)"
   ]
  },
  {
   "cell_type": "code",
   "execution_count": 250,
   "metadata": {},
   "outputs": [
    {
     "data": {
      "text/plain": [
       "[<matplotlib.lines.Line2D at 0x19db63fccd0>]"
      ]
     },
     "execution_count": 250,
     "metadata": {},
     "output_type": "execute_result"
    },
    {
     "data": {
      "image/png": "[encoded data removed]",
      "text/plain": [
       "<Figure size 640x480 with 1 Axes>"
      ]
     },
     "metadata": {},
     "output_type": "display_data"
    }
   ],
   "source": [
    "plt.loglog(L)"
   ]
  },
  {
   "cell_type": "code",
   "execution_count": 251,
   "metadata": {},
   "outputs": [
    {
     "data": {
      "text/plain": [
       "[array(609.26746, dtype=float32),\n",
       " array(603.7995, dtype=float32),\n",
       " array(587.2437, dtype=float32),\n",
       " array(554.8792, dtype=float32),\n",
       " array(502.3015, dtype=float32),\n",
       " array(422.46176, dtype=float32),\n",
       " array(305.13135, dtype=float32),\n",
       " array(155.31323, dtype=float32)]"
      ]
     },
     "execution_count": 251,
     "metadata": {},
     "output_type": "execute_result"
    }
   ],
   "source": [
    "L"
   ]
  },
  {
   "cell_type": "code",
   "execution_count": null,
   "metadata": {},
   "outputs": [],
   "source": []
  }
 ],
 "metadata": {
  "kernelspec": {
   "display_name": "Python 3",
   "language": "python",
   "name": "python3"
  },
  "language_info": {
   "codemirror_mode": {
    "name": "ipython",
    "version": 3
   },
   "file_extension": ".py",
   "mimetype": "text/x-python",
   "name": "python",
   "nbconvert_exporter": "python",
   "pygments_lexer": "ipython3",
   "version": "3.10.7"
  }
 },
 "nbformat": 4,
 "nbformat_minor": 2
}
