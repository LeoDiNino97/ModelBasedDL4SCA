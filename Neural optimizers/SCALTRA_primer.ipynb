{
 "cells": [
  {
   "cell_type": "code",
   "execution_count": 1,
   "metadata": {},
   "outputs": [],
   "source": [
    "import numpy as np\n",
    "\n",
    "from tqdm import tqdm\n",
    "from matplotlib import pyplot as plt\n",
    "\n",
    "import torch, numpy as np\n",
    "import torch.nn.functional as F\n",
    "import torch.nn as nn\n",
    "import torch.utils.data as Data\n",
    "import matplotlib.pyplot as plt\n",
    "\n",
    "from sklearn.datasets import load_boston\n",
    "from sklearn.preprocessing import StandardScaler\n",
    "from sklearn.model_selection import train_test_split\n",
    "\n",
    "\n",
    "SEED = 4200\n",
    "torch.manual_seed(SEED)\n",
    "np.random.seed(SEED)\n",
    "\n",
    "torch.set_default_dtype(torch.float32)\n",
    "\n",
    "import warnings\n",
    "warnings.filterwarnings(\"ignore\")"
   ]
  },
  {
   "cell_type": "markdown",
   "metadata": {},
   "source": [
    "## Toy case models and datasets"
   ]
  },
  {
   "cell_type": "code",
   "execution_count": 2,
   "metadata": {},
   "outputs": [],
   "source": [
    "boston = load_boston()\n",
    "X = boston.data\n",
    "y = boston.target\n",
    "\n",
    "# Standardize the features\n",
    "scaler = StandardScaler()\n",
    "X = scaler.fit_transform(X)\n",
    "\n",
    "# Split the dataset into training and testing sets\n",
    "X_train, X_test, y_train, y_test = train_test_split(X, y, test_size=0.2, random_state=42)\n",
    "\n",
    "# Convert data to PyTorch tensors\n",
    "X_train_tensor = torch.tensor(X_train, dtype=torch.float32)\n",
    "y_train_tensor = torch.tensor(y_train, dtype=torch.float32).view(-1, 1)  # Reshape y_train to match model output shape\n",
    "X_test_tensor = torch.tensor(X_test, dtype=torch.float32)\n",
    "y_test_tensor = torch.tensor(y_test, dtype=torch.float32).view(-1, 1)  # Reshape y_test to match model output shape"
   ]
  },
  {
   "cell_type": "code",
   "execution_count": 3,
   "metadata": {},
   "outputs": [],
   "source": [
    "model = nn.Sequential(\n",
    "    nn.Linear(13, 30),\n",
    "    nn.ReLU(),\n",
    "    nn.Linear(30, 1)\n",
    ")\n",
    "\n",
    "optimizer = torch.optim.Adam(params=model.parameters(), lr=1e-1, weight_decay = 5e-4)\n",
    "criterion = nn.MSELoss()"
   ]
  },
  {
   "cell_type": "markdown",
   "metadata": {},
   "source": [
    "### Simple training loop "
   ]
  },
  {
   "cell_type": "code",
   "execution_count": 4,
   "metadata": {},
   "outputs": [
    {
     "name": "stdout",
     "output_type": "stream",
     "text": [
      "Epoch [10/100], Loss: 108.9392\n",
      "Epoch [20/100], Loss: 43.4876\n",
      "Epoch [30/100], Loss: 24.4725\n",
      "Epoch [40/100], Loss: 18.0850\n",
      "Epoch [50/100], Loss: 14.4142\n",
      "Epoch [60/100], Loss: 12.0501\n",
      "Epoch [70/100], Loss: 10.4739\n",
      "Epoch [80/100], Loss: 9.5392\n",
      "Epoch [90/100], Loss: 8.7902\n",
      "Epoch [100/100], Loss: 8.1955\n",
      "Test Loss: 12.1529\n"
     ]
    }
   ],
   "source": [
    "train_losses = []\n",
    "\n",
    "for epoch in range(100):\n",
    "    # Forward pass\n",
    "    \n",
    "    outputs = model(X_train_tensor)\n",
    "    loss = criterion(outputs, y_train_tensor)\n",
    "    \n",
    "    # Backward pass and optimization\n",
    "    optimizer.zero_grad()\n",
    "    loss.backward()\n",
    "    optimizer.step()\n",
    "    \n",
    "    # Store loss value\n",
    "    train_losses.append(loss.item())\n",
    "    \n",
    "    # Print progress\n",
    "    if (epoch+1) % 10 == 0:\n",
    "        print(f'Epoch [{epoch+1}/{100}], Loss: {loss.item():.4f}')\n",
    "\n",
    "# Evaluate the model on the test set\n",
    "with torch.no_grad():\n",
    "    test_outputs = model(X_test_tensor)\n",
    "    test_loss = criterion(test_outputs, y_test_tensor)\n",
    "    print(f'Test Loss: {test_loss.item():.4f}')"
   ]
  },
  {
   "cell_type": "code",
   "execution_count": 5,
   "metadata": {},
   "outputs": [
    {
     "data": {
      "text/plain": [
       "[<matplotlib.lines.Line2D at 0x19da751e0b0>]"
      ]
     },
     "execution_count": 5,
     "metadata": {},
     "output_type": "execute_result"
    },
    {
     "data": {
      "image/png": "[encoded data removed]",
      "text/plain": [
       "<Figure size 640x480 with 1 Axes>"
      ]
     },
     "metadata": {},
     "output_type": "display_data"
    }
   ],
   "source": [
    "plt.loglog(train_losses)"
   ]
  },
  {
   "cell_type": "markdown",
   "metadata": {},
   "source": [
    "# SCALTRA implementation"
   ]
  },
  {
   "cell_type": "code",
   "execution_count": 61,
   "metadata": {},
   "outputs": [],
   "source": [
    "class SCALTRA(nn.Module):\n",
    "    def __init__(self, model, epochs, \n",
    "                 loss_criterion,\n",
    "                 beta = 0.9, tau = 100, gamma = 0.9):\n",
    "        super().__init__()\n",
    "\n",
    "        # Initialization of the learnable parameters\n",
    "        #self.lambda_ = nn.Parameter(torch.ones(1)*lambda_, requires_grad = True)\n",
    "\n",
    "        self.tau = tau\n",
    "        self.gamma = gamma\n",
    "        self.beta = beta\n",
    "\n",
    "        self.B = []\n",
    "        self.momentum = []\n",
    "\n",
    "        for _, p in model.named_parameters():\n",
    "            self.B.append(nn.Parameter(torch.randn(p.shape[0]), requires_grad = True))\n",
    "            self.momentum.append(torch.zeros_like(p))\n",
    "\n",
    "        self.params = nn.ParameterList(self.B)\n",
    "\n",
    "        # Some more initialization\n",
    "\n",
    "        self.loss_criterion = loss_criterion\n",
    "        self.meta_optimizer = torch.optim.Adagrad(params=self.parameters(), lr=5e-5)\n",
    "        self.epochs = epochs\n",
    "        self.learning_rate = 1\n",
    "\n",
    "    def forward(self, model, X, y):\n",
    "        train_losses = []\n",
    "\n",
    "        for _ in tqdm(range(self.epochs)):\n",
    "\n",
    "            #new_params = []\n",
    "            part_grad = []\n",
    "            for i, (_, p) in enumerate(model.named_parameters()):\n",
    "\n",
    "                # Local optimization step\n",
    "                if len(p.shape) == 1:\n",
    "                    H = 1/(self.params[i]**2 + self.tau*torch.ones(self.params[i].shape[0])) * self.momentum[i]\n",
    "                    #new_params.append(nn.Parameter(p - 1/(self.B[i]**2 + self.tau*torch.ones(self.B[i].shape[0])) * self.momentum[i], requires_grad = True))\n",
    "\n",
    "                    part_grad.append(-self.learning_rate*self.gamma*(torch.autograd.grad(H,\n",
    "                                                                      self.params[i],\n",
    "                                                                      torch.ones_like(H),\n",
    "                                                                      retain_graph=True)[0]))\n",
    "\n",
    "                else:\n",
    "                    H = torch.linalg.inv(torch.outer(self.params[i],self.params[i]) + self.tau*torch.eye(self.params[i].shape[0])) @ self.momentum[i]\n",
    "\n",
    "                    #H = torch.linalg.inv(torch.matmul(self.params[i],torch.transpose(self.params[i],0,1)) + self.tau*torch.eye(self.params[i].shape[0])) @ self.momentum[i]\n",
    "                    #new_params.append(nn.Parameter(p - torch.linalg.inv(torch.outer(self.B[i],self.B[i]) + self.tau*torch.eye(self.B[i].shape[0])) @ self.momentum[i], requires_grad = True))\n",
    "                    part_grad.append(-self.learning_rate*self.gamma*(torch.autograd.grad(H,\n",
    "                                                                      self.B[i],\n",
    "                                                                      torch.ones_like(H),\n",
    "                                                                      retain_graph=True)[0]))\n",
    "\n",
    "                with torch.no_grad():\n",
    "\n",
    "                    # Convex smoothing\n",
    "                    p.copy_(p - self.learning_rate*H)\n",
    "                \n",
    "\n",
    "            #new_params = nn.ParameterList(new_params)\n",
    "\n",
    "            loss = self.loss_criterion(model(X), y)\n",
    "\n",
    "            # Zero gradients for optimizer parameters\n",
    "            self.zero_grad()\n",
    "\n",
    "            # Backward phase\n",
    "            loss.backward()\n",
    "\n",
    "            for i, (p, v) in enumerate(zip(model.parameters(), self.parameters())):\n",
    "                \n",
    "                v.grad = part_grad[i] * p.grad\n",
    "                \n",
    "                '''\n",
    "                v.grad = torch.autograd.grad(inputs = new_params[i],\n",
    "                                             outputs = v,\n",
    "                                             grad_outputs=torch.ones_like(v),\n",
    "                                             allow_unused=True)[0] @ p.grad\n",
    "                '''\n",
    "            # Update optimizer parameters\n",
    "            self.meta_optimizer.step()  \n",
    "\n",
    "            # Update momentum\n",
    "            for i, (_, p) in enumerate(model.named_parameters()):\n",
    "                self.momentum[i] = self.beta * self.momentum[i] + (1 - self.beta) * p.grad\n",
    "\n",
    "            train_losses.append(loss.detach().numpy())\n",
    "            \n",
    "            # Updating the learning rates\n",
    "\n",
    "            self.gamma *= 0.9\n",
    "            #self.learning_rate *= 0.9\n",
    "            \n",
    "        return train_losses"
   ]
  },
  {
   "cell_type": "code",
   "execution_count": 62,
   "metadata": {},
   "outputs": [
    {
     "data": {
      "text/plain": [
       "ParameterList(\n",
       "    (0): Parameter containing: [torch.float32 of size 30]\n",
       "    (1): Parameter containing: [torch.float32 of size 30]\n",
       "    (2): Parameter containing: [torch.float32 of size 1]\n",
       "    (3): Parameter containing: [torch.float32 of size 1]\n",
       ")"
      ]
     },
     "execution_count": 62,
     "metadata": {},
     "output_type": "execute_result"
    }
   ],
   "source": [
    "optimizer.params"
   ]
  },
  {
   "cell_type": "code",
   "execution_count": 63,
   "metadata": {},
   "outputs": [],
   "source": [
    "model = nn.Sequential(\n",
    "    nn.Linear(13, 30),\n",
    "    nn.ReLU(),\n",
    "    nn.Linear(30, 1)\n",
    ")\n",
    "\n",
    "criterion = nn.MSELoss()\n",
    "optimizer = SCALTRA(model, 100, criterion)"
   ]
  },
  {
   "cell_type": "code",
   "execution_count": 64,
   "metadata": {},
   "outputs": [
    {
     "name": "stderr",
     "output_type": "stream",
     "text": [
      "  0%|          | 0/100 [00:00<?, ?it/s]\n"
     ]
    },
    {
     "ename": "RuntimeError",
     "evalue": "The size of tensor a (30) must match the size of tensor b (13) at non-singleton dimension 1",
     "output_type": "error",
     "traceback": [
      "\u001b[1;31m---------------------------------------------------------------------------\u001b[0m",
      "\u001b[1;31mRuntimeError\u001b[0m                              Traceback (most recent call last)",
      "Cell \u001b[1;32mIn [64], line 1\u001b[0m\n\u001b[1;32m----> 1\u001b[0m L \u001b[38;5;241m=\u001b[39m \u001b[43moptimizer\u001b[49m\u001b[38;5;241;43m.\u001b[39;49m\u001b[43mforward\u001b[49m\u001b[43m(\u001b[49m\u001b[43mmodel\u001b[49m\u001b[43m,\u001b[49m\u001b[43m \u001b[49m\u001b[43mX_train_tensor\u001b[49m\u001b[43m,\u001b[49m\u001b[43m \u001b[49m\u001b[43my_train_tensor\u001b[49m\u001b[43m)\u001b[49m\n",
      "Cell \u001b[1;32mIn [61], line 77\u001b[0m, in \u001b[0;36mSCALTRA.forward\u001b[1;34m(self, model, X, y)\u001b[0m\n\u001b[0;32m     73\u001b[0m loss\u001b[38;5;241m.\u001b[39mbackward()\n\u001b[0;32m     75\u001b[0m \u001b[38;5;28;01mfor\u001b[39;00m i, (p, v) \u001b[38;5;129;01min\u001b[39;00m \u001b[38;5;28menumerate\u001b[39m(\u001b[38;5;28mzip\u001b[39m(model\u001b[38;5;241m.\u001b[39mparameters(), \u001b[38;5;28mself\u001b[39m\u001b[38;5;241m.\u001b[39mparameters())):\n\u001b[1;32m---> 77\u001b[0m     v\u001b[38;5;241m.\u001b[39mgrad \u001b[38;5;241m=\u001b[39m \u001b[43mpart_grad\u001b[49m\u001b[43m[\u001b[49m\u001b[43mi\u001b[49m\u001b[43m]\u001b[49m\u001b[43m \u001b[49m\u001b[38;5;241;43m*\u001b[39;49m\u001b[43m \u001b[49m\u001b[43mp\u001b[49m\u001b[38;5;241;43m.\u001b[39;49m\u001b[43mgrad\u001b[49m\n\u001b[0;32m     79\u001b[0m     \u001b[38;5;124;03m'''\u001b[39;00m\n\u001b[0;32m     80\u001b[0m \u001b[38;5;124;03m    v.grad = torch.autograd.grad(inputs = new_params[i],\u001b[39;00m\n\u001b[0;32m     81\u001b[0m \u001b[38;5;124;03m                                 outputs = v,\u001b[39;00m\n\u001b[0;32m     82\u001b[0m \u001b[38;5;124;03m                                 grad_outputs=torch.ones_like(v),\u001b[39;00m\n\u001b[0;32m     83\u001b[0m \u001b[38;5;124;03m                                 allow_unused=True)[0] @ p.grad\u001b[39;00m\n\u001b[0;32m     84\u001b[0m \u001b[38;5;124;03m    '''\u001b[39;00m\n\u001b[0;32m     85\u001b[0m \u001b[38;5;66;03m# Update optimizer parameters\u001b[39;00m\n",
      "\u001b[1;31mRuntimeError\u001b[0m: The size of tensor a (30) must match the size of tensor b (13) at non-singleton dimension 1"
     ]
    }
   ],
   "source": [
    "L = optimizer.forward(model, X_train_tensor, y_train_tensor)"
   ]
  },
  {
   "cell_type": "code",
   "execution_count": 52,
   "metadata": {},
   "outputs": [
    {
     "data": {
      "text/plain": [
       "[<matplotlib.lines.Line2D at 0x19cb2afc5e0>]"
      ]
     },
     "execution_count": 52,
     "metadata": {},
     "output_type": "execute_result"
    },
    {
     "data": {
      "image/png": "[encoded data removed]",
      "text/plain": [
       "<Figure size 640x480 with 1 Axes>"
      ]
     },
     "metadata": {},
     "output_type": "display_data"
    }
   ],
   "source": [
    "plt.loglog(L)"
   ]
  },
  {
   "cell_type": "code",
   "execution_count": 48,
   "metadata": {},
   "outputs": [
    {
     "data": {
      "text/plain": [
       "[array(600.4913, dtype=float32),\n",
       " array(595.3204, dtype=float32),\n",
       " array(581.81604, dtype=float32),\n",
       " array(558.15063, dtype=float32),\n",
       " array(523.0616, dtype=float32),\n",
       " array(475.03534, dtype=float32),\n",
       " array(411.94196, dtype=float32),\n",
       " array(332.21283, dtype=float32),\n",
       " array(238.42001, dtype=float32),\n",
       " array(143.75851, dtype=float32),\n",
       " array(80.21704, dtype=float32),\n",
       " array(101.92161, dtype=float32),\n",
       " array(266.10278, dtype=float32),\n",
       " array(581.7482, dtype=float32),\n",
       " array(950.88226, dtype=float32),\n",
       " array(1185.7769, dtype=float32),\n",
       " array(1142.7905, dtype=float32),\n",
       " array(861.9189, dtype=float32),\n",
       " array(553.5354, dtype=float32),\n",
       " array(429.4173, dtype=float32),\n",
       " array(512.6226, dtype=float32),\n",
       " array(669.1323, dtype=float32),\n",
       " array(732.0211, dtype=float32),\n",
       " array(650.6331, dtype=float32),\n",
       " array(481.6098, dtype=float32),\n",
       " array(295.0592, dtype=float32),\n",
       " array(158.22769, dtype=float32),\n",
       " array(126.460815, dtype=float32),\n",
       " array(243.1765, dtype=float32),\n",
       " array(532.1447, dtype=float32),\n",
       " array(987.99255, dtype=float32),\n",
       " array(1570.4242, dtype=float32),\n",
       " array(2207.547, dtype=float32),\n",
       " array(2807.7646, dtype=float32),\n",
       " array(3275.9778, dtype=float32),\n",
       " array(3538.3438, dtype=float32),\n",
       " array(3560.8057, dtype=float32),\n",
       " array(3354.5737, dtype=float32),\n",
       " array(2968.8613, dtype=float32),\n",
       " array(2475.1875, dtype=float32),\n",
       " array(1948.6272, dtype=float32),\n",
       " array(1451.8337, dtype=float32),\n",
       " array(1026.8668, dtype=float32),\n",
       " array(693.9202, dtype=float32),\n",
       " array(454.7943, dtype=float32),\n",
       " array(299.43695, dtype=float32),\n",
       " array(211.58574, dtype=float32),\n",
       " array(173.29291, dtype=float32),\n",
       " array(168.09265, dtype=float32),\n",
       " array(182.81337, dtype=float32),\n",
       " array(207.1893, dtype=float32),\n",
       " array(234.71812, dtype=float32),\n",
       " array(262.01694, dtype=float32),\n",
       " array(287.7144, dtype=float32),\n",
       " array(311.14175, dtype=float32),\n",
       " array(331.976, dtype=float32),\n",
       " array(349.80307, dtype=float32),\n",
       " array(364.79056, dtype=float32),\n",
       " array(377.2025, dtype=float32),\n",
       " array(387.25812, dtype=float32),\n",
       " array(395.30988, dtype=float32),\n",
       " array(401.54642, dtype=float32),\n",
       " array(406.2318, dtype=float32),\n",
       " array(409.64047, dtype=float32),\n",
       " array(411.862, dtype=float32),\n",
       " array(413.09192, dtype=float32),\n",
       " array(413.5477, dtype=float32),\n",
       " array(413.30167, dtype=float32),\n",
       " array(412.49118, dtype=float32),\n",
       " array(411.22565, dtype=float32),\n",
       " array(409.57962, dtype=float32),\n",
       " array(407.63565, dtype=float32),\n",
       " array(405.4798, dtype=float32),\n",
       " array(403.18127, dtype=float32),\n",
       " array(400.78745, dtype=float32),\n",
       " array(398.34467, dtype=float32),\n",
       " array(395.87903, dtype=float32),\n",
       " array(393.42807, dtype=float32),\n",
       " array(391.0177, dtype=float32),\n",
       " array(388.66006, dtype=float32),\n",
       " array(386.35947, dtype=float32),\n",
       " array(384.1243, dtype=float32),\n",
       " array(381.96805, dtype=float32),\n",
       " array(379.9039, dtype=float32),\n",
       " array(377.93518, dtype=float32),\n",
       " array(376.06357, dtype=float32),\n",
       " array(374.28952, dtype=float32),\n",
       " array(372.61258, dtype=float32),\n",
       " array(371.03094, dtype=float32),\n",
       " array(369.54153, dtype=float32),\n",
       " array(368.14087, dtype=float32),\n",
       " array(366.82755, dtype=float32),\n",
       " array(365.59668, dtype=float32),\n",
       " array(364.44623, dtype=float32),\n",
       " array(363.37238, dtype=float32),\n",
       " array(362.3709, dtype=float32),\n",
       " array(361.43863, dtype=float32),\n",
       " array(360.57162, dtype=float32),\n",
       " array(359.76624, dtype=float32),\n",
       " array(359.01865, dtype=float32)]"
      ]
     },
     "execution_count": 48,
     "metadata": {},
     "output_type": "execute_result"
    }
   ],
   "source": [
    "L"
   ]
  },
  {
   "cell_type": "code",
   "execution_count": null,
   "metadata": {},
   "outputs": [],
   "source": []
  }
 ],
 "metadata": {
  "kernelspec": {
   "display_name": "Python 3",
   "language": "python",
   "name": "python3"
  },
  "language_info": {
   "codemirror_mode": {
    "name": "ipython",
    "version": 3
   },
   "file_extension": ".py",
   "mimetype": "text/x-python",
   "name": "python",
   "nbconvert_exporter": "python",
   "pygments_lexer": "ipython3",
   "version": "3.10.7"
  }
 },
 "nbformat": 4,
 "nbformat_minor": 2
}
