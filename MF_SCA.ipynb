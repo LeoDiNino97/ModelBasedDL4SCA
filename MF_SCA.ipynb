{
 "cells": [
  {
   "cell_type": "code",
   "execution_count": 1,
   "metadata": {},
   "outputs": [],
   "source": [
    "import numpy as np\n",
    "\n",
    "from tqdm import tqdm\n",
    "from matplotlib import pyplot as plt\n",
    "\n",
    "import torch, numpy as np\n",
    "import torch.nn.functional as F\n",
    "import torch.nn as nn\n",
    "import torch.utils.data as Data\n",
    "import matplotlib.pyplot as plt\n",
    "\n",
    "\n",
    "SEED = 4200\n",
    "torch.manual_seed(SEED)\n",
    "np.random.seed(SEED)\n",
    "\n",
    "torch.set_default_dtype(torch.float64)"
   ]
  },
  {
   "cell_type": "code",
   "execution_count": 2,
   "metadata": {},
   "outputs": [
    {
     "data": {
      "text/plain": [
       "device(type='cuda')"
      ]
     },
     "execution_count": 2,
     "metadata": {},
     "output_type": "execute_result"
    }
   ],
   "source": [
    "device = torch.device(\"cuda\" if torch.cuda.is_available() else \"cpu\")\n",
    "device"
   ]
  },
  {
   "cell_type": "markdown",
   "metadata": {},
   "source": [
    "### Matrix factorization through vanilla SCA"
   ]
  },
  {
   "cell_type": "code",
   "execution_count": 3,
   "metadata": {},
   "outputs": [],
   "source": [
    "def MF_SCA(A, L, lambda_v = 0.1, lambda_w = 0.1, eta_v = 0.9, eta_w = 0.9, max_iter = 200):\n",
    "    m = A.shape[0]\n",
    "    n = A.shape[1]\n",
    "\n",
    "    V = np.ones((m,L))\n",
    "    W = np.ones((L,n))\n",
    "\n",
    "    # Let's also keep the Frobenius distances between the matrix A and its reconstruction VW\n",
    "    D = np.zeros(max_iter)\n",
    "\n",
    "    for _ in tqdm(range(max_iter)):   \n",
    "\n",
    "        # Local optimization step\n",
    "        V_hat = A @ W.T @ np.linalg.inv(W @ W.T + lambda_v * np.eye(L))\n",
    "        W_hat = np.linalg.inv(V.T @ V + lambda_w * np.eye(L)) @ V.T @ A   \n",
    "\n",
    "        # Global smoothing step\n",
    "        V = V + eta_v * (V_hat - V)\n",
    "        W = W + eta_w * (W_hat - W)\n",
    "\n",
    "        # Decreasing stepsize\n",
    "        eta_v = eta_v * 0.99\n",
    "        eta_w = eta_w * 0.99\n",
    "\n",
    "        # Storing the reconstruction error\n",
    "        D[_] = np.linalg.norm(A - V @ W, ord = 'fro')\n",
    "\n",
    "    return (V,W), D"
   ]
  },
  {
   "cell_type": "code",
   "execution_count": 4,
   "metadata": {},
   "outputs": [],
   "source": [
    "A = np.random.normal(size = (150,200))\n",
    "A /= np.linalg.norm(A, axis = 0)"
   ]
  },
  {
   "cell_type": "code",
   "execution_count": 5,
   "metadata": {},
   "outputs": [
    {
     "name": "stderr",
     "output_type": "stream",
     "text": [
      "100%|██████████| 200/200 [00:02<00:00, 72.68it/s]\n"
     ]
    }
   ],
   "source": [
    "(V,W), D = MF_SCA(A,70)"
   ]
  },
  {
   "cell_type": "code",
   "execution_count": 6,
   "metadata": {},
   "outputs": [
    {
     "data": {
      "text/plain": [
       "[<matplotlib.lines.Line2D at 0x2313915b460>]"
      ]
     },
     "execution_count": 6,
     "metadata": {},
     "output_type": "execute_result"
    },
    {
     "data": {
      "image/png": "[encoded data removed]",
      "text/plain": [
       "<Figure size 640x480 with 1 Axes>"
      ]
     },
     "metadata": {},
     "output_type": "display_data"
    }
   ],
   "source": [
    "plt.plot(D)"
   ]
  },
  {
   "cell_type": "markdown",
   "metadata": {},
   "source": [
    "### Matrix factorization through unrolled learnable optimization "
   ]
  },
  {
   "cell_type": "code",
   "execution_count": 10,
   "metadata": {},
   "outputs": [],
   "source": [
    "class SyntheticMatrices():\n",
    "    def __init__(self, m, n, size = 1000, batch_size = 1):\n",
    "        \n",
    "        # Matrix shape\n",
    "        self.m = m \n",
    "        self.n = n\n",
    "\n",
    "        self.size = size    # Size of the dataset\n",
    "\n",
    "        self.A = torch.zeros(self.size,self.m,self.n)\n",
    "\n",
    "        self.batch_size = batch_size\n",
    "\n",
    "        # Generating the dataset\n",
    "        self.set_data()\n",
    "\n",
    "\n",
    "    def set_matrix(self, i):\n",
    "        \n",
    "        # Generating random matrix\n",
    "        A = torch.randn(self.m, self.n)\n",
    "        A /= torch.linalg.norm(A, axis = 0)\n",
    "        self.A[i,:,:] = A\n",
    "        \n",
    "\n",
    "    def set_data(self):\n",
    "        for i in range(self.size):\n",
    "            self.set_matrix(i)\n",
    "    \n",
    "    \n",
    "    def set_loader(self):\n",
    "        return Data.DataLoader(dataset = Data.TensorDataset(self.A),\n",
    "                               batch_size = self.batch_size,\n",
    "                               shuffle = True)"
   ]
  },
  {
   "cell_type": "code",
   "execution_count": 11,
   "metadata": {},
   "outputs": [],
   "source": [
    "# Dimensions for the matrices\n",
    "m_ = 150\n",
    "n_ = 200\n",
    "\n",
    "# Building a training set and a test set \n",
    "train_set = SyntheticMatrices(\n",
    "    m = m_,\n",
    "    n = n_,\n",
    "    size = 300,\n",
    "    ).set_loader()\n",
    "\n",
    "test_set = SyntheticMatrices(\n",
    "    m = m_,\n",
    "    n = n_,\n",
    "    size = 75\n",
    "    ).set_loader()"
   ]
  },
  {
   "cell_type": "code",
   "execution_count": 9,
   "metadata": {},
   "outputs": [
    {
     "data": {
      "text/plain": [
       "tensor([[ 1.0181e-01,  4.0673e-02,  9.6254e-02,  ...,  7.0328e-02,\n",
       "         -6.3023e-02, -1.3664e-01],\n",
       "        [ 7.2294e-02,  1.1580e-01, -8.5633e-02,  ..., -4.6978e-02,\n",
       "         -3.1272e-02, -4.3983e-02],\n",
       "        [-1.3297e-02, -2.8222e-02, -1.4585e-01,  ..., -7.6704e-02,\n",
       "          1.0240e-02, -8.7173e-02],\n",
       "        ...,\n",
       "        [ 5.9802e-02,  8.9697e-02, -4.8075e-02,  ...,  1.2227e-01,\n",
       "          8.0335e-02,  8.7796e-02],\n",
       "        [-4.5872e-02, -1.3755e-02,  9.8003e-03,  ..., -6.2105e-02,\n",
       "         -4.0016e-05, -6.4237e-02],\n",
       "        [-1.3827e-01,  1.0906e-01,  2.4216e-03,  ...,  4.9032e-02,\n",
       "          9.0870e-02, -3.8123e-02]])"
      ]
     },
     "execution_count": 9,
     "metadata": {},
     "output_type": "execute_result"
    }
   ],
   "source": [
    "A_ex = test_set.dataset.__getitem__(0)[0]\n",
    "A_ex"
   ]
  },
  {
   "cell_type": "code",
   "execution_count": 12,
   "metadata": {},
   "outputs": [
    {
     "name": "stderr",
     "output_type": "stream",
     "text": [
      "100%|██████████| 200/200 [00:01<00:00, 117.75it/s]\n"
     ]
    }
   ],
   "source": [
    "(V,W), D = MF_SCA(A_ex.detach().numpy(), 100)"
   ]
  },
  {
   "cell_type": "code",
   "execution_count": 13,
   "metadata": {},
   "outputs": [
    {
     "data": {
      "text/plain": [
       "[<matplotlib.lines.Line2D at 0x247e29ccc40>]"
      ]
     },
     "execution_count": 13,
     "metadata": {},
     "output_type": "execute_result"
    },
    {
     "data": {
      "image/png": "[encoded data removed]",
      "text/plain": [
       "<Figure size 640x480 with 1 Axes>"
      ]
     },
     "metadata": {},
     "output_type": "display_data"
    }
   ],
   "source": [
    "plt.plot(D)"
   ]
  },
  {
   "cell_type": "code",
   "execution_count": 60,
   "metadata": {},
   "outputs": [],
   "source": [
    "class MFSCA_LAYER(nn.Module):\n",
    "    def __init__(self, M, N, L, lambda_v = 0.1, lambda_w = 0.1, eta_v = 0.9, eta_w = 0.9):\n",
    "        super().__init__()\n",
    "\n",
    "        # Matrix shape and latent space dimension\n",
    "        self.M = M\n",
    "        self.N = N\n",
    "        self.L = L\n",
    "\n",
    "        # Initialization of the learnable parameters\n",
    "        self.lambda_v = nn.Parameter(torch.ones(1)*lambda_v, requires_grad = True)\n",
    "        self.lambda_w = nn.Parameter(torch.ones(1)*lambda_w, requires_grad = True)\n",
    "        self.eta_v = nn.Parameter(torch.ones(1)*eta_v, requires_grad = True)\n",
    "        self.eta_w = nn.Parameter(torch.ones(1)*eta_w, requires_grad = True)\n",
    "\n",
    "    \n",
    "    def forward(self, A, V, W):\n",
    "        '''\n",
    "        V_hat = A @ W.T @ torch.linalg.inv(W @ W.T + self.lambda_v * torch.eye(self.L))\n",
    "        W_hat = torch.linalg.inv(V.T @ V + self.lambda_w * torch.eye(self.L)) @ V.T @ A\n",
    "        '''\n",
    "        # Block optimization\n",
    "        \n",
    "        V_hat = torch.bmm(torch.bmm(A, W.transpose(1, 2)),torch.inverse(torch.bmm(W, W.transpose(1,2)) + self.lambda_v * torch.eye(self.L)))\n",
    "        W_hat = torch.bmm(torch.bmm(torch.inverse(torch.bmm(V.transpose(1,2),V) + self.lambda_w * torch.eye(self.L)),V.transpose(1,2)), A)\n",
    "\n",
    "        # Convex smoothing\n",
    "        V = V + self.eta_v * (V_hat - V)\n",
    "        W = W + self.eta_w * (W_hat - W)\n",
    "\n",
    "        \n",
    "        # Nonlinearity\n",
    "        '''\n",
    "        V = F.relu(V)\n",
    "        W = F.relu(W)\n",
    "        '''\n",
    "        \n",
    "        \n",
    "        return V, W"
   ]
  },
  {
   "cell_type": "code",
   "execution_count": 61,
   "metadata": {},
   "outputs": [],
   "source": [
    "class DUMAFAC(nn.Module):\n",
    "    def __init__(self, M, N, L, T = 20, lambda_v = 0.1, lambda_w = 0.1, eta_v = 0.9, eta_w = 0.9, batch_size = 1):\n",
    "        super(DUMAFAC, self).__init__()\n",
    "        self.batch_size = batch_size\n",
    "\n",
    "        # Shapes and dimensions\n",
    "        self.M = M\n",
    "        self.N = N\n",
    "        self.L = L\n",
    "\n",
    "        # Number of iterations <-> number of layers\n",
    "        self.T = T\n",
    "\n",
    "        # Initialization of the learnable parameters\n",
    "        self.lambda_v = torch.ones(T)*lambda_v\n",
    "        self.lambda_w = torch.ones(T)*lambda_w\n",
    "        self.eta_v = torch.ones(T)*eta_v\n",
    "        self.eta_w = torch.ones(T)*eta_w\n",
    "            \n",
    "        # Defining the layers\n",
    "        self.SCA_layers = nn.ModuleList(\n",
    "            [\n",
    "                MFSCA_LAYER(\n",
    "                    self.M,\n",
    "                    self.N, \n",
    "                    self.L,\n",
    "                    self.lambda_v[i], \n",
    "                    self.lambda_w[i], \n",
    "                    self.eta_v[i],\n",
    "                    self.eta_w[i]\n",
    "                    ) \n",
    "                for i in range(self.T)\n",
    "            ]\n",
    "        )\n",
    "\n",
    "    def forward(self,A):\n",
    "        V = torch.ones((self.batch_size, self.M, self.L))\n",
    "        W = torch.ones((self.batch_size, self.L, self.N))\n",
    "        for i in range(self.T):\n",
    "            V,W = self.SCA_layers[i].forward(A, V, W)\n",
    "\n",
    "        return V,W"
   ]
  },
  {
   "cell_type": "code",
   "execution_count": 62,
   "metadata": {},
   "outputs": [],
   "source": [
    "model = DUMAFAC(150,200,50, T = 30)"
   ]
  },
  {
   "cell_type": "code",
   "execution_count": 63,
   "metadata": {},
   "outputs": [],
   "source": [
    "def trainer(model, train_loader, valid_loader, num_epochs=5):\n",
    "\n",
    "    # Optimizer declaration\n",
    "    optimizer = torch.optim.SGD(\n",
    "        model.parameters(),\n",
    "        lr=5e-03,\n",
    "        momentum=0.9,\n",
    "        weight_decay=0,\n",
    "    )\n",
    "\n",
    "    scheduler = torch.optim.lr_scheduler.StepLR(optimizer, step_size=50, gamma=0.1)\n",
    "\n",
    "    # Storing the loss\n",
    "    loss_train = np.zeros((num_epochs,))\n",
    "    loss_test = np.zeros((num_epochs,))\n",
    "\n",
    "    for epoch in range(num_epochs):\n",
    "        # Do the training and compute the loss\n",
    "        model.train()\n",
    "        train_loss = 0\n",
    "        for _, (A) in enumerate(train_loader):\n",
    "            V,W = model(A[0])\n",
    "            loss = F.mse_loss(torch.bmm(V,W), A[0], reduction=\"sum\")\n",
    "            optimizer.zero_grad()\n",
    "            loss.backward()\n",
    "            optimizer.step()\n",
    "\n",
    "            for p in model.parameters():\n",
    "                \n",
    "                p.data = torch.clamp(p.data, 10e-4, 10e4)\n",
    "                \n",
    "                \n",
    "            model.zero_grad()\n",
    "            train_loss += loss.data.item()\n",
    "\n",
    "        # Aggregate training loss\n",
    "        loss_train[epoch] = train_loss / len(train_loader.dataset)\n",
    "        scheduler.step()\n",
    "\n",
    "        # Validation loss\n",
    "        model.eval()\n",
    "        test_loss = 0\n",
    "        for _, (A) in enumerate(valid_loader):\n",
    "            V,W = model(A[0])\n",
    "            test_loss += F.mse_loss(V @ W, A[0], reduction=\"sum\")\n",
    "        loss_test[epoch] = test_loss / len(valid_loader.dataset)\n",
    "\n",
    "        # Visualize some results during the training procedure\n",
    "        if epoch % 10 == 0:\n",
    "            print(\"Epoch %d, Train loss %.8f, Validation loss %.8f\" % (epoch, loss_train[epoch], loss_test[epoch]))\n",
    "\n",
    "    return loss_test"
   ]
  },
  {
   "cell_type": "code",
   "execution_count": 64,
   "metadata": {},
   "outputs": [
    {
     "name": "stdout",
     "output_type": "stream",
     "text": [
      "Parameter containing:\n",
      "tensor([0.1000], requires_grad=True)\n",
      "Parameter containing:\n",
      "tensor([0.1000], requires_grad=True)\n",
      "Parameter containing:\n",
      "tensor([0.1000], requires_grad=True)\n",
      "Parameter containing:\n",
      "tensor([0.1000], requires_grad=True)\n",
      "Parameter containing:\n",
      "tensor([0.1000], requires_grad=True)\n",
      "Parameter containing:\n",
      "tensor([0.1000], requires_grad=True)\n",
      "Parameter containing:\n",
      "tensor([0.1000], requires_grad=True)\n",
      "Parameter containing:\n",
      "tensor([0.1000], requires_grad=True)\n",
      "Parameter containing:\n",
      "tensor([0.1000], requires_grad=True)\n",
      "Parameter containing:\n",
      "tensor([0.1000], requires_grad=True)\n",
      "Parameter containing:\n",
      "tensor([0.1000], requires_grad=True)\n",
      "Parameter containing:\n",
      "tensor([0.1000], requires_grad=True)\n",
      "Parameter containing:\n",
      "tensor([0.1000], requires_grad=True)\n",
      "Parameter containing:\n",
      "tensor([0.1000], requires_grad=True)\n",
      "Parameter containing:\n",
      "tensor([0.1000], requires_grad=True)\n",
      "Parameter containing:\n",
      "tensor([0.1000], requires_grad=True)\n",
      "Parameter containing:\n",
      "tensor([0.1000], requires_grad=True)\n",
      "Parameter containing:\n",
      "tensor([0.1000], requires_grad=True)\n",
      "Parameter containing:\n",
      "tensor([0.1000], requires_grad=True)\n",
      "Parameter containing:\n",
      "tensor([0.1000], requires_grad=True)\n",
      "Parameter containing:\n",
      "tensor([0.1000], requires_grad=True)\n",
      "Parameter containing:\n",
      "tensor([0.1000], requires_grad=True)\n",
      "Parameter containing:\n",
      "tensor([0.1000], requires_grad=True)\n",
      "Parameter containing:\n",
      "tensor([0.1000], requires_grad=True)\n",
      "Parameter containing:\n",
      "tensor([0.1000], requires_grad=True)\n",
      "Parameter containing:\n",
      "tensor([0.1000], requires_grad=True)\n",
      "Parameter containing:\n",
      "tensor([0.1000], requires_grad=True)\n",
      "Parameter containing:\n",
      "tensor([0.1000], requires_grad=True)\n",
      "Parameter containing:\n",
      "tensor([0.1000], requires_grad=True)\n",
      "Parameter containing:\n",
      "tensor([0.1000], requires_grad=True)\n"
     ]
    }
   ],
   "source": [
    "for i in range(model.T):\n",
    "    print(model.SCA_layers[i].lambda_v)"
   ]
  },
  {
   "cell_type": "code",
   "execution_count": 67,
   "metadata": {},
   "outputs": [
    {
     "name": "stdout",
     "output_type": "stream",
     "text": [
      "tensor([nan])\n",
      "tensor([nan])\n",
      "tensor([nan])\n",
      "tensor([nan])\n",
      "tensor([nan])\n",
      "tensor([nan])\n",
      "tensor([nan])\n",
      "tensor([nan])\n",
      "tensor([nan])\n",
      "tensor([nan])\n",
      "tensor([nan])\n",
      "tensor([nan])\n",
      "tensor([nan])\n",
      "tensor([nan])\n",
      "tensor([nan])\n",
      "tensor([nan])\n",
      "tensor([nan])\n",
      "tensor([nan])\n",
      "tensor([nan])\n",
      "tensor([nan])\n",
      "tensor([nan])\n",
      "tensor([nan])\n",
      "tensor([nan])\n",
      "tensor([nan])\n",
      "tensor([nan])\n",
      "tensor([nan])\n",
      "tensor([nan])\n",
      "tensor([nan])\n",
      "tensor([nan])\n",
      "tensor([nan])\n",
      "tensor([nan])\n",
      "tensor([nan])\n",
      "tensor([nan])\n",
      "tensor([nan])\n",
      "tensor([nan])\n",
      "tensor([nan])\n",
      "tensor([nan])\n",
      "tensor([nan])\n",
      "tensor([nan])\n",
      "tensor([nan])\n",
      "tensor([nan])\n",
      "tensor([nan])\n",
      "tensor([nan])\n",
      "tensor([nan])\n",
      "tensor([nan])\n",
      "tensor([nan])\n",
      "tensor([nan])\n",
      "tensor([nan])\n",
      "tensor([nan])\n",
      "tensor([nan])\n",
      "tensor([nan])\n",
      "tensor([nan])\n",
      "tensor([nan])\n",
      "tensor([nan])\n",
      "tensor([nan])\n",
      "tensor([nan])\n",
      "tensor([nan])\n",
      "tensor([nan])\n",
      "tensor([nan])\n",
      "tensor([nan])\n",
      "tensor([nan])\n",
      "tensor([nan])\n",
      "tensor([nan])\n",
      "tensor([nan])\n",
      "tensor([nan])\n",
      "tensor([nan])\n",
      "tensor([nan])\n",
      "tensor([nan])\n",
      "tensor([nan])\n",
      "tensor([nan])\n",
      "tensor([nan])\n",
      "tensor([nan])\n",
      "tensor([nan])\n",
      "tensor([nan])\n",
      "tensor([nan])\n",
      "tensor([nan])\n",
      "tensor([nan])\n",
      "tensor([nan])\n",
      "tensor([nan])\n",
      "tensor([nan])\n",
      "tensor([nan])\n",
      "tensor([nan])\n",
      "tensor([nan])\n",
      "tensor([nan])\n",
      "tensor([nan])\n",
      "tensor([nan])\n",
      "tensor([nan])\n",
      "tensor([nan])\n",
      "tensor([nan])\n",
      "tensor([nan])\n",
      "tensor([nan])\n",
      "tensor([nan])\n",
      "tensor([nan])\n",
      "tensor([nan])\n",
      "tensor([nan])\n",
      "tensor([nan])\n",
      "tensor([nan])\n",
      "tensor([nan])\n",
      "tensor([nan])\n",
      "tensor([nan])\n",
      "tensor([nan])\n",
      "tensor([nan])\n",
      "tensor([nan])\n",
      "tensor([nan])\n",
      "tensor([nan])\n",
      "tensor([nan])\n",
      "tensor([nan])\n",
      "tensor([nan])\n",
      "tensor([nan])\n",
      "tensor([nan])\n",
      "tensor([nan])\n",
      "tensor([nan])\n",
      "tensor([nan])\n",
      "tensor([nan])\n",
      "tensor([nan])\n",
      "tensor([nan])\n",
      "tensor([nan])\n",
      "tensor([nan])\n",
      "tensor([nan])\n",
      "tensor([nan])\n"
     ]
    }
   ],
   "source": [
    "for p in model.parameters():\n",
    "    print(p.data)"
   ]
  },
  {
   "cell_type": "code",
   "execution_count": null,
   "metadata": {},
   "outputs": [],
   "source": [
    "trainer(model, train_set, test_set)"
   ]
  },
  {
   "cell_type": "markdown",
   "metadata": {},
   "source": [
    "# To run on GPU"
   ]
  },
  {
   "cell_type": "code",
   "execution_count": 6,
   "metadata": {},
   "outputs": [],
   "source": [
    "class MFSCA_LAYER(nn.Module):\n",
    "    def __init__(self, M, N, L, lambda_v=0.1, lambda_w=0.1, eta_v=0.9, eta_w=0.9):\n",
    "        super().__init__()\n",
    "\n",
    "        # Matrix shape and latent space dimension\n",
    "        self.M = M\n",
    "        self.N = N\n",
    "        self.L = L\n",
    "\n",
    "        # Initialization of the learnable parameters\n",
    "        self.lambda_v = nn.Parameter(torch.ones(1) * lambda_v, requires_grad=True)\n",
    "        self.lambda_w = nn.Parameter(torch.ones(1) * lambda_w, requires_grad=True)\n",
    "        self.eta_v = nn.Parameter(torch.ones(1) * eta_v, requires_grad=True)\n",
    "        self.eta_w = nn.Parameter(torch.ones(1) * eta_w, requires_grad=True)\n",
    "\n",
    "    def forward(self, A, V, W):\n",
    "        '''\n",
    "        V_hat = A @ W.T @ torch.linalg.inv(W @ W.T + self.lambda_v * torch.eye(self.L))\n",
    "        W_hat = torch.linalg.inv(V.T @ V + self.lambda_w * torch.eye(self.L)) @ V.T @ A\n",
    "        '''\n",
    "        # Move tensors to the same device\n",
    "        device = A.device\n",
    "\n",
    "        # Block optimization\n",
    "        V_hat = torch.bmm(torch.bmm(A, W.transpose(1, 2)), torch.inverse(torch.bmm(W, W.transpose(1, 2)) + self.lambda_v * torch.eye(self.L).to(device)))\n",
    "        W_hat = torch.bmm(torch.bmm(torch.inverse(torch.bmm(V.transpose(1, 2), V) + self.lambda_w * torch.eye(self.L).to(device)), V.transpose(1, 2)), A)\n",
    "\n",
    "        # Convex smoothing\n",
    "        V = V + self.eta_v * (V_hat - V)\n",
    "        W = W + self.eta_w * (W_hat - W)\n",
    "\n",
    "        return V, W\n",
    "\n",
    "class DUMAFAC(nn.Module):\n",
    "    def __init__(self, M, N, L, T=20, lambda_v=0.1, lambda_w=0.1, eta_v=0.9, eta_w=0.9, batch_size=25):\n",
    "        super(DUMAFAC, self).__init__()\n",
    "        self.batch_size = batch_size\n",
    "\n",
    "        # Shapes and dimensions\n",
    "        self.M = M\n",
    "        self.N = N\n",
    "        self.L = L\n",
    "\n",
    "        # Number of iterations <-> number of layers\n",
    "        self.T = T\n",
    "\n",
    "        # Initialization of the learnable parameters\n",
    "        self.lambda_v = nn.Parameter(torch.ones(T) * lambda_v, requires_grad=True)\n",
    "        self.lambda_w = nn.Parameter(torch.ones(T) * lambda_w, requires_grad=True)\n",
    "        self.eta_v = nn.Parameter(torch.ones(T) * eta_v, requires_grad=True)\n",
    "        self.eta_w = nn.Parameter(torch.ones(T) * eta_w, requires_grad=True)\n",
    "\n",
    "        # Defining the layers\n",
    "        self.SCA_layers = nn.ModuleList(\n",
    "            [\n",
    "                MFSCA_LAYER(\n",
    "                    self.M,\n",
    "                    self.N,\n",
    "                    self.L,\n",
    "                    lambda_v=self.lambda_v[i],\n",
    "                    lambda_w=self.lambda_w[i],\n",
    "                    eta_v=self.eta_v[i],\n",
    "                    eta_w=self.eta_w[i]\n",
    "                )\n",
    "                for i in range(self.T)\n",
    "            ]\n",
    "        )\n",
    "\n",
    "    def forward(self, A):\n",
    "        device = A.device\n",
    "        V = torch.ones((self.batch_size, self.M, self.L), device=device)\n",
    "        W = torch.ones((self.batch_size, self.L, self.N), device=device)\n",
    "        for i in range(self.T):\n",
    "            V, W = self.SCA_layers[i].forward(A.to(device), V, W)\n",
    "\n",
    "        return V, W\n"
   ]
  },
  {
   "cell_type": "code",
   "execution_count": 7,
   "metadata": {},
   "outputs": [],
   "source": [
    "def trainer(model, train_loader, valid_loader, num_epochs=50):\n",
    "\n",
    "    # Optimizer declaration\n",
    "    optimizer = torch.optim.SGD(\n",
    "        model.parameters(),\n",
    "        lr=5e-05,\n",
    "        momentum=0.9,\n",
    "        weight_decay=0,\n",
    "    )\n",
    "\n",
    "    scheduler = torch.optim.lr_scheduler.StepLR(optimizer, step_size=50, gamma=0.1)\n",
    "\n",
    "    # Storing the loss\n",
    "    loss_train = np.zeros((num_epochs,))\n",
    "    loss_test = np.zeros((num_epochs,))\n",
    "\n",
    "    device = torch.device(\"cuda\" if torch.cuda.is_available() else \"cpu\")\n",
    "    model.to(device)\n",
    "\n",
    "    for epoch in range(num_epochs):\n",
    "        # Do the training and compute the loss\n",
    "        model.train()\n",
    "        train_loss = 0\n",
    "        for _, (A) in enumerate(train_loader):\n",
    "            A_ = A[0]\n",
    "            A_ = A_.to(device)  # Move input data to GPU\n",
    "            V, W = model(A_)\n",
    "            loss = F.mse_loss(torch.bmm(V, W), A_, reduction=\"sum\")\n",
    "            optimizer.zero_grad()\n",
    "            loss.backward()\n",
    "            optimizer.step()\n",
    "                \n",
    "            train_loss += loss.item()\n",
    "\n",
    "        # Aggregate training loss\n",
    "        loss_train[epoch] = train_loss / len(train_loader.dataset)\n",
    "        scheduler.step()\n",
    "\n",
    "        # Validation loss\n",
    "        model.eval()\n",
    "        test_loss = 0\n",
    "        with torch.no_grad():\n",
    "            for _, (A) in enumerate(valid_loader):\n",
    "                A = A.to(device)  # Move input data to GPU\n",
    "                V, W = model(A)\n",
    "                test_loss += F.mse_loss(torch.bmm(V, W), A, reduction=\"sum\")\n",
    "            loss_test[epoch] = test_loss / len(valid_loader.dataset)\n",
    "\n",
    "        # Visualize some results during the training procedure\n",
    "        if epoch % 10 == 0:\n",
    "            print(\"Epoch %d, Train loss %.8f, Validation loss %.8f\" % (epoch, loss_train[epoch], loss_test[epoch]))\n",
    "\n",
    "    return loss_test\n"
   ]
  },
  {
   "cell_type": "code",
   "execution_count": 8,
   "metadata": {},
   "outputs": [],
   "source": [
    "model = DUMAFAC(M = 150, N = 200, L = 400).to(device)"
   ]
  },
  {
   "cell_type": "code",
   "execution_count": null,
   "metadata": {},
   "outputs": [],
   "source": [
    "trainer(model, train_set, test_set)"
   ]
  }
 ],
 "metadata": {
  "kernelspec": {
   "display_name": "Python 3",
   "language": "python",
   "name": "python3"
  },
  "language_info": {
   "codemirror_mode": {
    "name": "ipython",
    "version": 3
   },
   "file_extension": ".py",
   "mimetype": "text/x-python",
   "name": "python",
   "nbconvert_exporter": "python",
   "pygments_lexer": "ipython3",
   "version": "3.10.7"
  }
 },
 "nbformat": 4,
 "nbformat_minor": 2
}
