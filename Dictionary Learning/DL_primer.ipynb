{
 "cells": [
  {
   "cell_type": "markdown",
   "metadata": {},
   "source": [
    "# Dictionary learning"
   ]
  },
  {
   "cell_type": "code",
   "execution_count": 1,
   "metadata": {},
   "outputs": [],
   "source": [
    "import numpy as np \n",
    "import cvxpy as cp\n",
    "from tqdm import tqdm\n",
    "from matplotlib import pyplot as plt"
   ]
  },
  {
   "cell_type": "code",
   "execution_count": 7,
   "metadata": {},
   "outputs": [],
   "source": [
    "# Subroutines for first subproblem\n",
    "\n",
    "def grad(Y, D, X): \n",
    "    return - Y @ X.T + D @ X @ X.T\n",
    "\n",
    "def proj(D):\n",
    "\n",
    "    return np.apply_along_axis(lambda d: d/np.max([1, np.linalg.norm(d)]), axis=0, arr=D)\n",
    "\n",
    "def projected_gradient(Y, D, X, LR = 0.001, T = 100):\n",
    "    for _ in range(T):\n",
    "        D = proj ( D - LR * grad(Y,D,X))\n",
    "    return D"
   ]
  },
  {
   "cell_type": "code",
   "execution_count": 8,
   "metadata": {},
   "outputs": [],
   "source": [
    "# Subroutines for second subproblem\n",
    "\n",
    "def ortho_match_pursuit(y, A, max_iter = 10, eps = 1e-2):\n",
    "    S = []\n",
    "\n",
    "    x = np.zeros(A.shape[1])\n",
    "    iters = 0\n",
    "    rate = 0\n",
    "    R = y\n",
    "\n",
    "    while iters < max_iter or rate > eps:\n",
    "\n",
    "        # Retrieve the maximum correlation between atoms and residuals of the previous iteration\n",
    "        S.append(np.argmax(np.abs(A.T @ R)))\n",
    "\n",
    "        # Expand the dictionary for the representation\n",
    "        dic = A[:,S]\n",
    "\n",
    "        # Solve subproblems and update x\n",
    "        x[S] = np.linalg.inv(dic.T @ dic) @ dic.T @ y\n",
    "        \n",
    "        # Update the residuals\n",
    "        R = y - A @ x\n",
    "        iters += 1\n",
    "\n",
    "    return x\n"
   ]
  },
  {
   "cell_type": "code",
   "execution_count": 9,
   "metadata": {},
   "outputs": [],
   "source": [
    "def SCADictionaryLearning(Y, m, epsilon = 1e-5, gamma = 0.99, max_iter = 200):\n",
    "    s = Y.shape[0]\n",
    "    t = Y.shape[1]\n",
    "\n",
    "    D = np.random.rand(s,m)\n",
    "    X = np.random.rand(m,t)\n",
    "\n",
    "    '''\n",
    "    for j in range(t):\n",
    "        X[:,j] = Hs(X[:,j], k)\n",
    "    '''\n",
    "    # Normalize data\n",
    "    Y = np.apply_along_axis(lambda x: x/np.linalg.norm(x), axis=0, arr=Y)\n",
    "    \n",
    "    loss = [np.linalg.norm(Y - D @ X)]\n",
    "    rate = 1\n",
    "\n",
    "    for it in tqdm(range(1,max_iter)): \n",
    "        if rate < epsilon:\n",
    "            break\n",
    "\n",
    "        D_hat = np.random.rand(D.shape[0],D.shape[1])\n",
    "        X_hat = np.random.rand(X.shape[0],X.shape[1])\n",
    "\n",
    "        # First subproblem - Normalized LS in the dictionary\n",
    "        D_hat = projected_gradient(Y, D_hat, X)\n",
    "\n",
    "        # Second subproblem - LASSO within each sample of signals\n",
    "\n",
    "        for j in range(t): \n",
    "            X_hat[:,j] = ortho_match_pursuit(Y[:,j], D)\n",
    "\n",
    "        # Convex combination\n",
    "        \n",
    "        D = D + gamma * (D_hat - D)\n",
    "        X = X + gamma * (X_hat - X)\n",
    "\n",
    "        # Decreasing step size \n",
    "\n",
    "        gamma *= 0.9\n",
    "        \n",
    "        '''\n",
    "        D = D_hat\n",
    "        X = X_hat\n",
    "        '''\n",
    "        \n",
    "        # Metrics stores and update\n",
    "        loss.append(np.linalg.norm(Y - D @ X))\n",
    "        rate = np.abs(loss[it] - loss[it - 1])\n",
    "        \n",
    "    return D, X, loss"
   ]
  },
  {
   "cell_type": "code",
   "execution_count": 15,
   "metadata": {},
   "outputs": [],
   "source": [
    "Y = np.random.rand(50,100)"
   ]
  },
  {
   "cell_type": "code",
   "execution_count": 18,
   "metadata": {},
   "outputs": [
    {
     "name": "stderr",
     "output_type": "stream",
     "text": [
      " 53%|█████▎    | 105/199 [00:39<00:35,  2.68it/s]\n"
     ]
    }
   ],
   "source": [
    "D, X, loss = SCADictionaryLearning(Y, 100)"
   ]
  },
  {
   "cell_type": "code",
   "execution_count": 20,
   "metadata": {},
   "outputs": [
    {
     "data": {
      "image/png": "[encoded data removed]",
      "text/plain": [
       "<Figure size 640x480 with 1 Axes>"
      ]
     },
     "metadata": {},
     "output_type": "display_data"
    }
   ],
   "source": [
    "plt.plot(loss)\n",
    "plt.yscale('log')"
   ]
  }
 ],
 "metadata": {
  "kernelspec": {
   "display_name": "Python 3",
   "language": "python",
   "name": "python3"
  },
  "language_info": {
   "codemirror_mode": {
    "name": "ipython",
    "version": 3
   },
   "file_extension": ".py",
   "mimetype": "text/x-python",
   "name": "python",
   "nbconvert_exporter": "python",
   "pygments_lexer": "ipython3",
   "version": "3.10.7"
  }
 },
 "nbformat": 4,
 "nbformat_minor": 2
}
