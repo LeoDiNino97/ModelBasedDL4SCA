{
 "cells": [
  {
   "cell_type": "code",
   "execution_count": 1,
   "metadata": {},
   "outputs": [],
   "source": [
    "import numpy as np\n",
    "\n",
    "from tqdm import tqdm\n",
    "from matplotlib import pyplot as plt\n",
    "\n",
    "import torch, numpy as np\n",
    "import torch.nn.functional as F\n",
    "import torch.nn as nn\n",
    "import torch.utils.data as Data\n",
    "import matplotlib.pyplot as plt\n",
    "\n",
    "\n",
    "SEED = 4200\n",
    "torch.manual_seed(SEED)\n",
    "np.random.seed(SEED)\n",
    "\n",
    "torch.set_default_dtype(torch.float64)"
   ]
  },
  {
   "cell_type": "code",
   "execution_count": 2,
   "metadata": {},
   "outputs": [
    {
     "data": {
      "text/plain": [
       "device(type='cuda')"
      ]
     },
     "execution_count": 2,
     "metadata": {},
     "output_type": "execute_result"
    }
   ],
   "source": [
    "device = torch.device(\"cuda\" if torch.cuda.is_available() else \"cpu\")\n",
    "device"
   ]
  },
  {
   "cell_type": "markdown",
   "metadata": {},
   "source": [
    "### Matrix factorization through vanilla SCA"
   ]
  },
  {
   "cell_type": "code",
   "execution_count": 3,
   "metadata": {},
   "outputs": [],
   "source": [
    "def MF_SCA(A, L, lambda_v = 0.1, lambda_w = 0.1, eta_v = 0.9, eta_w = 0.9, max_iter = 200):\n",
    "    m = A.shape[0]\n",
    "    n = A.shape[1]\n",
    "\n",
    "    V = np.ones((m,L))\n",
    "    W = np.ones((L,n))\n",
    "\n",
    "    # Let's also keep the Frobenius distances between the matrix A and its reconstruction VW\n",
    "    \n",
    "    D = np.zeros(max_iter)\n",
    "\n",
    "    for _ in tqdm(range(max_iter)):   \n",
    "\n",
    "        # Local optimization step\n",
    "        V_hat = A @ W.T @ np.linalg.inv(W @ W.T + lambda_v * np.eye(L))\n",
    "        W_hat = np.linalg.inv(V.T @ V + lambda_w * np.eye(L)) @ V.T @ A   \n",
    "        \n",
    "        '''\n",
    "        V_hat = (1 - lambda_v/np.max([lambda_v, np.linalg.norm(A @ np.linalg.pinv(W))])) @ A @ np.linalg.pinv(W)\n",
    "        W_hat = (1 - lambda_w/np.max([lambda_v, np.linalg.norm(np.linalg.pinv(V) @ A)])) @ np.linalg.pinv(V) @ A\n",
    "        '''\n",
    "\n",
    "        # Global smoothing step\n",
    "        V = V + eta_v * (V_hat - V)\n",
    "        W = W + eta_w * (W_hat - W)\n",
    "\n",
    "        # Decreasing stepsize\n",
    "        eta_v = eta_v * 0.99\n",
    "        eta_w = eta_w * 0.99\n",
    "\n",
    "        # Storing the reconstruction error\n",
    "        D[_] = np.linalg.norm(A - V @ W, ord = 'fro')\n",
    "\n",
    "    return (V,W), D"
   ]
  },
  {
   "cell_type": "code",
   "execution_count": 4,
   "metadata": {},
   "outputs": [],
   "source": [
    "A = np.random.normal(size = (1500,2000))\n",
    "A /= np.linalg.norm(A, axis = 0)"
   ]
  },
  {
   "cell_type": "code",
   "execution_count": 5,
   "metadata": {},
   "outputs": [
    {
     "name": "stderr",
     "output_type": "stream",
     "text": [
      "100%|██████████| 200/200 [01:03<00:00,  3.15it/s]\n"
     ]
    }
   ],
   "source": [
    "(V,W), D = MF_SCA(A,1000)"
   ]
  },
  {
   "cell_type": "code",
   "execution_count": 6,
   "metadata": {},
   "outputs": [
    {
     "data": {
      "image/png": "[encoded data removed]",
      "text/plain": [
       "<Figure size 640x480 with 1 Axes>"
      ]
     },
     "metadata": {},
     "output_type": "display_data"
    }
   ],
   "source": [
    "plt.plot(D)\n",
    "plt.yscale('log')"
   ]
  },
  {
   "cell_type": "code",
   "execution_count": 7,
   "metadata": {},
   "outputs": [
    {
     "data": {
      "text/plain": [
       "11.31446112612937"
      ]
     },
     "execution_count": 7,
     "metadata": {},
     "output_type": "execute_result"
    }
   ],
   "source": [
    "np.linalg.norm(V @ W - A, ord='fro')"
   ]
  },
  {
   "cell_type": "markdown",
   "metadata": {},
   "source": [
    "### Neural Building Blocks design - Deep Matrix Factorization"
   ]
  },
  {
   "cell_type": "code",
   "execution_count": 8,
   "metadata": {},
   "outputs": [],
   "source": [
    "# Model for optimizing wrt V \n",
    "\n",
    "M = 150\n",
    "N = 200\n",
    "L = 70\n",
    "\n",
    "A = torch.randn(M, N)\n",
    "V = torch.randn(M, L)\n",
    "W = torch.randn(L, N)"
   ]
  },
  {
   "cell_type": "code",
   "execution_count": 9,
   "metadata": {},
   "outputs": [],
   "source": [
    "class ModuleV(nn.Module):\n",
    "    def __init__(self, M, L, N, lambda_):\n",
    "        super().__init__()\n",
    "        self.M = M\n",
    "        self.L = L\n",
    "        self.N = N\n",
    "\n",
    "        self.lambda_ = lambda_\n",
    "        self.V = nn.Parameter(torch.randn(self.M, self.L), requires_grad=True)\n",
    "        self.optimizer = torch.optim.Adam(params=self.parameters(), lr=0.5, weight_decay = 5e-4)\n",
    "\n",
    "    def forward(self, W):\n",
    "        return self.V @ W\n",
    "    \n",
    "    def emit(self):\n",
    "        return self.V\n",
    "\n",
    "    def loss(self, A, W):\n",
    "        return torch.linalg.norm(A - self.forward(W), 'fro') + self.lambda_ * torch.linalg.norm(self.forward(W), 'fro')\n",
    "\n",
    "    def step(self, A, W):\n",
    "        self.optimizer.zero_grad()\n",
    "        loss_ = self.loss(A, W)\n",
    "        loss_.backward(retain_graph=True)\n",
    "        self.optimizer.step()\n",
    "    \n",
    "    def learn(self, A, W, T = 1000):\n",
    "        for _ in range(T):\n",
    "            self.step(A, W)\n",
    "\n",
    "    def reset(self):\n",
    "        self.V = nn.Parameter(torch.randn(self.M, self.L), requires_grad=True)\n"
   ]
  },
  {
   "cell_type": "code",
   "execution_count": 10,
   "metadata": {},
   "outputs": [],
   "source": [
    "class ModuleW(nn.Module):\n",
    "    def __init__(self, M, L, N, lambda_):\n",
    "        super().__init__()\n",
    "        self.M = M\n",
    "        self.L = L\n",
    "        self.N = N\n",
    "        \n",
    "        self.lambda_ = lambda_\n",
    "        self.W = nn.Parameter(torch.randn(self.L, self.N), requires_grad=True)\n",
    "        self.optimizer = torch.optim.Adam(params=self.parameters(), lr=0.5, weight_decay = 5e-4)\n",
    "\n",
    "    def forward(self, V):\n",
    "        return V @ self.W\n",
    "    \n",
    "    def emit(self):\n",
    "        return self.W\n",
    "    \n",
    "    def loss(self, A, V):\n",
    "        return torch.linalg.norm(A - self.forward(V), 'fro') + self.lambda_ * torch.linalg.norm(self.forward(V), 'fro')\n",
    "    \n",
    "    def step(self, A, V):\n",
    "        self.optimizer.zero_grad()\n",
    "        loss_ = self.loss(A, V)\n",
    "        loss_.backward(retain_graph=True)\n",
    "        self.optimizer.step()\n",
    "    \n",
    "    def learn(self, A, V, T = 1000):\n",
    "        for _ in range(T):\n",
    "            self.step(A, V)\n",
    "    \n",
    "    def reset(self):\n",
    "        self.W = nn.Parameter(torch.randn(self.L, self.N), requires_grad=True)\n"
   ]
  },
  {
   "cell_type": "code",
   "execution_count": 11,
   "metadata": {},
   "outputs": [],
   "source": [
    "class DeepMatrixFactorization():\n",
    "    def __init__(self, M, L, N, lambda_ = 0.5, gamma = 0.99, T = 50, t = 100):\n",
    "\n",
    "        self.M = M\n",
    "        self.L = L\n",
    "        self.N = N\n",
    "\n",
    "        self.T = T\n",
    "        self.t = t\n",
    "\n",
    "        self.lambda_ = lambda_\n",
    "        self.gamma = gamma\n",
    "\n",
    "        self.blocks = []\n",
    "        self.gammas = []\n",
    "\n",
    "        for t in range(self.T):\n",
    "            self.blocks.append({\n",
    "                'Block V': ModuleV(self.M, self.L, self.N, self.lambda_),\n",
    "                'Block W': ModuleW(self.M, self.L, self.N, self.lambda_)\n",
    "            })\n",
    "\n",
    "            self.gammas.append(self.gamma * (0.99 ** t))\n",
    "\n",
    "        self.losses = []\n",
    "\n",
    "    def inference(self, A): \n",
    "        V = torch.randn(self.M, self.L)\n",
    "        W = torch.randn(self.L, self.N)\n",
    "\n",
    "        for t in range(self.T):\n",
    "            \n",
    "            self.blocks[t]['Block V'].learn(A, W, self.t)\n",
    "            self.blocks[t]['Block W'].learn(A, V, self.t)\n",
    "\n",
    "            V = V + self.gammas[t]*(self.blocks[t]['Block V'].emit() - V)\n",
    "            W = W + self.gammas[t]*(self.blocks[t]['Block W'].emit() - W)\n",
    "\n",
    "            self.blocks[t]['Block V'].reset()\n",
    "            self.blocks[t]['Block W'].reset()\n",
    "\n",
    "            self.losses.append((torch.linalg.norm(A - V @ W, 'fro')).detach().numpy())\n",
    "        \n",
    "        return V, W\n"
   ]
  },
  {
   "cell_type": "code",
   "execution_count": 12,
   "metadata": {},
   "outputs": [],
   "source": [
    "model = DeepMatrixFactorization(M, L, N, lambda_ = 0.05)"
   ]
  },
  {
   "cell_type": "code",
   "execution_count": 13,
   "metadata": {},
   "outputs": [],
   "source": [
    "V_, W_ = model.inference(A)"
   ]
  },
  {
   "cell_type": "code",
   "execution_count": 14,
   "metadata": {},
   "outputs": [
    {
     "data": {
      "text/plain": [
       "[<matplotlib.lines.Line2D at 0x1ac1ba4d300>]"
      ]
     },
     "execution_count": 14,
     "metadata": {},
     "output_type": "execute_result"
    },
    {
     "data": {
      "image/png": "[encoded data removed]",
      "text/plain": [
       "<Figure size 640x480 with 1 Axes>"
      ]
     },
     "metadata": {},
     "output_type": "display_data"
    }
   ],
   "source": [
    "plt.loglog(model.losses)"
   ]
  },
  {
   "cell_type": "code",
   "execution_count": 15,
   "metadata": {},
   "outputs": [
    {
     "data": {
      "text/plain": [
       "tensor(72.5180, grad_fn=<LinalgVectorNormBackward0>)"
      ]
     },
     "execution_count": 15,
     "metadata": {},
     "output_type": "execute_result"
    }
   ],
   "source": [
    "torch.linalg.norm(A - V_ @ W_)"
   ]
  },
  {
   "cell_type": "code",
   "execution_count": 16,
   "metadata": {},
   "outputs": [
    {
     "name": "stderr",
     "output_type": "stream",
     "text": [
      "100%|██████████| 50/50 [00:00<00:00, 115.60it/s]\n"
     ]
    }
   ],
   "source": [
    "_, D2 = MF_SCA(A.detach().numpy(),L,max_iter=50)"
   ]
  },
  {
   "cell_type": "code",
   "execution_count": 17,
   "metadata": {},
   "outputs": [
    {
     "data": {
      "text/plain": [
       "<matplotlib.legend.Legend at 0x1ac1e060850>"
      ]
     },
     "execution_count": 17,
     "metadata": {},
     "output_type": "execute_result"
    },
    {
     "data": {
      "image/png": "[encoded data removed]",
      "text/plain": [
       "<Figure size 640x480 with 1 Axes>"
      ]
     },
     "metadata": {},
     "output_type": "display_data"
    }
   ],
   "source": [
    "plt.loglog(D2, label='Vanilla SCA-MF')\n",
    "plt.loglog(model.losses, label= 'Deep SCA-MF')\n",
    "plt.legend()"
   ]
  },
  {
   "cell_type": "markdown",
   "metadata": {},
   "source": [
    "__________"
   ]
  }
 ],
 "metadata": {
  "kernelspec": {
   "display_name": "Python 3",
   "language": "python",
   "name": "python3"
  },
  "language_info": {
   "codemirror_mode": {
    "name": "ipython",
    "version": 3
   },
   "file_extension": ".py",
   "mimetype": "text/x-python",
   "name": "python",
   "nbconvert_exporter": "python",
   "pygments_lexer": "ipython3",
   "version": "3.10.7"
  }
 },
 "nbformat": 4,
 "nbformat_minor": 2
}
