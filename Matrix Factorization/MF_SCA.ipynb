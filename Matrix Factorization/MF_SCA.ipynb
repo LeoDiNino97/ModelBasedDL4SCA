{
 "cells": [
  {
   "cell_type": "code",
   "execution_count": 1,
   "metadata": {},
   "outputs": [],
   "source": [
    "import numpy as np\n",
    "\n",
    "from tqdm import tqdm\n",
    "from matplotlib import pyplot as plt\n",
    "\n",
    "import torch, numpy as np\n",
    "import torch.nn.functional as F\n",
    "import torch.nn as nn\n",
    "import torch.utils.data as Data\n",
    "import matplotlib.pyplot as plt\n",
    "\n",
    "\n",
    "SEED = 4200\n",
    "torch.manual_seed(SEED)\n",
    "np.random.seed(SEED)\n",
    "\n",
    "torch.set_default_dtype(torch.float64)"
   ]
  },
  {
   "cell_type": "code",
   "execution_count": 2,
   "metadata": {},
   "outputs": [
    {
     "data": {
      "text/plain": [
       "device(type='cpu')"
      ]
     },
     "execution_count": 2,
     "metadata": {},
     "output_type": "execute_result"
    }
   ],
   "source": [
    "device = torch.device(\"cuda\" if torch.cuda.is_available() else \"cpu\")\n",
    "device"
   ]
  },
  {
   "cell_type": "markdown",
   "metadata": {},
   "source": [
    "### Matrix factorization through vanilla SCA"
   ]
  },
  {
   "cell_type": "code",
   "execution_count": 4,
   "metadata": {},
   "outputs": [],
   "source": [
    "def MF_SCA(A, L, lambda_v = 0.1, lambda_w = 0.1, eta_v = 0.9, eta_w = 0.9, max_iter = 200):\n",
    "    m = A.shape[0]\n",
    "    n = A.shape[1]\n",
    "\n",
    "    V = np.ones((m,L)) \n",
    "    W = np.ones((L,n)) \n",
    "\n",
    "    # Let's also keep the Frobenius distances between the matrix A and its reconstruction VW\n",
    "    \n",
    "    D = np.zeros(max_iter)\n",
    "    D[0] = np.linalg.norm(A - V @ W, ord = 'fro')\n",
    "    \n",
    "    for _ in tqdm(range(1, max_iter)):   \n",
    "\n",
    "        # Local optimization step\n",
    "        V_hat = A @ W.T @ np.linalg.inv(W @ W.T + lambda_v * np.eye(L))\n",
    "        W_hat = np.linalg.inv(V.T @ V + lambda_w * np.eye(L)) @ V.T @ A   \n",
    "        \n",
    "        '''\n",
    "        V_hat = (1 - lambda_v/np.max([lambda_v, np.linalg.norm(A @ np.linalg.pinv(W))])) @ A @ np.linalg.pinv(W)\n",
    "        W_hat = (1 - lambda_w/np.max([lambda_v, np.linalg.norm(np.linalg.pinv(V) @ A)])) @ np.linalg.pinv(V) @ A\n",
    "        '''\n",
    "\n",
    "        # Global smoothing step\n",
    "        V = V + eta_v * (V_hat - V)\n",
    "        W = W + eta_w * (W_hat - W)\n",
    "\n",
    "        # Decreasing stepsize\n",
    "        eta_v = eta_v * 0.99\n",
    "        eta_w = eta_w * 0.99\n",
    "\n",
    "        # Storing the reconstruction error\n",
    "        D[_] = np.linalg.norm(A - V @ W, ord = 'fro')\n",
    "\n",
    "    return (V,W), D"
   ]
  },
  {
   "cell_type": "code",
   "execution_count": 5,
   "metadata": {},
   "outputs": [
    {
     "name": "stderr",
     "output_type": "stream",
     "text": [
      "100%|██████████| 199/199 [00:09<00:00, 21.67it/s]\n"
     ]
    }
   ],
   "source": [
    "A = np.random.normal(size = (1500,2000))\n",
    "A /= np.linalg.norm(A, axis = 0)\n",
    "(V,W), D = MF_SCA(A,100)"
   ]
  },
  {
   "cell_type": "code",
   "execution_count": 6,
   "metadata": {},
   "outputs": [
    {
     "data": {
      "image/png": "[encoded data removed]",
      "text/plain": [
       "<Figure size 640x480 with 1 Axes>"
      ]
     },
     "metadata": {},
     "output_type": "display_data"
    }
   ],
   "source": [
    "plt.plot(D)\n",
    "plt.yscale('log')"
   ]
  },
  {
   "cell_type": "code",
   "execution_count": 7,
   "metadata": {},
   "outputs": [
    {
     "data": {
      "text/plain": [
       "40.10453107897018"
      ]
     },
     "execution_count": 7,
     "metadata": {},
     "output_type": "execute_result"
    }
   ],
   "source": [
    "np.linalg.norm(V @ W - A, ord='fro')"
   ]
  },
  {
   "cell_type": "markdown",
   "metadata": {},
   "source": [
    "### Neural Building Blocks design - Deep Matrix Factorization"
   ]
  },
  {
   "cell_type": "code",
   "execution_count": 8,
   "metadata": {},
   "outputs": [],
   "source": [
    "# Model for optimizing wrt V \n",
    "\n",
    "M = 400\n",
    "N = 200\n",
    "L = 15\n",
    "\n",
    "A = torch.randn(M, N)\n",
    "V = torch.randn(M, L)\n",
    "W = torch.randn(L, N)"
   ]
  },
  {
   "cell_type": "code",
   "execution_count": 9,
   "metadata": {},
   "outputs": [],
   "source": [
    "class ModuleV(nn.Module):\n",
    "    def __init__(self, M, L, N, lambda_, t = 100):\n",
    "        super().__init__()\n",
    "        self.M = M\n",
    "        self.L = L\n",
    "        self.N = N\n",
    "        \n",
    "        self.t = t\n",
    "        self.lambda_ = lambda_\n",
    "        self.reset()\n",
    "        self.optimizer = torch.optim.Adam(params=self.parameters(), lr=1, weight_decay = 3e-3)\n",
    "\n",
    "    def forward(self, W):\n",
    "        return self.V @ W\n",
    "    \n",
    "    def emit(self):\n",
    "        return self.V\n",
    "\n",
    "    def loss(self, A, W):\n",
    "        return torch.linalg.norm(A - self.forward(W), 'fro') + self.lambda_ * torch.linalg.norm(self.forward(W), 'fro')\n",
    "\n",
    "    def step(self, A, W):\n",
    "        self.optimizer.zero_grad()\n",
    "        loss_ = self.loss(A, W)\n",
    "        loss_.backward(retain_graph=True)\n",
    "        torch.nn.utils.clip_grad_norm_(self.parameters(), max_norm=1.0)\n",
    "        self.optimizer.step()\n",
    "    \n",
    "    def learn(self, A, W):\n",
    "        for _ in range(self.t):\n",
    "            self.step(A, W)\n",
    "\n",
    "    def reset(self):\n",
    "        self.V = nn.Parameter(torch.ones(self.M, self.L), requires_grad=True)\n"
   ]
  },
  {
   "cell_type": "code",
   "execution_count": 10,
   "metadata": {},
   "outputs": [],
   "source": [
    "class ModuleW(nn.Module):\n",
    "    def __init__(self, M, L, N, lambda_, t = 100):\n",
    "        super().__init__()\n",
    "        self.M = M\n",
    "        self.L = L\n",
    "        self.N = N\n",
    "        \n",
    "        self.t = t\n",
    "        self.lambda_ = lambda_\n",
    "        \n",
    "        self.reset()\n",
    "        self.optimizer = torch.optim.Adam(params=self.parameters(), lr=1, weight_decay = 3e-3)\n",
    "\n",
    "    def forward(self, V):\n",
    "        return V @ self.W\n",
    "    \n",
    "    def emit(self):\n",
    "        return self.W\n",
    "    \n",
    "    def loss(self, A, V):\n",
    "        return torch.linalg.norm(A - self.forward(V), 'fro') + self.lambda_ * torch.linalg.norm(self.forward(V), 'fro')\n",
    "    \n",
    "    def step(self, A, V):\n",
    "        self.optimizer.zero_grad()\n",
    "        loss_ = self.loss(A, V)\n",
    "        loss_.backward(retain_graph=True)\n",
    "        torch.nn.utils.clip_grad_norm_(self.parameters(), max_norm=1.0)\n",
    "        self.optimizer.step()\n",
    "    \n",
    "    def learn(self, A, V):\n",
    "        for _ in range(self.t):\n",
    "            self.step(A, V)\n",
    "    \n",
    "    def reset(self):\n",
    "        self.W = nn.Parameter(torch.ones(self.L, self.N), requires_grad=True)\n"
   ]
  },
  {
   "cell_type": "code",
   "execution_count": 11,
   "metadata": {},
   "outputs": [],
   "source": [
    "class DeepMatrixFactorization(nn.Module):\n",
    "    def __init__(self, M, L, N, lambda_ = 0.5, gamma = 0.99, T = 50, t = 100):\n",
    "\n",
    "        self.M = M\n",
    "        self.L = L\n",
    "        self.N = N\n",
    "\n",
    "        self.T = T\n",
    "        self.t = t\n",
    "\n",
    "        self.lambda_ = lambda_\n",
    "        self.gamma = gamma\n",
    "\n",
    "        self.blocks = []\n",
    "        self.gammas = []\n",
    "\n",
    "        for t in range(self.T):\n",
    "            self.blocks.append({\n",
    "                'Block V': ModuleV(self.M, self.L, self.N, self.lambda_, self.t),\n",
    "                'Block W': ModuleW(self.M, self.L, self.N, self.lambda_, self.t)\n",
    "            })\n",
    "\n",
    "            self.gammas.append(self.gamma * (0.99 ** self.t))\n",
    "        \n",
    "        self.losses = []\n",
    "\n",
    "    def inference(self, A): \n",
    "        \n",
    "        V = torch.ones(self.M, self.L) \n",
    "        W = torch.ones(self.L, self.N) \n",
    "\n",
    "        self.losses.append((torch.linalg.norm(A - V @ W, 'fro')).detach().numpy())\n",
    "        \n",
    "        for t in tqdm(range(self.T)):\n",
    "            \n",
    "            self.blocks[t]['Block V'].learn(A, W)\n",
    "            self.blocks[t]['Block W'].learn(A, V)\n",
    "\n",
    "            V = V + self.gammas[t]*(self.blocks[t]['Block V'].emit() - V)\n",
    "            W = W + self.gammas[t]*(self.blocks[t]['Block W'].emit() - W)\n",
    "\n",
    "            self.blocks[t]['Block V'].reset()\n",
    "            self.blocks[t]['Block W'].reset()\n",
    "\n",
    "            self.losses.append((torch.linalg.norm(A - V @ W, 'fro')).detach().numpy())\n",
    "        \n",
    "        return V, W\n"
   ]
  },
  {
   "cell_type": "code",
   "execution_count": 16,
   "metadata": {},
   "outputs": [],
   "source": [
    "model = DeepMatrixFactorization(M, L, N, lambda_ = 0.01)"
   ]
  },
  {
   "cell_type": "code",
   "execution_count": 17,
   "metadata": {},
   "outputs": [
    {
     "name": "stderr",
     "output_type": "stream",
     "text": [
      "100%|██████████| 50/50 [00:35<00:00,  1.39it/s]\n"
     ]
    }
   ],
   "source": [
    "V_, W_ = model.inference(A)"
   ]
  },
  {
   "cell_type": "code",
   "execution_count": 18,
   "metadata": {},
   "outputs": [
    {
     "name": "stderr",
     "output_type": "stream",
     "text": [
      "100%|██████████| 50/50 [00:00<00:00, 543.52it/s]\n"
     ]
    }
   ],
   "source": [
    "_, D2 = MF_SCA(A.detach().numpy(),L,max_iter=51)"
   ]
  },
  {
   "cell_type": "code",
   "execution_count": 19,
   "metadata": {},
   "outputs": [
    {
     "data": {
      "text/plain": [
       "<matplotlib.legend.Legend at 0x1d28da9ab60>"
      ]
     },
     "execution_count": 19,
     "metadata": {},
     "output_type": "execute_result"
    },
    {
     "data": {
      "image/png": "[encoded data removed]",
      "text/plain": [
       "<Figure size 640x480 with 1 Axes>"
      ]
     },
     "metadata": {},
     "output_type": "display_data"
    }
   ],
   "source": [
    "plt.plot(D2, label='Vanilla SCA-MF')\n",
    "plt.plot(model.losses, label= 'Deep SCA-MF')\n",
    "plt.yscale('log')\n",
    "plt.legend()"
   ]
  },
  {
   "cell_type": "markdown",
   "metadata": {},
   "source": [
    "__________"
   ]
  },
  {
   "cell_type": "markdown",
   "metadata": {},
   "source": [
    "# Redesigning unrolled matrix factorization "
   ]
  },
  {
   "cell_type": "code",
   "execution_count": 2,
   "metadata": {},
   "outputs": [],
   "source": [
    "def NNMF_SCA(A, L, lambda_v = 0.1, lambda_w = 0.1, eta_v = 0.9, eta_w = 0.9, max_iter = 200):\n",
    "    m = A.shape[0]\n",
    "    n = A.shape[1]\n",
    "\n",
    "    V = np.ones((m,L)) \n",
    "    W = np.ones((L,n)) \n",
    "\n",
    "    # Let's also keep the Frobenius distances between the matrix A and its reconstruction VW\n",
    "    \n",
    "    D = np.zeros(max_iter)\n",
    "    D[0] = np.linalg.norm(A - V @ W, ord = 'fro')\n",
    "    \n",
    "    for _ in tqdm(range(1, max_iter)):   \n",
    "\n",
    "        # Local optimization step\n",
    "        V_hat = A @ W.T @ np.linalg.inv(W @ W.T + lambda_v * np.eye(L))\n",
    "        V_hat = V_hat * (V_hat >= 0)\n",
    "\n",
    "        W_hat = np.linalg.inv(V.T @ V + lambda_w * np.eye(L)) @ V.T @ A   \n",
    "        W_hat = W_hat * (W_hat >= 0)\n",
    "        \n",
    "        '''\n",
    "        V_hat = (1 - lambda_v/np.max([lambda_v, np.linalg.norm(A @ np.linalg.pinv(W))])) @ A @ np.linalg.pinv(W)\n",
    "        W_hat = (1 - lambda_w/np.max([lambda_v, np.linalg.norm(np.linalg.pinv(V) @ A)])) @ np.linalg.pinv(V) @ A\n",
    "        '''\n",
    "\n",
    "        # Global smoothing step\n",
    "        V = V + eta_v * (V_hat - V)\n",
    "        W = W + eta_w * (W_hat - W)\n",
    "\n",
    "        # Decreasing stepsize\n",
    "        eta_v = eta_v * 0.99\n",
    "        eta_w = eta_w * 0.99\n",
    "\n",
    "        # Storing the reconstruction error\n",
    "        D[_] = np.linalg.norm(A - V @ W, ord = 'fro')\n",
    "\n",
    "    return (V,W), D"
   ]
  },
  {
   "cell_type": "code",
   "execution_count": 4,
   "metadata": {},
   "outputs": [
    {
     "name": "stderr",
     "output_type": "stream",
     "text": [
      "100%|██████████| 199/199 [00:10<00:00, 18.75it/s]\n"
     ]
    }
   ],
   "source": [
    "A = np.random.normal(size = (150,2000))\n",
    "A /= np.linalg.norm(A, axis = 0)\n",
    "(V,W), D = NNMF_SCA(A,100)"
   ]
  },
  {
   "cell_type": "code",
   "execution_count": 5,
   "metadata": {},
   "outputs": [
    {
     "data": {
      "text/plain": [
       "array([[7.43060054e-02, 8.33793770e-02, 9.43949532e-40, ...,\n",
       "        5.56026643e-44, 7.82224012e-31, 6.05779599e-41],\n",
       "       [8.28563655e-46, 5.46794299e-41, 1.46291391e-02, ...,\n",
       "        1.16418617e-02, 3.46084108e-02, 8.50891223e-43],\n",
       "       [2.45466446e-50, 6.87197300e-39, 9.88039089e-45, ...,\n",
       "        1.87653423e-03, 4.85521036e-02, 2.49842715e-02],\n",
       "       ...,\n",
       "       [7.40223440e-45, 5.56272073e-41, 1.27448578e-39, ...,\n",
       "        6.18099800e-02, 9.23763086e-41, 1.19760809e-39],\n",
       "       [1.86687061e-02, 2.85847439e-42, 2.25836603e-41, ...,\n",
       "        1.31122702e-01, 2.12062711e-45, 1.00562935e-44],\n",
       "       [4.50896250e-45, 2.81884250e-43, 5.62147543e-02, ...,\n",
       "        2.38149702e-44, 2.20721793e-44, 2.95720170e-03]])"
      ]
     },
     "execution_count": 5,
     "metadata": {},
     "output_type": "execute_result"
    }
   ],
   "source": [
    "V"
   ]
  },
  {
   "cell_type": "code",
   "execution_count": 6,
   "metadata": {},
   "outputs": [
    {
     "data": {
      "image/png": "[encoded data removed]",
      "text/plain": [
       "<Figure size 640x480 with 1 Axes>"
      ]
     },
     "metadata": {},
     "output_type": "display_data"
    }
   ],
   "source": [
    "plt.plot(D)\n",
    "plt.yscale('log')"
   ]
  },
  {
   "cell_type": "code",
   "execution_count": 3,
   "metadata": {},
   "outputs": [],
   "source": [
    "class DNMF(nn.Module):\n",
    "    def __init__(self, M, N, L, T = 10, gamma = 0.99):\n",
    "        super(DNMF, self).__init__()\n",
    "\n",
    "        # Matrix dimensions and latent factors\n",
    "        self.M = M\n",
    "        self.N = N\n",
    "        self.L = L\n",
    "\n",
    "        # Number of iterations\n",
    "        self.T = T\n",
    "\n",
    "        # Learnable parameters\n",
    "        '''\n",
    "        self.hV = nn.Parameter(torch.randn(L),requires_grad=True)\n",
    "        self.hW = nn.Parameter(torch.randn(L),requires_grad=True)\n",
    "        '''\n",
    "        \n",
    "        self.tauV = nn.Parameter(torch.ones(1),requires_grad=True)\n",
    "        self.tauW = nn.Parameter(torch.ones(1),requires_grad=True)\n",
    "\n",
    "        # Coefficient for convex combination\n",
    "        self.gamma = gamma\n",
    "\n",
    "        # Loss tracker\n",
    "        self.loss = []\n",
    "        \n",
    "    def forward(self, A, loss_track = False):\n",
    "\n",
    "        # Initialize V and W with the batch size in the first dimension\n",
    "        V = torch.ones(A.shape[0], self.M, self.L)\n",
    "        W = torch.ones(A.shape[0], self.L, self.N)\n",
    "\n",
    "        for _ in range(self.T):\n",
    "\n",
    "            # Compute V and W using batched matrix multiplication\n",
    "            V = self.gamma * V + (1 - self.gamma) * nn.functional.relu(A @ W.transpose(1, 2) / self.tauV)\n",
    "            W = self.gamma * W + (1 - self.gamma) * nn.functional.relu(V.transpose(1, 2) @ A / self.tauW)\n",
    "\n",
    "            # Update gamma\n",
    "            self.gamma *= 0.99\n",
    "\n",
    "            if loss_track:\n",
    "                self.loss.append(torch.norm(A - torch.bmm(V, W), p='fro')/A.shape[0])\n",
    "\n",
    "        return V, W\n",
    "    \n",
    "    '''\n",
    "    def forward(self, A):\n",
    "\n",
    "        # Initialize V and W with the batch size in the first dimension\n",
    "        V = torch.ones(A.shape[0], self.M, self.L)\n",
    "        W = torch.ones(A.shape[0], self.L, self.N)\n",
    "\n",
    "        for _ in range(self.T):\n",
    "            \n",
    "            HV = torch.outer(self.hV, self.hV) + self.tauV * torch.eye(self.L)\n",
    "            HW = torch.outer(self.hW, self.hW) + self.tauW * torch.eye(self.L)\n",
    "\n",
    "            # Compute V and W using batched matrix multiplication\n",
    "            V = (1 - self.gamma) * V + self.gamma * nn.functional.relu((A @ W.transpose(1, 2) @ HV[None, :, :]))\n",
    "            W = (1 - self.gamma) * W + self.gamma * nn.functional.relu((HW[None, :, :] @ V.transpose(1, 2) @ A))\n",
    "\n",
    "            # Update gamma\n",
    "            self.gamma *= 0.99\n",
    "\n",
    "        return V, W\n",
    "    '''"
   ]
  },
  {
   "cell_type": "code",
   "execution_count": 4,
   "metadata": {},
   "outputs": [],
   "source": [
    "class MatrixDataset():\n",
    "    def __init__(self, M, N, size = 1000, batch_size = 256):\n",
    "        \n",
    "        self.M = M          # Number of samples in the original signal\n",
    "        self.N = N          # Number of samples through the linear transformation\n",
    "\n",
    "        self.size = size    # Size of the dataset\n",
    "        self.batch_size = batch_size\n",
    "\n",
    "        # Preallocation\n",
    "        self.A = torch.zeros(self.size,self.M,self.N)\n",
    "\n",
    "        # Generating the dataset\n",
    "        self.set_data()\n",
    "\n",
    "\n",
    "    def set_matrix(self, i):\n",
    "\n",
    "        # Generating random sparsity in the canonic basis of the original signal\n",
    "        A = torch.randn(self.M, self.N)\n",
    "        A /= torch.linalg.norm(A, axis = 0)\n",
    "        self.A[i,:,:] = A\n",
    "\n",
    "\n",
    "    def set_data(self):\n",
    "        for i in range(self.size):\n",
    "            self.set_matrix(i)\n",
    "    \n",
    "    \n",
    "    def set_loader(self):\n",
    "        return Data.DataLoader(dataset = Data.TensorDataset(self.A),\n",
    "                               batch_size = self.batch_size,\n",
    "                               shuffle = True)"
   ]
  },
  {
   "cell_type": "code",
   "execution_count": 19,
   "metadata": {},
   "outputs": [],
   "source": [
    "# Dimensions for the matrices\n",
    "m_ = 150\n",
    "n_ = 200\n",
    "\n",
    "# Building a training set and a test set \n",
    "train_set = MatrixDataset(m_, n_, size = 800).set_loader()\n",
    "test_set = MatrixDataset(m_, n_, size = 200).set_loader()"
   ]
  },
  {
   "cell_type": "code",
   "execution_count": 20,
   "metadata": {},
   "outputs": [],
   "source": [
    "def train(model, train_loader, valid_loader, num_epochs=50):\n",
    "\n",
    "    # Initialization\n",
    "    optimizer = torch.optim.SGD(\n",
    "        model.parameters(),\n",
    "        lr=5e-01,\n",
    "        momentum=0.9,\n",
    "        weight_decay=0,\n",
    "    )\n",
    "    scheduler = torch.optim.lr_scheduler.StepLR(\n",
    "        optimizer, step_size=50, gamma=0.1\n",
    "    )\n",
    "\n",
    "    loss_train = np.zeros((num_epochs,))\n",
    "    loss_test = np.zeros((num_epochs,))\n",
    "    # Main loop\n",
    "\n",
    "    for epoch in range(num_epochs):\n",
    "        model.train()\n",
    "        train_loss = 0\n",
    "        for A in enumerate(train_loader):\n",
    "            V, W = model.forward(A[1][0])\n",
    "            loss = F.mse_loss(torch.bmm(V,W), A[1][0], reduction=\"sum\")\n",
    "            optimizer.zero_grad()\n",
    "            loss.backward()\n",
    "            torch.nn.utils.clip_grad_norm_(model.parameters(), max_norm=1.0)\n",
    "\n",
    "            optimizer.step()\n",
    "            model.zero_grad()\n",
    "            train_loss += loss.data.item()\n",
    "        loss_train[epoch] = train_loss / len(train_loader.dataset)\n",
    "        scheduler.step()\n",
    "\n",
    "        # validation\n",
    "        model.eval()\n",
    "        test_loss = 0\n",
    "        for A in enumerate(valid_loader):\n",
    "            V, W = model.forward(A[1][0])\n",
    "            test_loss += F.mse_loss(torch.bmm(V,W), A[1][0], reduction=\"sum\").data.item()\n",
    "        loss_test[epoch] = test_loss / len(valid_loader.dataset)\n",
    "        \n",
    "        # Print\n",
    "        if epoch % 10 == 0:\n",
    "            print(\n",
    "                \"Epoch %d, Train loss %.8f, Validation loss %.8f\"\n",
    "                % (epoch, loss_train[epoch], loss_test[epoch])\n",
    "            )\n",
    "\n",
    "    return loss_test"
   ]
  },
  {
   "cell_type": "code",
   "execution_count": 21,
   "metadata": {},
   "outputs": [],
   "source": [
    "model = DNMF(m_, n_, 20)"
   ]
  },
  {
   "cell_type": "code",
   "execution_count": 22,
   "metadata": {},
   "outputs": [
    {
     "data": {
      "text/plain": [
       "0.99"
      ]
     },
     "execution_count": 22,
     "metadata": {},
     "output_type": "execute_result"
    }
   ],
   "source": [
    "model.gamma"
   ]
  },
  {
   "cell_type": "code",
   "execution_count": 25,
   "metadata": {},
   "outputs": [
    {
     "data": {
      "text/plain": [
       "[Parameter containing:\n",
       " tensor([3.2337], requires_grad=True),\n",
       " Parameter containing:\n",
       " tensor([3.1751], requires_grad=True)]"
      ]
     },
     "execution_count": 25,
     "metadata": {},
     "output_type": "execute_result"
    }
   ],
   "source": [
    "[p for p in list(model.parameters()) if p.is_leaf]"
   ]
  },
  {
   "cell_type": "code",
   "execution_count": 24,
   "metadata": {},
   "outputs": [
    {
     "name": "stdout",
     "output_type": "stream",
     "text": [
      "Epoch 0, Train loss 2029617.68691733, Validation loss 200.55454620\n",
      "Epoch 10, Train loss 200.00000000, Validation loss 200.00000000\n",
      "Epoch 20, Train loss 200.00000000, Validation loss 200.00000000\n",
      "Epoch 30, Train loss 200.00000000, Validation loss 200.00000000\n",
      "Epoch 40, Train loss 200.00000000, Validation loss 200.00000000\n"
     ]
    },
    {
     "data": {
      "text/plain": [
       "array([200.5545462 , 199.99759631, 199.99998781, 199.99999974,\n",
       "       199.99999998, 200.        , 200.        , 200.        ,\n",
       "       200.        , 200.        , 200.        , 200.        ,\n",
       "       200.        , 200.        , 200.        , 200.        ,\n",
       "       200.        , 200.        , 200.        , 200.        ,\n",
       "       200.        , 200.        , 200.        , 200.        ,\n",
       "       200.        , 200.        , 200.        , 200.        ,\n",
       "       200.        , 200.        , 200.        , 200.        ,\n",
       "       200.        , 200.        , 200.        , 200.        ,\n",
       "       200.        , 200.        , 200.        , 200.        ,\n",
       "       200.        , 200.        , 200.        , 200.        ,\n",
       "       200.        , 200.        , 200.        , 200.        ,\n",
       "       200.        , 200.        ])"
      ]
     },
     "execution_count": 24,
     "metadata": {},
     "output_type": "execute_result"
    }
   ],
   "source": [
    "train(model, train_set, test_set)"
   ]
  },
  {
   "cell_type": "code",
   "execution_count": 26,
   "metadata": {},
   "outputs": [],
   "source": [
    "import torch.nn.functional as F\n",
    "\n",
    "def NNMF_SCA_BATCH(A, L, lambda_v=0.1, lambda_w=0.1, eta_v=0.9, eta_w=0.9, max_iter=40):\n",
    "    device = A.device  # Ensure operations are performed on the same device as input\n",
    "    batch_size, m, n = A.shape\n",
    "\n",
    "    V = torch.ones((batch_size, m, L), device=device)\n",
    "    W = torch.ones((batch_size, L, n), device=device)\n",
    "\n",
    "    # Frobenius distances for each iteration\n",
    "    D = torch.zeros(max_iter, device=device)\n",
    "    D[0] = torch.norm(A - torch.bmm(V, W), p='fro')\n",
    "\n",
    "    for it in tqdm(range(1, max_iter)):\n",
    "        # Local optimization step\n",
    "        WWT_inv = torch.linalg.inv(torch.bmm(W, W.transpose(1, 2)) + lambda_v * torch.eye(L, device=device).unsqueeze(0))\n",
    "        V_hat = torch.bmm(torch.bmm(A, W.transpose(1, 2)), WWT_inv)\n",
    "        V_hat = torch.relu(V_hat)  # Ensure non-negativity\n",
    "\n",
    "        VTV_inv = torch.linalg.inv(torch.bmm(V.transpose(1, 2), V) + lambda_w * torch.eye(L, device=device).unsqueeze(0))\n",
    "        W_hat = torch.bmm(VTV_inv, torch.bmm(V.transpose(1, 2), A))\n",
    "        W_hat = torch.relu(W_hat)  # Ensure non-negativity\n",
    "\n",
    "        # Global smoothing step\n",
    "        V = V + eta_v * (V_hat - V)\n",
    "        W = W + eta_w * (W_hat - W)\n",
    "\n",
    "        # Decreasing stepsize\n",
    "        eta_v *= 0.99\n",
    "        eta_w *= 0.99\n",
    "\n",
    "        # Storing the reconstruction error\n",
    "        D[it] = torch.norm(A - torch.bmm(V, W), p='fro')/A.shape[0]\n",
    "\n",
    "    return (V, W), D"
   ]
  },
  {
   "cell_type": "code",
   "execution_count": 27,
   "metadata": {},
   "outputs": [],
   "source": [
    "model.gamma = 0.99 "
   ]
  },
  {
   "cell_type": "code",
   "execution_count": 28,
   "metadata": {},
   "outputs": [
    {
     "name": "stderr",
     "output_type": "stream",
     "text": [
      "100%|██████████| 39/39 [00:01<00:00, 20.64it/s]\n"
     ]
    }
   ],
   "source": [
    "A = torch.randn(256, 150, 200) \n",
    "(V, W), D = NNMF_SCA_BATCH(A, L=20)\n",
    "\n",
    "V,W = model.forward(A, True)"
   ]
  },
  {
   "cell_type": "code",
   "execution_count": 29,
   "metadata": {},
   "outputs": [
    {
     "data": {
      "text/plain": [
       "tensor([5.5495e+04, 1.1048e+01, 1.0815e+01, 1.0923e+01, 1.0786e+01, 1.0792e+01,\n",
       "        1.0773e+01, 1.0900e+01, 7.6325e+01, 1.1324e+01, 1.8210e+01, 1.1105e+01,\n",
       "        1.3077e+01, 1.1107e+01, 1.1749e+01, 1.1169e+01, 1.1351e+01, 1.1175e+01,\n",
       "        1.1209e+01, 1.1151e+01, 1.1147e+01, 1.1123e+01, 1.1112e+01, 1.1098e+01,\n",
       "        1.1087e+01, 1.1076e+01, 1.1067e+01, 1.1059e+01, 1.1051e+01, 1.1045e+01,\n",
       "        1.1038e+01, 1.1032e+01, 1.1027e+01, 1.1022e+01, 1.1017e+01, 1.1013e+01,\n",
       "        1.1008e+01, 1.1004e+01, 1.1001e+01, 1.0997e+01])"
      ]
     },
     "execution_count": 29,
     "metadata": {},
     "output_type": "execute_result"
    }
   ],
   "source": [
    "D"
   ]
  },
  {
   "cell_type": "code",
   "execution_count": 30,
   "metadata": {},
   "outputs": [
    {
     "data": {
      "text/plain": [
       "[<matplotlib.lines.Line2D at 0x139e63acd90>]"
      ]
     },
     "execution_count": 30,
     "metadata": {},
     "output_type": "execute_result"
    },
    {
     "data": {
      "image/png": "[encoded data removed]",
      "text/plain": [
       "<Figure size 640x480 with 1 Axes>"
      ]
     },
     "metadata": {},
     "output_type": "display_data"
    }
   ],
   "source": [
    "plt.plot(D[1:])"
   ]
  },
  {
   "cell_type": "code",
   "execution_count": 31,
   "metadata": {},
   "outputs": [
    {
     "data": {
      "text/plain": [
       "[tensor(219.7284, grad_fn=<DivBackward0>),\n",
       " tensor(227.1172, grad_fn=<DivBackward0>),\n",
       " tensor(242.4082, grad_fn=<DivBackward0>),\n",
       " tensor(272.3513, grad_fn=<DivBackward0>),\n",
       " tensor(330.2046, grad_fn=<DivBackward0>),\n",
       " tensor(443.6855, grad_fn=<DivBackward0>),\n",
       " tensor(675.4628, grad_fn=<DivBackward0>),\n",
       " tensor(1179.6810, grad_fn=<DivBackward0>),\n",
       " tensor(2368.1953, grad_fn=<DivBackward0>),\n",
       " tensor(5437.2598, grad_fn=<DivBackward0>)]"
      ]
     },
     "execution_count": 31,
     "metadata": {},
     "output_type": "execute_result"
    }
   ],
   "source": [
    "model.loss"
   ]
  },
  {
   "cell_type": "code",
   "execution_count": 16,
   "metadata": {},
   "outputs": [
    {
     "data": {
      "text/plain": [
       "[<matplotlib.lines.Line2D at 0x139e319e7a0>]"
      ]
     },
     "execution_count": 16,
     "metadata": {},
     "output_type": "execute_result"
    },
    {
     "data": {
      "image/png": "[encoded data removed]",
      "text/plain": [
       "<Figure size 640x480 with 1 Axes>"
      ]
     },
     "metadata": {},
     "output_type": "display_data"
    }
   ],
   "source": [
    "plt.plot([L.detach().numpy() for L in model.loss])"
   ]
  },
  {
   "cell_type": "code",
   "execution_count": null,
   "metadata": {},
   "outputs": [],
   "source": []
  }
 ],
 "metadata": {
  "kernelspec": {
   "display_name": "Python 3",
   "language": "python",
   "name": "python3"
  },
  "language_info": {
   "codemirror_mode": {
    "name": "ipython",
    "version": 3
   },
   "file_extension": ".py",
   "mimetype": "text/x-python",
   "name": "python",
   "nbconvert_exporter": "python",
   "pygments_lexer": "ipython3",
   "version": "3.10.7"
  }
 },
 "nbformat": 4,
 "nbformat_minor": 2
}
