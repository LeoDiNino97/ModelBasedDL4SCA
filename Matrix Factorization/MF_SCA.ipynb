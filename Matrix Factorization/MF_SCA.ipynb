{
 "cells": [
  {
   "cell_type": "code",
   "execution_count": 1,
   "metadata": {},
   "outputs": [],
   "source": [
    "import numpy as np\n",
    "\n",
    "from tqdm import tqdm\n",
    "from matplotlib import pyplot as plt\n",
    "\n",
    "import torch, numpy as np\n",
    "import torch.nn.functional as F\n",
    "import torch.nn as nn\n",
    "import torch.utils.data as Data\n",
    "import matplotlib.pyplot as plt\n",
    "\n",
    "\n",
    "SEED = 4200\n",
    "torch.manual_seed(SEED)\n",
    "np.random.seed(SEED)\n",
    "\n",
    "torch.set_default_dtype(torch.float64)"
   ]
  },
  {
   "cell_type": "code",
   "execution_count": 2,
   "metadata": {},
   "outputs": [
    {
     "data": {
      "text/plain": [
       "device(type='cpu')"
      ]
     },
     "execution_count": 2,
     "metadata": {},
     "output_type": "execute_result"
    }
   ],
   "source": [
    "device = torch.device(\"cuda\" if torch.cuda.is_available() else \"cpu\")\n",
    "device"
   ]
  },
  {
   "cell_type": "markdown",
   "metadata": {},
   "source": [
    "### Matrix factorization through vanilla SCA"
   ]
  },
  {
   "cell_type": "code",
   "execution_count": 3,
   "metadata": {},
   "outputs": [],
   "source": [
    "def MF_SCA(A, L, lambda_v = 0.1, lambda_w = 0.1, eta_v = 0.9, eta_w = 0.9, max_iter = 200):\n",
    "    m = A.shape[0]\n",
    "    n = A.shape[1]\n",
    "\n",
    "    V = np.ones((m,L)) \n",
    "    W = np.ones((L,n)) \n",
    "\n",
    "    # Let's also keep the Frobenius distances between the matrix A and its reconstruction VW\n",
    "    \n",
    "    D = np.zeros(max_iter)\n",
    "    D[0] = np.linalg.norm(A - V @ W, ord = 'fro')\n",
    "    \n",
    "    for _ in tqdm(range(1, max_iter)):   \n",
    "\n",
    "        # Local optimization step\n",
    "        V_hat = A @ W.T @ np.linalg.inv(W @ W.T + lambda_v * np.eye(L))\n",
    "        W_hat = np.linalg.inv(V.T @ V + lambda_w * np.eye(L)) @ V.T @ A   \n",
    "        \n",
    "        '''\n",
    "        V_hat = (1 - lambda_v/np.max([lambda_v, np.linalg.norm(A @ np.linalg.pinv(W))])) @ A @ np.linalg.pinv(W)\n",
    "        W_hat = (1 - lambda_w/np.max([lambda_v, np.linalg.norm(np.linalg.pinv(V) @ A)])) @ np.linalg.pinv(V) @ A\n",
    "        '''\n",
    "\n",
    "        # Global smoothing step\n",
    "        V = V + eta_v * (V_hat - V)\n",
    "        W = W + eta_w * (W_hat - W)\n",
    "\n",
    "        # Decreasing stepsize\n",
    "        eta_v = eta_v * 0.99\n",
    "        eta_w = eta_w * 0.99\n",
    "\n",
    "        # Storing the reconstruction error\n",
    "        D[_] = np.linalg.norm(A - V @ W, ord = 'fro')\n",
    "\n",
    "    return (V,W), D"
   ]
  },
  {
   "cell_type": "code",
   "execution_count": 4,
   "metadata": {},
   "outputs": [
    {
     "name": "stderr",
     "output_type": "stream",
     "text": [
      "100%|██████████| 199/199 [00:09<00:00, 20.51it/s]\n"
     ]
    }
   ],
   "source": [
    "A = np.random.normal(size = (1500,2000))\n",
    "A /= np.linalg.norm(A, axis = 0)\n",
    "A = A * (A >= 0)\n",
    "(V,W), D = MF_SCA(A,100)"
   ]
  },
  {
   "cell_type": "code",
   "execution_count": 5,
   "metadata": {},
   "outputs": [
    {
     "data": {
      "image/png": "[encoded data removed]",
      "text/plain": [
       "<Figure size 640x480 with 1 Axes>"
      ]
     },
     "metadata": {},
     "output_type": "display_data"
    }
   ],
   "source": [
    "plt.plot(D)\n",
    "plt.yscale('log')"
   ]
  },
  {
   "cell_type": "code",
   "execution_count": 6,
   "metadata": {},
   "outputs": [
    {
     "data": {
      "text/plain": [
       "23.434543521304654"
      ]
     },
     "execution_count": 6,
     "metadata": {},
     "output_type": "execute_result"
    }
   ],
   "source": [
    "np.linalg.norm(V @ W - A, ord='fro')"
   ]
  },
  {
   "cell_type": "markdown",
   "metadata": {},
   "source": [
    "### Neural Building Blocks design - Deep Matrix Factorization"
   ]
  },
  {
   "cell_type": "code",
   "execution_count": 7,
   "metadata": {},
   "outputs": [],
   "source": [
    "# Model for optimizing wrt V \n",
    "\n",
    "M = 400\n",
    "N = 200\n",
    "L = 15\n",
    "\n",
    "A = torch.randn(M, N)\n",
    "V = torch.randn(M, L)\n",
    "W = torch.randn(L, N)"
   ]
  },
  {
   "cell_type": "code",
   "execution_count": 9,
   "metadata": {},
   "outputs": [],
   "source": [
    "class ModuleV(nn.Module):\n",
    "    def __init__(self, M, L, N, lambda_, t = 100):\n",
    "        super().__init__()\n",
    "        self.M = M\n",
    "        self.L = L\n",
    "        self.N = N\n",
    "        \n",
    "        self.t = t\n",
    "        self.lambda_ = lambda_\n",
    "        self.reset()\n",
    "        self.optimizer = torch.optim.Adam(params=self.parameters(), lr=1, weight_decay = 3e-3)\n",
    "\n",
    "    def forward(self, W):\n",
    "        return self.V @ W\n",
    "    \n",
    "    def emit(self):\n",
    "        return self.V\n",
    "\n",
    "    def loss(self, A, W):\n",
    "        return torch.linalg.norm(A - self.forward(W), 'fro') + self.lambda_ * torch.linalg.norm(self.forward(W), 'fro')\n",
    "\n",
    "    def step(self, A, W):\n",
    "        self.optimizer.zero_grad()\n",
    "        loss_ = self.loss(A, W)\n",
    "        loss_.backward(retain_graph=True)\n",
    "        torch.nn.utils.clip_grad_norm_(self.parameters(), max_norm=1.0)\n",
    "        self.optimizer.step()\n",
    "    \n",
    "    def learn(self, A, W):\n",
    "        for _ in range(self.t):\n",
    "            self.step(A, W)\n",
    "\n",
    "    def reset(self):\n",
    "        self.V = nn.Parameter(torch.ones(self.M, self.L), requires_grad=True)\n"
   ]
  },
  {
   "cell_type": "code",
   "execution_count": 10,
   "metadata": {},
   "outputs": [],
   "source": [
    "class ModuleW(nn.Module):\n",
    "    def __init__(self, M, L, N, lambda_, t = 100):\n",
    "        super().__init__()\n",
    "        self.M = M\n",
    "        self.L = L\n",
    "        self.N = N\n",
    "        \n",
    "        self.t = t\n",
    "        self.lambda_ = lambda_\n",
    "        \n",
    "        self.reset()\n",
    "        self.optimizer = torch.optim.Adam(params=self.parameters(), lr=1, weight_decay = 3e-3)\n",
    "\n",
    "    def forward(self, V):\n",
    "        return V @ self.W\n",
    "    \n",
    "    def emit(self):\n",
    "        return self.W\n",
    "    \n",
    "    def loss(self, A, V):\n",
    "        return torch.linalg.norm(A - self.forward(V), 'fro') + self.lambda_ * torch.linalg.norm(self.forward(V), 'fro')\n",
    "    \n",
    "    def step(self, A, V):\n",
    "        self.optimizer.zero_grad()\n",
    "        loss_ = self.loss(A, V)\n",
    "        loss_.backward(retain_graph=True)\n",
    "        torch.nn.utils.clip_grad_norm_(self.parameters(), max_norm=1.0)\n",
    "        self.optimizer.step()\n",
    "    \n",
    "    def learn(self, A, V):\n",
    "        for _ in range(self.t):\n",
    "            self.step(A, V)\n",
    "    \n",
    "    def reset(self):\n",
    "        self.W = nn.Parameter(torch.ones(self.L, self.N), requires_grad=True)\n"
   ]
  },
  {
   "cell_type": "code",
   "execution_count": 11,
   "metadata": {},
   "outputs": [],
   "source": [
    "class DeepMatrixFactorization(nn.Module):\n",
    "    def __init__(self, M, L, N, lambda_ = 0.5, gamma = 0.99, T = 50, t = 100):\n",
    "\n",
    "        self.M = M\n",
    "        self.L = L\n",
    "        self.N = N\n",
    "\n",
    "        self.T = T\n",
    "        self.t = t\n",
    "\n",
    "        self.lambda_ = lambda_\n",
    "        self.gamma = gamma\n",
    "\n",
    "        self.blocks = []\n",
    "        self.gammas = []\n",
    "\n",
    "        for t in range(self.T):\n",
    "            self.blocks.append({\n",
    "                'Block V': ModuleV(self.M, self.L, self.N, self.lambda_, self.t),\n",
    "                'Block W': ModuleW(self.M, self.L, self.N, self.lambda_, self.t)\n",
    "            })\n",
    "\n",
    "            self.gammas.append(self.gamma * (0.99 ** self.t))\n",
    "        \n",
    "        self.losses = []\n",
    "\n",
    "    def inference(self, A): \n",
    "        \n",
    "        V = torch.ones(self.M, self.L) \n",
    "        W = torch.ones(self.L, self.N) \n",
    "\n",
    "        self.losses.append((torch.linalg.norm(A - V @ W, 'fro')).detach().numpy())\n",
    "        \n",
    "        for t in tqdm(range(self.T)):\n",
    "            \n",
    "            self.blocks[t]['Block V'].learn(A, W)\n",
    "            self.blocks[t]['Block W'].learn(A, V)\n",
    "\n",
    "            V = V + self.gammas[t]*(self.blocks[t]['Block V'].emit() - V)\n",
    "            W = W + self.gammas[t]*(self.blocks[t]['Block W'].emit() - W)\n",
    "\n",
    "            self.blocks[t]['Block V'].reset()\n",
    "            self.blocks[t]['Block W'].reset()\n",
    "\n",
    "            self.losses.append((torch.linalg.norm(A - V @ W, 'fro')).detach().numpy())\n",
    "        \n",
    "        return V, W\n"
   ]
  },
  {
   "cell_type": "code",
   "execution_count": 16,
   "metadata": {},
   "outputs": [],
   "source": [
    "model = DeepMatrixFactorization(M, L, N, lambda_ = 0.01)"
   ]
  },
  {
   "cell_type": "code",
   "execution_count": 17,
   "metadata": {},
   "outputs": [
    {
     "name": "stderr",
     "output_type": "stream",
     "text": [
      "100%|██████████| 50/50 [00:35<00:00,  1.39it/s]\n"
     ]
    }
   ],
   "source": [
    "V_, W_ = model.inference(A)"
   ]
  },
  {
   "cell_type": "code",
   "execution_count": 18,
   "metadata": {},
   "outputs": [
    {
     "name": "stderr",
     "output_type": "stream",
     "text": [
      "100%|██████████| 50/50 [00:00<00:00, 543.52it/s]\n"
     ]
    }
   ],
   "source": [
    "_, D2 = MF_SCA(A.detach().numpy(),L,max_iter=51)"
   ]
  },
  {
   "cell_type": "code",
   "execution_count": 19,
   "metadata": {},
   "outputs": [
    {
     "data": {
      "text/plain": [
       "<matplotlib.legend.Legend at 0x1d28da9ab60>"
      ]
     },
     "execution_count": 19,
     "metadata": {},
     "output_type": "execute_result"
    },
    {
     "data": {
      "image/png": "[encoded data removed]",
      "text/plain": [
       "<Figure size 640x480 with 1 Axes>"
      ]
     },
     "metadata": {},
     "output_type": "display_data"
    }
   ],
   "source": [
    "plt.plot(D2, label='Vanilla SCA-MF')\n",
    "plt.plot(model.losses, label= 'Deep SCA-MF')\n",
    "plt.yscale('log')\n",
    "plt.legend()"
   ]
  },
  {
   "cell_type": "markdown",
   "metadata": {},
   "source": [
    "__________"
   ]
  },
  {
   "cell_type": "markdown",
   "metadata": {},
   "source": [
    "# Redesigning unrolled matrix factorization "
   ]
  },
  {
   "cell_type": "code",
   "execution_count": 3,
   "metadata": {},
   "outputs": [],
   "source": [
    "def NNMF_SCA(A, L, lambda_v = 0.1, lambda_w = 0.1, eta_v = 0.9, eta_w = 0.9, max_iter = 200):\n",
    "    m = A.shape[0]\n",
    "    n = A.shape[1]\n",
    "\n",
    "    V = np.ones((m,L)) \n",
    "    W = np.ones((L,n)) \n",
    "\n",
    "    # Let's also keep the Frobenius distances between the matrix A and its reconstruction VW\n",
    "    \n",
    "    D = np.zeros(max_iter)\n",
    "    D[0] = np.linalg.norm(A - V @ W, ord = 'fro')\n",
    "    \n",
    "    for _ in tqdm(range(1, max_iter)):   \n",
    "\n",
    "        # Local optimization step\n",
    "        V_hat = A @ W.T @ np.linalg.inv(W @ W.T + lambda_v * np.eye(L))\n",
    "        V_hat = V_hat * (V_hat >= 0)\n",
    "\n",
    "        W_hat = np.linalg.inv(V.T @ V + lambda_w * np.eye(L)) @ V.T @ A   \n",
    "        W_hat = W_hat * (W_hat >= 0)\n",
    "        \n",
    "        '''\n",
    "        V_hat = (1 - lambda_v/np.max([lambda_v, np.linalg.norm(A @ np.linalg.pinv(W))])) @ A @ np.linalg.pinv(W)\n",
    "        W_hat = (1 - lambda_w/np.max([lambda_v, np.linalg.norm(np.linalg.pinv(V) @ A)])) @ np.linalg.pinv(V) @ A\n",
    "        '''\n",
    "\n",
    "        # Global smoothing step\n",
    "        V = V + eta_v * (V_hat - V)\n",
    "        W = W + eta_w * (W_hat - W)\n",
    "\n",
    "        # Decreasing stepsize\n",
    "        eta_v = eta_v * 0.99\n",
    "        eta_w = eta_w * 0.99\n",
    "\n",
    "        # Storing the reconstruction error\n",
    "        D[_] = np.linalg.norm(A - V @ W, ord = 'fro')\n",
    "\n",
    "    return (V,W), D"
   ]
  },
  {
   "cell_type": "code",
   "execution_count": 4,
   "metadata": {},
   "outputs": [
    {
     "name": "stderr",
     "output_type": "stream",
     "text": [
      "  0%|          | 0/199 [00:00<?, ?it/s]"
     ]
    },
    {
     "name": "stderr",
     "output_type": "stream",
     "text": [
      "100%|██████████| 199/199 [00:03<00:00, 66.21it/s]\n"
     ]
    }
   ],
   "source": [
    "A = np.random.normal(size = (150,2000))\n",
    "A /= np.linalg.norm(A, axis = 0)\n",
    "A = A * (A >= 0)\n",
    "\n",
    "(V,W), D = NNMF_SCA(A,100)"
   ]
  },
  {
   "cell_type": "code",
   "execution_count": 5,
   "metadata": {},
   "outputs": [
    {
     "data": {
      "text/plain": [
       "array([[2.10044670e-41, 2.42670326e-45, 2.09707772e-01, ...,\n",
       "        6.06801852e-02, 2.78355638e-42, 1.54863710e-01],\n",
       "       [1.34188241e-45, 1.00029170e-43, 3.24957903e-02, ...,\n",
       "        6.90706650e-45, 2.44986752e-41, 5.93016532e-20],\n",
       "       [2.45070647e-02, 7.25565818e-09, 4.77358017e-03, ...,\n",
       "        2.59388290e-02, 1.64561092e-03, 9.17343208e-16],\n",
       "       ...,\n",
       "       [1.17604685e-30, 4.37862914e-03, 3.65455322e-45, ...,\n",
       "        1.43213860e-01, 2.52031297e-18, 4.78104838e-02],\n",
       "       [1.53146064e-02, 4.61426777e-02, 3.35447428e-15, ...,\n",
       "        8.96510506e-04, 1.96226859e-02, 2.45675020e-02],\n",
       "       [1.11049592e-02, 1.06251188e-02, 1.59424640e-02, ...,\n",
       "        7.25606990e-06, 2.01114402e-02, 7.84704872e-04]])"
      ]
     },
     "execution_count": 5,
     "metadata": {},
     "output_type": "execute_result"
    }
   ],
   "source": [
    "V"
   ]
  },
  {
   "cell_type": "code",
   "execution_count": 6,
   "metadata": {},
   "outputs": [
    {
     "data": {
      "image/png": "[encoded data removed]",
      "text/plain": [
       "<Figure size 640x480 with 1 Axes>"
      ]
     },
     "metadata": {},
     "output_type": "display_data"
    }
   ],
   "source": [
    "plt.plot(D)\n",
    "plt.yscale('log')"
   ]
  },
  {
   "cell_type": "code",
   "execution_count": 99,
   "metadata": {},
   "outputs": [],
   "source": [
    "class DNMF(nn.Module):\n",
    "    def __init__(self, M, N, L, T = 10, gamma = 0.99):\n",
    "        super(DNMF, self).__init__()\n",
    "\n",
    "        # Matrix dimensions and latent factors\n",
    "        self.M = M\n",
    "        self.N = N\n",
    "        self.L = L\n",
    "\n",
    "        # Number of iterations\n",
    "        self.T = T\n",
    "\n",
    "        # Learnable parameters\n",
    "        \n",
    "        self.hV = nn.Parameter(torch.randn(L),requires_grad=True)\n",
    "        self.hW = nn.Parameter(torch.randn(L),requires_grad=True)\n",
    "        \n",
    "        self.tauV = nn.Parameter(torch.ones(1),requires_grad=True)\n",
    "        self.tauW = nn.Parameter(torch.ones(1),requires_grad=True)\n",
    "\n",
    "        # Coefficient for convex combination\n",
    "        self.gamma = gamma\n",
    "\n",
    "        # Loss tracker\n",
    "        self.loss = []\n",
    "        \n",
    "    def forward(self, A, loss_track = False):\n",
    "\n",
    "        # Initialize V and W with the batch size in the first dimension\n",
    "        V = torch.ones(A.shape[0], self.M, self.L)\n",
    "        W = torch.ones(A.shape[0], self.L, self.N)\n",
    "\n",
    "        for _ in range(self.T):\n",
    "\n",
    "            # Compute V and W using batched matrix multiplication\n",
    "\n",
    "            HV = torch.outer(self.hV, self.hV) + self.tauV ** 2 * torch.eye(self.L)\n",
    "            HW = torch.outer(self.hW, self.hW) + self.tauW ** 2 * torch.eye(self.L)\n",
    "\n",
    "            # Compute V and W using batched matrix multiplication\n",
    "            V = (1 - self.gamma) * V + self.gamma * nn.functional.relu((A @ W.transpose(1, 2) @ HV[None, :, :]))\n",
    "            W = (1 - self.gamma) * W + self.gamma * nn.functional.relu((HW[None, :, :] @ V.transpose(1, 2) @ A))\n",
    "\n",
    "            # Update gamma\n",
    "            self.gamma *= 0.99\n",
    "\n",
    "            if loss_track:\n",
    "                self.loss.append(torch.norm(A - torch.bmm(V, W), p='fro')/A.shape[0])\n",
    "\n",
    "        self.gamma = 0.99\n",
    "        return V, W\n",
    "    \n",
    "    '''\n",
    "    def forward(self, A):\n",
    "\n",
    "        # Initialize V and W with the batch size in the first dimension\n",
    "        V = torch.ones(A.shape[0], self.M, self.L)\n",
    "        W = torch.ones(A.shape[0], self.L, self.N)\n",
    "\n",
    "        for _ in range(self.T):\n",
    "            \n",
    "            HV = torch.outer(self.hV, self.hV) + self.tauV * torch.eye(self.L)\n",
    "            HW = torch.outer(self.hW, self.hW) + self.tauW * torch.eye(self.L)\n",
    "\n",
    "            # Compute V and W using batched matrix multiplication\n",
    "            V = (1 - self.gamma) * V + self.gamma * nn.functional.relu((A @ W.transpose(1, 2) @ HV[None, :, :]))\n",
    "            W = (1 - self.gamma) * W + self.gamma * nn.functional.relu((HW[None, :, :] @ V.transpose(1, 2) @ A))\n",
    "\n",
    "            # Update gamma\n",
    "            self.gamma *= 0.99\n",
    "\n",
    "        return V, W\n",
    "    '''"
   ]
  },
  {
   "cell_type": "code",
   "execution_count": 91,
   "metadata": {},
   "outputs": [],
   "source": [
    "class MatrixDataset():\n",
    "    def __init__(self, M, N, size = 1000, batch_size = 256):\n",
    "        \n",
    "        self.M = M          # Number of samples in the original signal\n",
    "        self.N = N          # Number of samples through the linear transformation\n",
    "\n",
    "        self.size = size    # Size of the dataset\n",
    "        self.batch_size = batch_size\n",
    "\n",
    "        # Preallocation\n",
    "        self.A = torch.zeros(self.size,self.M,self.N)\n",
    "\n",
    "        # Generating the dataset\n",
    "        self.set_data()\n",
    "\n",
    "\n",
    "    def set_matrix(self, i):\n",
    "\n",
    "        # Generating random sparsity in the canonic basis of the original signal\n",
    "        A = torch.randn(self.M, self.N)\n",
    "        A /= torch.linalg.norm(A, axis = 0)\n",
    "        A = A * (A >= 0)\n",
    "        self.A[i,:,:] = A\n",
    "\n",
    "\n",
    "    def set_data(self):\n",
    "        for i in range(self.size):\n",
    "            self.set_matrix(i)\n",
    "    \n",
    "    \n",
    "    def set_loader(self):\n",
    "        return Data.DataLoader(dataset = Data.TensorDataset(self.A),\n",
    "                               batch_size = self.batch_size,\n",
    "                               shuffle = True)"
   ]
  },
  {
   "cell_type": "code",
   "execution_count": 100,
   "metadata": {},
   "outputs": [],
   "source": [
    "# Dimensions for the matrices\n",
    "m_ = 150\n",
    "n_ = 200\n",
    "\n",
    "# Building a training set and a test set \n",
    "train_set = MatrixDataset(m_, n_, size = 800).set_loader()\n",
    "test_set = MatrixDataset(m_, n_, size = 200).set_loader()"
   ]
  },
  {
   "cell_type": "code",
   "execution_count": 106,
   "metadata": {},
   "outputs": [],
   "source": [
    "def train(model, train_loader, valid_loader, num_epochs=50):\n",
    "\n",
    "    # Initialization\n",
    "    optimizer = torch.optim.SGD(\n",
    "        model.parameters(),\n",
    "        lr=1e-01,\n",
    "        momentum=0.9,\n",
    "        weight_decay=0,\n",
    "    )\n",
    "    scheduler = torch.optim.lr_scheduler.StepLR(\n",
    "        optimizer, step_size=50, gamma=0.1\n",
    "    )\n",
    "\n",
    "    loss_train = np.zeros((num_epochs,))\n",
    "    loss_test = np.zeros((num_epochs,))\n",
    "    \n",
    "    # Main loop\n",
    "\n",
    "    for epoch in range(num_epochs):\n",
    "        model.train()\n",
    "        train_loss = 0\n",
    "        for A in enumerate(train_loader):\n",
    "            V, W = model.forward(A[1][0])\n",
    "            loss = F.mse_loss(torch.bmm(V,W), A[1][0], reduction=\"sum\")\n",
    "            optimizer.zero_grad()\n",
    "            loss.backward()\n",
    "            torch.nn.utils.clip_grad_norm_(model.parameters(), max_norm=1.0)\n",
    "\n",
    "            optimizer.step()\n",
    "            model.zero_grad()\n",
    "            train_loss += loss.data.item()\n",
    "        loss_train[epoch] = train_loss / len(train_loader.dataset)\n",
    "        scheduler.step()\n",
    "\n",
    "        # validation\n",
    "        model.eval()\n",
    "        test_loss = 0\n",
    "        for A in enumerate(valid_loader):\n",
    "            V, W = model.forward(A[1][0])\n",
    "            test_loss += F.mse_loss(torch.bmm(V,W), A[1][0], reduction=\"sum\").data.item()\n",
    "        loss_test[epoch] = test_loss / len(valid_loader.dataset)\n",
    "        \n",
    "        # Print\n",
    "        if epoch % 10 == 0:\n",
    "            print(\n",
    "                \"Epoch %d, Train loss %.8f, Validation loss %.8f\"\n",
    "                % (epoch, loss_train[epoch], loss_test[epoch])\n",
    "            )\n",
    "\n",
    "    return loss_test"
   ]
  },
  {
   "cell_type": "code",
   "execution_count": 102,
   "metadata": {},
   "outputs": [],
   "source": [
    "model = DNMF(m_, n_, 20)"
   ]
  },
  {
   "cell_type": "code",
   "execution_count": 103,
   "metadata": {},
   "outputs": [
    {
     "data": {
      "text/plain": [
       "0.99"
      ]
     },
     "execution_count": 103,
     "metadata": {},
     "output_type": "execute_result"
    }
   ],
   "source": [
    "model.gamma"
   ]
  },
  {
   "cell_type": "code",
   "execution_count": 108,
   "metadata": {},
   "outputs": [
    {
     "data": {
      "text/plain": [
       "[Parameter containing:\n",
       " tensor([1.3590e-01, 1.5661e-01, 1.5481e-01, 1.2766e-01, 6.3730e-01, 5.9731e-02,\n",
       "         1.2047e-01, 4.8991e-01, 1.4565e-01, 1.4551e-01, 5.1586e-02, 1.7439e-02,\n",
       "         1.3281e-01, 2.8497e-04, 1.4031e-01, 6.4182e-02, 8.5476e-02, 1.3126e-01,\n",
       "         2.1675e-01, 1.4447e-01], requires_grad=True),\n",
       " Parameter containing:\n",
       " tensor([-0.0942,  0.0692, -0.1136, -0.0339,  0.1406,  0.1367,  0.2212, -0.0911,\n",
       "          0.0329, -0.0097,  0.1642,  0.0596, -0.0748,  0.1066, -0.0152,  0.1148,\n",
       "         -0.0428, -0.0310, -0.1471,  0.0116], requires_grad=True),\n",
       " Parameter containing:\n",
       " tensor([0.0020], requires_grad=True),\n",
       " Parameter containing:\n",
       " tensor([-0.0010], requires_grad=True)]"
      ]
     },
     "execution_count": 108,
     "metadata": {},
     "output_type": "execute_result"
    }
   ],
   "source": [
    "[p for p in list(model.parameters()) if p.is_leaf]"
   ]
  },
  {
   "cell_type": "code",
   "execution_count": null,
   "metadata": {},
   "outputs": [],
   "source": [
    "train(model, train_set, test_set)"
   ]
  },
  {
   "cell_type": "code",
   "execution_count": 109,
   "metadata": {},
   "outputs": [],
   "source": [
    "import torch.nn.functional as F\n",
    "\n",
    "def NNMF_SCA_BATCH(A, L, lambda_v=0.1, lambda_w=0.1, eta_v=0.9, eta_w=0.9, max_iter=40):\n",
    "    device = A.device  # Ensure operations are performed on the same device as input\n",
    "    batch_size, m, n = A.shape\n",
    "\n",
    "    V = torch.ones((batch_size, m, L), device=device)\n",
    "    W = torch.ones((batch_size, L, n), device=device)\n",
    "\n",
    "    # Frobenius distances for each iteration\n",
    "    D = torch.zeros(max_iter, device=device)\n",
    "    D[0] = torch.norm(A - torch.bmm(V, W), p='fro')\n",
    "\n",
    "    for it in tqdm(range(1, max_iter)):\n",
    "        # Local optimization step\n",
    "        WWT_inv = torch.linalg.inv(torch.bmm(W, W.transpose(1, 2)) + lambda_v * torch.eye(L, device=device).unsqueeze(0))\n",
    "        V_hat = torch.bmm(torch.bmm(A, W.transpose(1, 2)), WWT_inv)\n",
    "        V_hat = torch.relu(V_hat)  # Ensure non-negativity\n",
    "\n",
    "        VTV_inv = torch.linalg.inv(torch.bmm(V.transpose(1, 2), V) + lambda_w * torch.eye(L, device=device).unsqueeze(0))\n",
    "        W_hat = torch.bmm(VTV_inv, torch.bmm(V.transpose(1, 2), A))\n",
    "        W_hat = torch.relu(W_hat)  # Ensure non-negativity\n",
    "\n",
    "        # Global smoothing step\n",
    "        V = V + eta_v * (V_hat - V)\n",
    "        W = W + eta_w * (W_hat - W)\n",
    "\n",
    "        # Decreasing stepsize\n",
    "        eta_v *= 0.99\n",
    "        eta_w *= 0.99\n",
    "\n",
    "        # Storing the reconstruction error\n",
    "        D[it] = torch.norm(A - torch.bmm(V, W), p='fro')/A.shape[0]\n",
    "\n",
    "    return (V, W), D"
   ]
  },
  {
   "cell_type": "code",
   "execution_count": 49,
   "metadata": {},
   "outputs": [],
   "source": [
    "model.gamma = 0.99 \n",
    "model.loss = []"
   ]
  },
  {
   "cell_type": "code",
   "execution_count": 110,
   "metadata": {},
   "outputs": [
    {
     "name": "stderr",
     "output_type": "stream",
     "text": [
      "100%|██████████| 39/39 [00:02<00:00, 19.42it/s]\n"
     ]
    }
   ],
   "source": [
    "A = torch.randn(256, 150, 200) \n",
    "A /= torch.linalg.norm(A, axis = 0)\n",
    "A = A * (A >= 0)\n",
    "\n",
    "(V, W), D = NNMF_SCA_BATCH(A, L=20)\n",
    "\n",
    "V,W = model.forward(A, True)"
   ]
  },
  {
   "cell_type": "code",
   "execution_count": 111,
   "metadata": {},
   "outputs": [
    {
     "data": {
      "text/plain": [
       "tensor([[[2.8989e-14, 2.8989e-14, 2.8989e-14,  ..., 2.8989e-14,\n",
       "          2.8989e-14, 2.8989e-14],\n",
       "         [1.0731e-08, 9.4271e-09, 1.0187e-08,  ..., 7.9210e-09,\n",
       "          8.7165e-09, 9.4188e-09],\n",
       "         [2.8989e-14, 2.8989e-14, 2.8989e-14,  ..., 2.8989e-14,\n",
       "          2.8989e-14, 2.8989e-14],\n",
       "         ...,\n",
       "         [2.8989e-14, 2.8989e-14, 2.8989e-14,  ..., 2.8989e-14,\n",
       "          2.8989e-14, 2.8989e-14],\n",
       "         [2.8989e-14, 2.8989e-14, 2.8989e-14,  ..., 2.8989e-14,\n",
       "          2.8989e-14, 2.8989e-14],\n",
       "         [1.7917e-09, 1.5739e-09, 1.7007e-09,  ..., 1.3225e-09,\n",
       "          1.4553e-09, 1.5725e-09]],\n",
       "\n",
       "        [[2.8989e-14, 2.8989e-14, 2.8989e-14,  ..., 2.8989e-14,\n",
       "          2.8989e-14, 2.8989e-14],\n",
       "         [1.1008e-08, 8.5883e-09, 1.1938e-08,  ..., 9.9219e-09,\n",
       "          8.9382e-09, 1.1056e-08],\n",
       "         [2.8989e-14, 2.8989e-14, 2.8989e-14,  ..., 2.8989e-14,\n",
       "          2.8989e-14, 2.8989e-14],\n",
       "         ...,\n",
       "         [2.8989e-14, 2.8989e-14, 2.8989e-14,  ..., 2.8989e-14,\n",
       "          2.8989e-14, 2.8989e-14],\n",
       "         [2.8989e-14, 2.8989e-14, 2.8989e-14,  ..., 2.8989e-14,\n",
       "          2.8989e-14, 2.8989e-14],\n",
       "         [1.8378e-09, 1.4339e-09, 1.9932e-09,  ..., 1.6565e-09,\n",
       "          1.4923e-09, 1.8458e-09]],\n",
       "\n",
       "        [[2.8989e-14, 2.8989e-14, 2.8989e-14,  ..., 2.8989e-14,\n",
       "          2.8989e-14, 2.8989e-14],\n",
       "         [1.0451e-08, 8.3825e-09, 9.4751e-09,  ..., 1.1248e-08,\n",
       "          9.3819e-09, 9.2029e-09],\n",
       "         [2.8989e-14, 2.8989e-14, 2.8989e-14,  ..., 2.8989e-14,\n",
       "          2.8989e-14, 2.8989e-14],\n",
       "         ...,\n",
       "         [2.8989e-14, 2.8989e-14, 2.8989e-14,  ..., 2.8989e-14,\n",
       "          2.8989e-14, 2.8989e-14],\n",
       "         [2.8989e-14, 2.8989e-14, 2.8989e-14,  ..., 2.8989e-14,\n",
       "          2.8989e-14, 2.8989e-14],\n",
       "         [1.7448e-09, 1.3995e-09, 1.5819e-09,  ..., 1.8780e-09,\n",
       "          1.5663e-09, 1.5365e-09]],\n",
       "\n",
       "        ...,\n",
       "\n",
       "        [[2.8989e-14, 2.8989e-14, 2.8989e-14,  ..., 2.8989e-14,\n",
       "          2.8989e-14, 2.8989e-14],\n",
       "         [9.2569e-09, 9.2095e-09, 9.2379e-09,  ..., 8.5268e-09,\n",
       "          1.1746e-08, 1.1484e-08],\n",
       "         [2.8989e-14, 2.8989e-14, 2.8989e-14,  ..., 2.8989e-14,\n",
       "          2.8989e-14, 2.8989e-14],\n",
       "         ...,\n",
       "         [2.8989e-14, 2.8989e-14, 2.8989e-14,  ..., 2.8989e-14,\n",
       "          2.8989e-14, 2.8989e-14],\n",
       "         [2.8989e-14, 2.8989e-14, 2.8989e-14,  ..., 2.8989e-14,\n",
       "          2.8989e-14, 2.8989e-14],\n",
       "         [1.5455e-09, 1.5376e-09, 1.5423e-09,  ..., 1.4236e-09,\n",
       "          1.9610e-09, 1.9173e-09]],\n",
       "\n",
       "        [[2.8989e-14, 2.8989e-14, 2.8989e-14,  ..., 2.8989e-14,\n",
       "          2.8989e-14, 2.8989e-14],\n",
       "         [1.0146e-08, 1.2837e-08, 9.1591e-09,  ..., 9.6608e-09,\n",
       "          9.7857e-09, 9.9539e-09],\n",
       "         [2.8989e-14, 2.8989e-14, 2.8989e-14,  ..., 2.8989e-14,\n",
       "          2.8989e-14, 2.8989e-14],\n",
       "         ...,\n",
       "         [2.8989e-14, 2.8989e-14, 2.8989e-14,  ..., 2.8989e-14,\n",
       "          2.8989e-14, 2.8989e-14],\n",
       "         [2.8989e-14, 2.8989e-14, 2.8989e-14,  ..., 2.8989e-14,\n",
       "          2.8989e-14, 2.8989e-14],\n",
       "         [1.6940e-09, 2.1432e-09, 1.5291e-09,  ..., 1.6129e-09,\n",
       "          1.6338e-09, 1.6618e-09]],\n",
       "\n",
       "        [[2.8989e-14, 2.8989e-14, 2.8989e-14,  ..., 2.8989e-14,\n",
       "          2.8989e-14, 2.8989e-14],\n",
       "         [9.7565e-09, 1.0818e-08, 9.3739e-09,  ..., 9.5046e-09,\n",
       "          9.4443e-09, 8.3647e-09],\n",
       "         [2.8989e-14, 2.8989e-14, 2.8989e-14,  ..., 2.8989e-14,\n",
       "          2.8989e-14, 2.8989e-14],\n",
       "         ...,\n",
       "         [2.8989e-14, 2.8989e-14, 2.8989e-14,  ..., 2.8989e-14,\n",
       "          2.8989e-14, 2.8989e-14],\n",
       "         [2.8989e-14, 2.8989e-14, 2.8989e-14,  ..., 2.8989e-14,\n",
       "          2.8989e-14, 2.8989e-14],\n",
       "         [1.6289e-09, 1.8061e-09, 1.5650e-09,  ..., 1.5868e-09,\n",
       "          1.5768e-09, 1.3965e-09]]], grad_fn=<AddBackward0>)"
      ]
     },
     "execution_count": 111,
     "metadata": {},
     "output_type": "execute_result"
    }
   ],
   "source": [
    "W"
   ]
  },
  {
   "cell_type": "code",
   "execution_count": 112,
   "metadata": {},
   "outputs": [
    {
     "data": {
      "text/plain": [
       "tensor([5.5357e+04, 1.9833e+00, 4.2731e-01, 4.7825e-01, 4.0569e-01, 4.0404e-01,\n",
       "        3.9641e-01, 3.9386e-01, 3.9344e-01, 3.9250e-01, 3.9269e-01, 3.9240e-01,\n",
       "        3.9251e-01, 3.9243e-01, 3.9246e-01, 3.9220e-01, 3.8778e-01, 3.9184e-01,\n",
       "        3.9820e-01, 3.8624e-01, 3.7361e-01, 3.6590e-01, 3.6089e-01, 3.5784e-01,\n",
       "        3.5595e-01, 3.5471e-01, 3.5382e-01, 3.5312e-01, 3.5253e-01, 3.5203e-01,\n",
       "        3.5158e-01, 3.5118e-01, 3.5082e-01, 3.5049e-01, 3.5018e-01, 3.4991e-01,\n",
       "        3.4965e-01, 3.4941e-01, 3.4919e-01, 3.4898e-01])"
      ]
     },
     "execution_count": 112,
     "metadata": {},
     "output_type": "execute_result"
    }
   ],
   "source": [
    "D"
   ]
  },
  {
   "cell_type": "code",
   "execution_count": 115,
   "metadata": {},
   "outputs": [
    {
     "data": {
      "text/plain": [
       "[<matplotlib.lines.Line2D at 0x1975c64c8b0>]"
      ]
     },
     "execution_count": 115,
     "metadata": {},
     "output_type": "execute_result"
    },
    {
     "data": {
      "image/png": "[encoded data removed]",
      "text/plain": [
       "<Figure size 640x480 with 1 Axes>"
      ]
     },
     "metadata": {},
     "output_type": "display_data"
    }
   ],
   "source": [
    "plt.plot(D[2:])\n",
    "plt.plot([L.detach().numpy() for L in model.loss][2:])"
   ]
  },
  {
   "cell_type": "code",
   "execution_count": 114,
   "metadata": {},
   "outputs": [
    {
     "data": {
      "text/plain": [
       "[tensor(47.2360, grad_fn=<DivBackward0>),\n",
       " tensor(0.4991, grad_fn=<DivBackward0>),\n",
       " tensor(0.4732, grad_fn=<DivBackward0>),\n",
       " tensor(0.4783, grad_fn=<DivBackward0>),\n",
       " tensor(0.4784, grad_fn=<DivBackward0>),\n",
       " tensor(0.4784, grad_fn=<DivBackward0>),\n",
       " tensor(0.4784, grad_fn=<DivBackward0>),\n",
       " tensor(0.4784, grad_fn=<DivBackward0>),\n",
       " tensor(0.4784, grad_fn=<DivBackward0>),\n",
       " tensor(0.4784, grad_fn=<DivBackward0>)]"
      ]
     },
     "execution_count": 114,
     "metadata": {},
     "output_type": "execute_result"
    }
   ],
   "source": [
    "model.loss"
   ]
  },
  {
   "cell_type": "code",
   "execution_count": 39,
   "metadata": {},
   "outputs": [
    {
     "data": {
      "text/plain": [
       "[<matplotlib.lines.Line2D at 0x19759eea500>]"
      ]
     },
     "execution_count": 39,
     "metadata": {},
     "output_type": "execute_result"
    },
    {
     "data": {
      "image/png": "[encoded data removed]",
      "text/plain": [
       "<Figure size 640x480 with 1 Axes>"
      ]
     },
     "metadata": {},
     "output_type": "display_data"
    }
   ],
   "source": [
    "plt.plot([L.detach().numpy() for L in model.loss])"
   ]
  },
  {
   "cell_type": "code",
   "execution_count": null,
   "metadata": {},
   "outputs": [],
   "source": []
  }
 ],
 "metadata": {
  "kernelspec": {
   "display_name": "Python 3",
   "language": "python",
   "name": "python3"
  },
  "language_info": {
   "codemirror_mode": {
    "name": "ipython",
    "version": 3
   },
   "file_extension": ".py",
   "mimetype": "text/x-python",
   "name": "python",
   "nbconvert_exporter": "python",
   "pygments_lexer": "ipython3",
   "version": "3.10.7"
  }
 },
 "nbformat": 4,
 "nbformat_minor": 2
}
